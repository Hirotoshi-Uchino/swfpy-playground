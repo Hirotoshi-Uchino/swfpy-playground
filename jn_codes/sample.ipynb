{
 "cells": [
  {
   "cell_type": "code",
   "execution_count": 1,
   "metadata": {},
   "outputs": [],
   "source": [
    "import pyspedas\n",
    "import pytplot\n",
    "\n"
   ]
  },
  {
   "cell_type": "code",
   "execution_count": 2,
   "metadata": {},
   "outputs": [
    {
     "name": "stdout",
     "output_type": "stream",
     "text": [
      "Preferences file: /home/hirotoshi/PycharmProjects/swfpy/config.yml\n",
      "pyspedas version: 0.8.6\n",
      "1. File was downloaded. Location: /Volumes/data/pyspedas/omni/hro_1min/2015/omni_hro_1min_20151201_v01.cdf\n",
      "2. File was downloaded. Location: /Volumes/data/pyspedas/omni/hro_1min/2016/omni_hro_1min_20160101_v01.cdf\n",
      "Downloaded 2 files.\n",
      "Loaded 42 variables.\n",
      "Time clip was applied to: IMF\n",
      "Time clip was applied to: PLS\n",
      "Time clip was applied to: IMF_PTS\n",
      "Time clip was applied to: PLS_PTS\n",
      "Time clip was applied to: percent_interp\n",
      "Time clip was applied to: Timeshift\n",
      "Time clip was applied to: RMS_Timeshift\n",
      "Time clip was applied to: RMS_phase\n",
      "Time clip was applied to: Time_btwn_obs\n",
      "Time clip was applied to: F\n",
      "Time clip was applied to: BX_GSE\n",
      "Time clip was applied to: BY_GSE\n",
      "Time clip was applied to: BZ_GSE\n",
      "Time clip was applied to: BY_GSM\n",
      "Time clip was applied to: BZ_GSM\n",
      "Time clip was applied to: RMS_SD_B\n",
      "Time clip was applied to: RMS_SD_fld_vec\n",
      "Time clip was applied to: flow_speed\n",
      "Time clip was applied to: Vx\n",
      "Time clip was applied to: Vy\n",
      "Time clip was applied to: Vz\n",
      "Time clip was applied to: proton_density\n",
      "Time clip was applied to: T\n",
      "Time clip was applied to: Pressure\n",
      "Time clip was applied to: E\n",
      "Time clip was applied to: Beta\n",
      "Time clip was applied to: Mach_num\n",
      "Time clip was applied to: Mgs_mach_num\n",
      "Time clip was applied to: x\n",
      "Time clip was applied to: y\n",
      "Time clip was applied to: z\n",
      "Time clip was applied to: BSN_x\n",
      "Time clip was applied to: BSN_y\n",
      "Time clip was applied to: BSN_z\n",
      "Time clip was applied to: AE_INDEX\n",
      "Time clip was applied to: AL_INDEX\n",
      "Time clip was applied to: AU_INDEX\n",
      "Time clip was applied to: SYM_D\n",
      "Time clip was applied to: SYM_H\n",
      "Time clip was applied to: ASY_D\n",
      "Time clip was applied to: ASY_H\n",
      "Time clip was applied to: PC_N_INDEX\n",
      "Data loading finished.\n"
     ]
    }
   ],
   "source": [
    "pyspedas.version()\n",
    "# Delete any existing pytplot variables\n",
    "pytplot.del_data()\n",
    "# Download OMNI data for 2015-12-31\n",
    "pyspedas.load_data('omni', ['2015-12-31 00:00:00',\n",
    "                            '2016-01-01 23:59:59'], '', '', '1min')\n",
    "\n",
    "# Plot\n",
    "pytplot.tplot_options('title', 'OMNI flow_speed 2015-12-31 to 2016-01-01')\n",
    "pytplot.tplot(['F', 'BX_GSE', 'BY_GSE', 'BZ_GSE'])"
   ]
  },
  {
   "cell_type": "code",
   "execution_count": null,
   "metadata": {},
   "outputs": [],
   "source": []
  }
 ],
 "metadata": {
  "kernelspec": {
   "display_name": "Python 3",
   "language": "python",
   "name": "python3"
  },
  "language_info": {
   "codemirror_mode": {
    "name": "ipython",
    "version": 3
   },
   "file_extension": ".py",
   "mimetype": "text/x-python",
   "name": "python",
   "nbconvert_exporter": "python",
   "pygments_lexer": "ipython3",
   "version": "3.7.3"
  }
 },
 "nbformat": 4,
 "nbformat_minor": 2
}
