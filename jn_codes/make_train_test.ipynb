{
 "cells": [
  {
   "cell_type": "code",
   "execution_count": 1,
   "metadata": {},
   "outputs": [],
   "source": [
    "from pytplot import get_data, del_data\n",
    "from pyspedas import load_data, time_string\n",
    "\n",
    "import pandas as pd\n",
    "import numpy as np\n",
    "\n"
   ]
  },
  {
   "cell_type": "code",
   "execution_count": 2,
   "metadata": {},
   "outputs": [],
   "source": [
    "# event定義ファイル\n",
    "events_file='/home/hirotoshi/PycharmProjects/swfpy/playground/worklogs/magnetic_storm_events.csv'\n",
    "\n",
    "\n",
    "dst_event_dir  = '/Volumes/data/swfpy/ml/storm_datasets/Gruet_2018/all/DST/'\n",
    "omni_event_dir = '/Volumes/data/swfpy/ml/storm_datasets/Gruet_2018/all/omni_5min/'\n",
    "\n",
    "train_output_dir      = '/Volumes/data/swfpy/ml/storm_datasets/Gruet_2018/train/'\n",
    "train_dst_output_dir  = train_output_dir + 'DST/'\n",
    "train_omni_output_dir = train_output_dir + 'omni_5min/'\n",
    "\n",
    "test_output_dir       = '/Volumes/data/swfpy/ml/storm_datasets/Gruet_2018/test/'\n",
    "test_dst_output_dir   = test_output_dir + 'DST/'\n",
    "test_omni_output_dir  = test_output_dir + 'omni_5min/'\n"
   ]
  },
  {
   "cell_type": "code",
   "execution_count": 3,
   "metadata": {},
   "outputs": [],
   "source": [
    "events_df = pd.read_csv(events_file)\n",
    "train_events_df = events_df[events_df['use_data'] == 'train']\n",
    "test_events_df = events_df[events_df['use_data'] == 'test']"
   ]
  },
  {
   "cell_type": "code",
   "execution_count": 9,
   "metadata": {},
   "outputs": [],
   "source": [
    "from glob import glob\n",
    "from datetime import datetime\n",
    "import os\n",
    "import shutil\n",
    "\n",
    "dst_events  = glob(dst_event_dir + '*')\n",
    "omni_events = glob(omni_event_dir + '*')\n",
    "dst_events_set  = set(dst_events)\n",
    "omni_events_set = set(omni_events)\n",
    "\n",
    "# trainの場合\n",
    "for index, event in train_events_df.iterrows():\n",
    "    Data_start = event.Data_start\n",
    "    Data_end   = event.Data_end\n",
    "    start_dt = datetime.strptime(Data_start, '%Y-%m-%d %H:%M')\n",
    "    end_dt   = datetime.strptime(Data_end, '%Y-%m-%d %H:%M')\n",
    "    start_end_string = start_dt.strftime('%Y%m%d%H') + '_' + end_dt.strftime('%Y%m%d%H')\n",
    "    \n",
    "    dst_full_path  = dst_event_dir  + 'storm_DST_' + start_end_string + '.csv'\n",
    "    omni_full_path = omni_event_dir + 'storm_OMNI_' + start_end_string + '.csv'\n",
    "    \n",
    "    if dst_full_path in dst_events_set:\n",
    "        shutil.copyfile(dst_full_path, train_dst_output_dir + os.path.basename(dst_full_path))\n",
    "        shutil.copyfile(omni_full_path, train_omni_output_dir + os.path.basename(omni_full_path))\n",
    "\n",
    "        \n",
    "# testの場合\n",
    "for index, event in test_events_df.iterrows():\n",
    "    Data_start = event.Data_start\n",
    "    Data_end   = event.Data_end\n",
    "    start_dt = datetime.strptime(Data_start, '%Y-%m-%d %H:%M')\n",
    "    end_dt   = datetime.strptime(Data_end, '%Y-%m-%d %H:%M')\n",
    "    start_end_string = start_dt.strftime('%Y%m%d%H') + '_' + end_dt.strftime('%Y%m%d%H')\n",
    "    \n",
    "    dst_full_path  = dst_event_dir  + 'storm_DST_' + start_end_string + '.csv'\n",
    "    omni_full_path = omni_event_dir + 'storm_OMNI_' + start_end_string + '.csv'\n",
    "    \n",
    "    if dst_full_path in dst_events_set:\n",
    "        shutil.copyfile(dst_full_path, test_dst_output_dir + os.path.basename(dst_full_path))\n",
    "        shutil.copyfile(omni_full_path, test_omni_output_dir + os.path.basename(omni_full_path))\n",
    "    "
   ]
  },
  {
   "cell_type": "code",
   "execution_count": null,
   "metadata": {},
   "outputs": [],
   "source": []
  }
 ],
 "metadata": {
  "kernelspec": {
   "display_name": "Python 3",
   "language": "python",
   "name": "python3"
  },
  "language_info": {
   "codemirror_mode": {
    "name": "ipython",
    "version": 3
   },
   "file_extension": ".py",
   "mimetype": "text/x-python",
   "name": "python",
   "nbconvert_exporter": "python",
   "pygments_lexer": "ipython3",
   "version": "3.7.3"
  }
 },
 "nbformat": 4,
 "nbformat_minor": 2
}
