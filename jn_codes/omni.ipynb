{
 "cells": [
  {
   "cell_type": "code",
   "execution_count": null,
   "metadata": {},
   "outputs": [],
   "source": [
    "import pyspedas\n",
    "import pytplot\n"
   ]
  },
  {
   "cell_type": "code",
   "execution_count": null,
   "metadata": {},
   "outputs": [],
   "source": [
    "pyspedas.version()\n",
    "# Delete any existing pytplot variables\n",
    "pytplot.del_data()\n",
    "# Download OMNI data for 2015-12-31\n",
    "pyspedas.load_data('omni', ['2015-12-31 00:00:00',\n",
    "                            '2016-01-01 23:59:59'], '', '', '1min')\n",
    "\n",
    "# Plot\n",
    "pytplot.tplot_options('title', 'OMNI flow_speed 2015-12-31 to 2016-01-01')\n",
    "pytplot.tplot(['F', 'BX_GSE', 'BY_GSE', 'BZ_GSE'])"
   ]
  },
  {
   "cell_type": "code",
   "execution_count": 57,
   "metadata": {},
   "outputs": [
    {
     "name": "stderr",
     "output_type": "stream",
     "text": [
      "14- 7月-19 23:09:09: /home/hirotoshi/PycharmProjects/swfpy/venv/lib/python3.7/site-packages/cdflib/cdfread.py:1122: ResourceWarning: unclosed <ssl.SSLSocket [closed] fd=84, family=AddressFamily.AF_INET, type=SocketKind.SOCK_STREAM, proto=6>\n",
      "  block_size = int.from_bytes(f.read(8), 'big')  # Block Size\n",
      "\n",
      "14- 7月-19 23:09:09: /home/hirotoshi/PycharmProjects/swfpy/venv/lib/python3.7/site-packages/cdflib/cdfread.py:1122: ResourceWarning: unclosed <ssl.SSLSocket [closed] fd=85, family=AddressFamily.AF_INET, type=SocketKind.SOCK_STREAM, proto=6>\n",
      "  block_size = int.from_bytes(f.read(8), 'big')  # Block Size\n",
      "\n",
      "14- 7月-19 23:09:09: /home/hirotoshi/PycharmProjects/swfpy/venv/lib/python3.7/site-packages/cdflib/cdfread.py:1122: ResourceWarning: unclosed <ssl.SSLSocket [closed] fd=86, family=AddressFamily.AF_INET, type=SocketKind.SOCK_STREAM, proto=6>\n",
      "  block_size = int.from_bytes(f.read(8), 'big')  # Block Size\n",
      "\n"
     ]
    },
    {
     "name": "stdout",
     "output_type": "stream",
     "text": [
      "1. File was downloaded. Location: /Volumes/data/pyspedas/omni/hro_1min/2010/omni_hro_1min_20101001_v01.cdf\n",
      "Downloaded 1 files.\n",
      "Loaded 42 variables.\n"
     ]
    },
    {
     "ename": "IndexError",
     "evalue": "list index out of range",
     "output_type": "error",
     "traceback": [
      "\u001b[0;31m---------------------------------------------------------------------------\u001b[0m",
      "\u001b[0;31mIndexError\u001b[0m                                Traceback (most recent call last)",
      "\u001b[0;32m<ipython-input-57-4878d2a3f7c7>\u001b[0m in \u001b[0;36m<module>\u001b[0;34m\u001b[0m\n\u001b[1;32m      4\u001b[0m \u001b[0;31m#                             '2016-01-01 23:59:59'], '', '', '1min')\u001b[0m\u001b[0;34m\u001b[0m\u001b[0;34m\u001b[0m\u001b[0;34m\u001b[0m\u001b[0m\n\u001b[1;32m      5\u001b[0m \u001b[0;34m\u001b[0m\u001b[0m\n\u001b[0;32m----> 6\u001b[0;31m \u001b[0mpyspedas\u001b[0m\u001b[0;34m.\u001b[0m\u001b[0mload_data\u001b[0m\u001b[0;34m(\u001b[0m\u001b[0;34m'omni'\u001b[0m\u001b[0;34m,\u001b[0m \u001b[0;34m[\u001b[0m\u001b[0;34m'2010-10-01'\u001b[0m\u001b[0;34m]\u001b[0m\u001b[0;34m,\u001b[0m \u001b[0;34m''\u001b[0m\u001b[0;34m,\u001b[0m \u001b[0;34m''\u001b[0m\u001b[0;34m,\u001b[0m \u001b[0;34m'1min'\u001b[0m\u001b[0;34m)\u001b[0m\u001b[0;34m\u001b[0m\u001b[0;34m\u001b[0m\u001b[0m\n\u001b[0m",
      "\u001b[0;32m~/PycharmProjects/pyspedas/pyspedas/load_data.py\u001b[0m in \u001b[0;36mload_data\u001b[0;34m(mission, dates, probes, instruments, level, other, downloadonly, varformat, get_support_data, prefix, suffix)\u001b[0m\n\u001b[1;32m     62\u001b[0m         \u001b[0;31m# level = 1min, 5min\u001b[0m\u001b[0;34m\u001b[0m\u001b[0;34m\u001b[0m\u001b[0;34m\u001b[0m\u001b[0m\n\u001b[1;32m     63\u001b[0m         omni_load(dates, level, downloadonly, varformat, get_support_data,\n\u001b[0;32m---> 64\u001b[0;31m                   prefix, suffix)\n\u001b[0m\u001b[1;32m     65\u001b[0m     \u001b[0;32melse\u001b[0m\u001b[0;34m:\u001b[0m\u001b[0;34m\u001b[0m\u001b[0;34m\u001b[0m\u001b[0m\n\u001b[1;32m     66\u001b[0m         \u001b[0mprint\u001b[0m\u001b[0;34m(\u001b[0m\u001b[0;34m\"Currently, only the THEMIS and OMNI missions are implemented.\"\u001b[0m\u001b[0;34m)\u001b[0m\u001b[0;34m\u001b[0m\u001b[0;34m\u001b[0m\u001b[0m\n",
      "\u001b[0;32m~/PycharmProjects/pyspedas/pyspedas/omni/omni_load.py\u001b[0m in \u001b[0;36momni_load\u001b[0;34m(dates, level, downloadonly, varformat, get_support_data, prefix, suffix)\u001b[0m\n\u001b[1;32m    114\u001b[0m     \u001b[0;31m# 3. Time clip\u001b[0m\u001b[0;34m\u001b[0m\u001b[0;34m\u001b[0m\u001b[0;34m\u001b[0m\u001b[0m\n\u001b[1;32m    115\u001b[0m     \u001b[0;32mif\u001b[0m \u001b[0mlen\u001b[0m\u001b[0;34m(\u001b[0m\u001b[0mdownloaded_vars\u001b[0m\u001b[0;34m)\u001b[0m \u001b[0;34m>\u001b[0m \u001b[0;36m0\u001b[0m\u001b[0;34m:\u001b[0m\u001b[0;34m\u001b[0m\u001b[0;34m\u001b[0m\u001b[0m\n\u001b[0;32m--> 116\u001b[0;31m         \u001b[0mpyspedas\u001b[0m\u001b[0;34m.\u001b[0m\u001b[0mtime_clip\u001b[0m\u001b[0;34m(\u001b[0m\u001b[0mdownloaded_vars\u001b[0m\u001b[0;34m,\u001b[0m \u001b[0mdates\u001b[0m\u001b[0;34m[\u001b[0m\u001b[0;36m0\u001b[0m\u001b[0;34m]\u001b[0m\u001b[0;34m,\u001b[0m \u001b[0mdates\u001b[0m\u001b[0;34m[\u001b[0m\u001b[0;36m1\u001b[0m\u001b[0;34m]\u001b[0m\u001b[0;34m,\u001b[0m \u001b[0;34m''\u001b[0m\u001b[0;34m)\u001b[0m\u001b[0;34m\u001b[0m\u001b[0;34m\u001b[0m\u001b[0m\n\u001b[0m",
      "\u001b[0;31mIndexError\u001b[0m: list index out of range"
     ]
    }
   ],
   "source": [
    "# 2000 - 2019年6月までの 1分値、5分値のデータをロードする\n",
    "\n",
    "# pyspedas.load_data('omni', ['2015-12-31 00:00:00',\n",
    "#                             '2016-01-01 23:59:59'], '', '', '1min')\n",
    "\n",
    "# pyspedas.load_data('omni', ['2010-10-01'], '', '', '1min')"
   ]
  },
  {
   "cell_type": "code",
   "execution_count": null,
   "metadata": {},
   "outputs": [
    {
     "name": "stdout",
     "output_type": "stream",
     "text": [
      "2000-01-01\n",
      "1. File was downloaded. Location: /Volumes/data/pyspedas/omni/hro_1min/2000/omni_hro_1min_20000101_v01.cdf\n",
      "Downloaded 1 files.\n"
     ]
    },
    {
     "name": "stderr",
     "output_type": "stream",
     "text": [
      "16- 7月-19 22:37:16: /home/hirotoshi/PycharmProjects/swfpy/venv/lib/python3.7/site-packages/cdflib/epochs.py:1465: ResourceWarning: unclosed <ssl.SSLSocket [closed] fd=87, family=AddressFamily.AF_INET, type=SocketKind.SOCK_STREAM, proto=6>\n",
      "  component = []\n",
      "\n",
      "16- 7月-19 22:37:16: /home/hirotoshi/PycharmProjects/swfpy/venv/lib/python3.7/site-packages/cdflib/epochs.py:1465: ResourceWarning: unclosed <ssl.SSLSocket [closed] fd=88, family=AddressFamily.AF_INET, type=SocketKind.SOCK_STREAM, proto=6>\n",
      "  component = []\n",
      "\n",
      "16- 7月-19 22:37:16: /home/hirotoshi/PycharmProjects/swfpy/venv/lib/python3.7/site-packages/cdflib/epochs.py:1465: ResourceWarning: unclosed <ssl.SSLSocket [closed] fd=89, family=AddressFamily.AF_INET, type=SocketKind.SOCK_STREAM, proto=6>\n",
      "  component = []\n",
      "\n"
     ]
    },
    {
     "name": "stdout",
     "output_type": "stream",
     "text": [
      "Loaded 42 variables.\n",
      "index Error\n",
      "2000-02-01\n",
      "1. File was downloaded. Location: /Volumes/data/pyspedas/omni/hro_1min/2000/omni_hro_1min_20000201_v01.cdf\n",
      "Downloaded 1 files.\n"
     ]
    },
    {
     "name": "stderr",
     "output_type": "stream",
     "text": [
      "16- 7月-19 22:37:33: /home/hirotoshi/PycharmProjects/swfpy/venv/lib/python3.7/site-packages/cdflib/epochs.py:1465: ResourceWarning: unclosed <ssl.SSLSocket [closed] fd=87, family=AddressFamily.AF_INET, type=SocketKind.SOCK_STREAM, proto=6>\n",
      "  component = []\n",
      "\n",
      "16- 7月-19 22:37:33: /home/hirotoshi/PycharmProjects/swfpy/venv/lib/python3.7/site-packages/cdflib/epochs.py:1465: ResourceWarning: unclosed <ssl.SSLSocket [closed] fd=88, family=AddressFamily.AF_INET, type=SocketKind.SOCK_STREAM, proto=6>\n",
      "  component = []\n",
      "\n",
      "16- 7月-19 22:37:33: /home/hirotoshi/PycharmProjects/swfpy/venv/lib/python3.7/site-packages/cdflib/epochs.py:1465: ResourceWarning: unclosed <ssl.SSLSocket [closed] fd=89, family=AddressFamily.AF_INET, type=SocketKind.SOCK_STREAM, proto=6>\n",
      "  component = []\n",
      "\n"
     ]
    },
    {
     "name": "stdout",
     "output_type": "stream",
     "text": [
      "Loaded 42 variables.\n",
      "index Error\n",
      "2000-03-01\n"
     ]
    },
    {
     "name": "stderr",
     "output_type": "stream",
     "text": [
      "16- 7月-19 22:38:07: /home/hirotoshi/PycharmProjects/swfpy/venv/lib/python3.7/site-packages/cdflib/epochs.py:1465: ResourceWarning: unclosed <ssl.SSLSocket [closed] fd=87, family=AddressFamily.AF_INET, type=SocketKind.SOCK_STREAM, proto=6>\n",
      "  component = []\n",
      "\n",
      "16- 7月-19 22:38:07: /home/hirotoshi/PycharmProjects/swfpy/venv/lib/python3.7/site-packages/cdflib/epochs.py:1465: ResourceWarning: unclosed <ssl.SSLSocket [closed] fd=88, family=AddressFamily.AF_INET, type=SocketKind.SOCK_STREAM, proto=6>\n",
      "  component = []\n",
      "\n",
      "16- 7月-19 22:38:07: /home/hirotoshi/PycharmProjects/swfpy/venv/lib/python3.7/site-packages/cdflib/epochs.py:1465: ResourceWarning: unclosed <ssl.SSLSocket [closed] fd=89, family=AddressFamily.AF_INET, type=SocketKind.SOCK_STREAM, proto=6>\n",
      "  component = []\n",
      "\n"
     ]
    },
    {
     "name": "stdout",
     "output_type": "stream",
     "text": [
      "1. File was downloaded. Location: /Volumes/data/pyspedas/omni/hro_1min/2000/omni_hro_1min_20000301_v01.cdf\n",
      "Downloaded 1 files.\n",
      "Loaded 42 variables.\n",
      "index Error\n",
      "2000-04-01\n",
      "1. File was downloaded. Location: /Volumes/data/pyspedas/omni/hro_1min/2000/omni_hro_1min_20000401_v01.cdf\n",
      "Downloaded 1 files.\n"
     ]
    },
    {
     "name": "stderr",
     "output_type": "stream",
     "text": [
      "16- 7月-19 22:38:52: /home/hirotoshi/PycharmProjects/swfpy/venv/lib/python3.7/site-packages/cdflib/epochs.py:1465: ResourceWarning: unclosed <ssl.SSLSocket [closed] fd=87, family=AddressFamily.AF_INET, type=SocketKind.SOCK_STREAM, proto=6>\n",
      "  component = []\n",
      "\n",
      "16- 7月-19 22:38:52: /home/hirotoshi/PycharmProjects/swfpy/venv/lib/python3.7/site-packages/cdflib/epochs.py:1465: ResourceWarning: unclosed <ssl.SSLSocket [closed] fd=88, family=AddressFamily.AF_INET, type=SocketKind.SOCK_STREAM, proto=6>\n",
      "  component = []\n",
      "\n",
      "16- 7月-19 22:38:52: /home/hirotoshi/PycharmProjects/swfpy/venv/lib/python3.7/site-packages/cdflib/epochs.py:1465: ResourceWarning: unclosed <ssl.SSLSocket [closed] fd=89, family=AddressFamily.AF_INET, type=SocketKind.SOCK_STREAM, proto=6>\n",
      "  component = []\n",
      "\n"
     ]
    },
    {
     "name": "stdout",
     "output_type": "stream",
     "text": [
      "Loaded 42 variables.\n",
      "index Error\n",
      "2000-05-01\n",
      "1. File was downloaded. Location: /Volumes/data/pyspedas/omni/hro_1min/2000/omni_hro_1min_20000501_v01.cdf\n",
      "Downloaded 1 files.\n"
     ]
    },
    {
     "name": "stderr",
     "output_type": "stream",
     "text": [
      "16- 7月-19 22:39:07: /home/hirotoshi/PycharmProjects/swfpy/venv/lib/python3.7/site-packages/cdflib/epochs.py:1465: ResourceWarning: unclosed <ssl.SSLSocket [closed] fd=87, family=AddressFamily.AF_INET, type=SocketKind.SOCK_STREAM, proto=6>\n",
      "  component = []\n",
      "\n",
      "16- 7月-19 22:39:07: /home/hirotoshi/PycharmProjects/swfpy/venv/lib/python3.7/site-packages/cdflib/epochs.py:1465: ResourceWarning: unclosed <ssl.SSLSocket [closed] fd=88, family=AddressFamily.AF_INET, type=SocketKind.SOCK_STREAM, proto=6>\n",
      "  component = []\n",
      "\n",
      "16- 7月-19 22:39:07: /home/hirotoshi/PycharmProjects/swfpy/venv/lib/python3.7/site-packages/cdflib/epochs.py:1465: ResourceWarning: unclosed <ssl.SSLSocket [closed] fd=89, family=AddressFamily.AF_INET, type=SocketKind.SOCK_STREAM, proto=6>\n",
      "  component = []\n",
      "\n"
     ]
    },
    {
     "name": "stdout",
     "output_type": "stream",
     "text": [
      "Loaded 42 variables.\n",
      "index Error\n",
      "2000-06-01\n",
      "1. File was downloaded. Location: /Volumes/data/pyspedas/omni/hro_1min/2000/omni_hro_1min_20000601_v01.cdf\n",
      "Downloaded 1 files.\n"
     ]
    },
    {
     "name": "stderr",
     "output_type": "stream",
     "text": [
      "16- 7月-19 22:39:45: /home/hirotoshi/PycharmProjects/swfpy/venv/lib/python3.7/site-packages/cdflib/epochs.py:1465: ResourceWarning: unclosed <ssl.SSLSocket [closed] fd=87, family=AddressFamily.AF_INET, type=SocketKind.SOCK_STREAM, proto=6>\n",
      "  component = []\n",
      "\n",
      "16- 7月-19 22:39:45: /home/hirotoshi/PycharmProjects/swfpy/venv/lib/python3.7/site-packages/cdflib/epochs.py:1465: ResourceWarning: unclosed <ssl.SSLSocket [closed] fd=88, family=AddressFamily.AF_INET, type=SocketKind.SOCK_STREAM, proto=6>\n",
      "  component = []\n",
      "\n",
      "16- 7月-19 22:39:45: /home/hirotoshi/PycharmProjects/swfpy/venv/lib/python3.7/site-packages/cdflib/epochs.py:1465: ResourceWarning: unclosed <ssl.SSLSocket [closed] fd=89, family=AddressFamily.AF_INET, type=SocketKind.SOCK_STREAM, proto=6>\n",
      "  component = []\n",
      "\n"
     ]
    },
    {
     "name": "stdout",
     "output_type": "stream",
     "text": [
      "Loaded 42 variables.\n",
      "index Error\n",
      "2000-07-01\n",
      "1. File was downloaded. Location: /Volumes/data/pyspedas/omni/hro_1min/2000/omni_hro_1min_20000701_v01.cdf\n",
      "Downloaded 1 files.\n"
     ]
    },
    {
     "name": "stderr",
     "output_type": "stream",
     "text": [
      "16- 7月-19 22:40:00: /home/hirotoshi/PycharmProjects/swfpy/venv/lib/python3.7/site-packages/cdflib/epochs.py:1465: ResourceWarning: unclosed <ssl.SSLSocket [closed] fd=87, family=AddressFamily.AF_INET, type=SocketKind.SOCK_STREAM, proto=6>\n",
      "  component = []\n",
      "\n",
      "16- 7月-19 22:40:00: /home/hirotoshi/PycharmProjects/swfpy/venv/lib/python3.7/site-packages/cdflib/epochs.py:1465: ResourceWarning: unclosed <ssl.SSLSocket [closed] fd=88, family=AddressFamily.AF_INET, type=SocketKind.SOCK_STREAM, proto=6>\n",
      "  component = []\n",
      "\n",
      "16- 7月-19 22:40:00: /home/hirotoshi/PycharmProjects/swfpy/venv/lib/python3.7/site-packages/cdflib/epochs.py:1465: ResourceWarning: unclosed <ssl.SSLSocket [closed] fd=89, family=AddressFamily.AF_INET, type=SocketKind.SOCK_STREAM, proto=6>\n",
      "  component = []\n",
      "\n"
     ]
    },
    {
     "name": "stdout",
     "output_type": "stream",
     "text": [
      "Loaded 42 variables.\n",
      "index Error\n",
      "2000-08-01\n"
     ]
    },
    {
     "name": "stderr",
     "output_type": "stream",
     "text": [
      "16- 7月-19 22:40:37: /home/hirotoshi/PycharmProjects/swfpy/venv/lib/python3.7/site-packages/cdflib/epochs.py:1465: ResourceWarning: unclosed <ssl.SSLSocket [closed] fd=87, family=AddressFamily.AF_INET, type=SocketKind.SOCK_STREAM, proto=6>\n",
      "  component = []\n",
      "\n",
      "16- 7月-19 22:40:37: /home/hirotoshi/PycharmProjects/swfpy/venv/lib/python3.7/site-packages/cdflib/epochs.py:1465: ResourceWarning: unclosed <ssl.SSLSocket [closed] fd=88, family=AddressFamily.AF_INET, type=SocketKind.SOCK_STREAM, proto=6>\n",
      "  component = []\n",
      "\n",
      "16- 7月-19 22:40:37: /home/hirotoshi/PycharmProjects/swfpy/venv/lib/python3.7/site-packages/cdflib/epochs.py:1465: ResourceWarning: unclosed <ssl.SSLSocket [closed] fd=89, family=AddressFamily.AF_INET, type=SocketKind.SOCK_STREAM, proto=6>\n",
      "  component = []\n",
      "\n"
     ]
    },
    {
     "name": "stdout",
     "output_type": "stream",
     "text": [
      "1. File was downloaded. Location: /Volumes/data/pyspedas/omni/hro_1min/2000/omni_hro_1min_20000801_v01.cdf\n",
      "Downloaded 1 files.\n",
      "Loaded 42 variables.\n",
      "index Error\n",
      "2000-09-01\n",
      "1. File was downloaded. Location: /Volumes/data/pyspedas/omni/hro_1min/2000/omni_hro_1min_20000901_v01.cdf\n",
      "Downloaded 1 files.\n"
     ]
    },
    {
     "name": "stderr",
     "output_type": "stream",
     "text": [
      "16- 7月-19 22:40:55: /home/hirotoshi/PycharmProjects/swfpy/venv/lib/python3.7/site-packages/cdflib/epochs.py:1465: ResourceWarning: unclosed <ssl.SSLSocket [closed] fd=87, family=AddressFamily.AF_INET, type=SocketKind.SOCK_STREAM, proto=6>\n",
      "  component = []\n",
      "\n",
      "16- 7月-19 22:40:55: /home/hirotoshi/PycharmProjects/swfpy/venv/lib/python3.7/site-packages/cdflib/epochs.py:1465: ResourceWarning: unclosed <ssl.SSLSocket [closed] fd=88, family=AddressFamily.AF_INET, type=SocketKind.SOCK_STREAM, proto=6>\n",
      "  component = []\n",
      "\n",
      "16- 7月-19 22:40:55: /home/hirotoshi/PycharmProjects/swfpy/venv/lib/python3.7/site-packages/cdflib/epochs.py:1465: ResourceWarning: unclosed <ssl.SSLSocket [closed] fd=89, family=AddressFamily.AF_INET, type=SocketKind.SOCK_STREAM, proto=6>\n",
      "  component = []\n",
      "\n"
     ]
    },
    {
     "name": "stdout",
     "output_type": "stream",
     "text": [
      "Loaded 42 variables.\n",
      "index Error\n",
      "2000-10-01\n",
      "1. File was downloaded. Location: /Volumes/data/pyspedas/omni/hro_1min/2000/omni_hro_1min_20001001_v01.cdf\n",
      "Downloaded 1 files.\n"
     ]
    },
    {
     "name": "stderr",
     "output_type": "stream",
     "text": [
      "16- 7月-19 22:41:37: /home/hirotoshi/PycharmProjects/swfpy/venv/lib/python3.7/site-packages/cdflib/epochs.py:1465: ResourceWarning: unclosed <ssl.SSLSocket [closed] fd=87, family=AddressFamily.AF_INET, type=SocketKind.SOCK_STREAM, proto=6>\n",
      "  component = []\n",
      "\n",
      "16- 7月-19 22:41:37: /home/hirotoshi/PycharmProjects/swfpy/venv/lib/python3.7/site-packages/cdflib/epochs.py:1465: ResourceWarning: unclosed <ssl.SSLSocket [closed] fd=88, family=AddressFamily.AF_INET, type=SocketKind.SOCK_STREAM, proto=6>\n",
      "  component = []\n",
      "\n",
      "16- 7月-19 22:41:37: /home/hirotoshi/PycharmProjects/swfpy/venv/lib/python3.7/site-packages/cdflib/epochs.py:1465: ResourceWarning: unclosed <ssl.SSLSocket [closed] fd=89, family=AddressFamily.AF_INET, type=SocketKind.SOCK_STREAM, proto=6>\n",
      "  component = []\n",
      "\n"
     ]
    },
    {
     "name": "stdout",
     "output_type": "stream",
     "text": [
      "Loaded 42 variables.\n",
      "index Error\n",
      "2000-11-01\n",
      "1. File was downloaded. Location: /Volumes/data/pyspedas/omni/hro_1min/2000/omni_hro_1min_20001101_v01.cdf\n",
      "Downloaded 1 files.\n"
     ]
    },
    {
     "name": "stderr",
     "output_type": "stream",
     "text": [
      "16- 7月-19 22:42:08: /home/hirotoshi/PycharmProjects/swfpy/venv/lib/python3.7/site-packages/cdflib/epochs.py:1465: ResourceWarning: unclosed <ssl.SSLSocket [closed] fd=87, family=AddressFamily.AF_INET, type=SocketKind.SOCK_STREAM, proto=6>\n",
      "  component = []\n",
      "\n",
      "16- 7月-19 22:42:08: /home/hirotoshi/PycharmProjects/swfpy/venv/lib/python3.7/site-packages/cdflib/epochs.py:1465: ResourceWarning: unclosed <ssl.SSLSocket [closed] fd=88, family=AddressFamily.AF_INET, type=SocketKind.SOCK_STREAM, proto=6>\n",
      "  component = []\n",
      "\n",
      "16- 7月-19 22:42:08: /home/hirotoshi/PycharmProjects/swfpy/venv/lib/python3.7/site-packages/cdflib/epochs.py:1465: ResourceWarning: unclosed <ssl.SSLSocket [closed] fd=89, family=AddressFamily.AF_INET, type=SocketKind.SOCK_STREAM, proto=6>\n",
      "  component = []\n",
      "\n"
     ]
    },
    {
     "name": "stdout",
     "output_type": "stream",
     "text": [
      "Loaded 42 variables.\n",
      "index Error\n",
      "2000-12-01\n",
      "1. File was downloaded. Location: /Volumes/data/pyspedas/omni/hro_1min/2000/omni_hro_1min_20001201_v01.cdf\n",
      "Downloaded 1 files.\n"
     ]
    },
    {
     "name": "stderr",
     "output_type": "stream",
     "text": [
      "16- 7月-19 22:42:43: /home/hirotoshi/PycharmProjects/swfpy/venv/lib/python3.7/site-packages/cdflib/epochs.py:1465: ResourceWarning: unclosed <ssl.SSLSocket [closed] fd=87, family=AddressFamily.AF_INET, type=SocketKind.SOCK_STREAM, proto=6>\n",
      "  component = []\n",
      "\n",
      "16- 7月-19 22:42:43: /home/hirotoshi/PycharmProjects/swfpy/venv/lib/python3.7/site-packages/cdflib/epochs.py:1465: ResourceWarning: unclosed <ssl.SSLSocket [closed] fd=88, family=AddressFamily.AF_INET, type=SocketKind.SOCK_STREAM, proto=6>\n",
      "  component = []\n",
      "\n",
      "16- 7月-19 22:42:43: /home/hirotoshi/PycharmProjects/swfpy/venv/lib/python3.7/site-packages/cdflib/epochs.py:1465: ResourceWarning: unclosed <ssl.SSLSocket [closed] fd=89, family=AddressFamily.AF_INET, type=SocketKind.SOCK_STREAM, proto=6>\n",
      "  component = []\n",
      "\n"
     ]
    },
    {
     "name": "stdout",
     "output_type": "stream",
     "text": [
      "Loaded 42 variables.\n",
      "index Error\n",
      "2001-01-01\n",
      "1. File was downloaded. Location: /Volumes/data/pyspedas/omni/hro_1min/2001/omni_hro_1min_20010101_v01.cdf\n",
      "Downloaded 1 files.\n"
     ]
    },
    {
     "name": "stderr",
     "output_type": "stream",
     "text": [
      "16- 7月-19 22:43:19: /home/hirotoshi/PycharmProjects/swfpy/venv/lib/python3.7/site-packages/cdflib/epochs.py:1465: ResourceWarning: unclosed <ssl.SSLSocket [closed] fd=87, family=AddressFamily.AF_INET, type=SocketKind.SOCK_STREAM, proto=6>\n",
      "  component = []\n",
      "\n",
      "16- 7月-19 22:43:19: /home/hirotoshi/PycharmProjects/swfpy/venv/lib/python3.7/site-packages/cdflib/epochs.py:1465: ResourceWarning: unclosed <ssl.SSLSocket [closed] fd=88, family=AddressFamily.AF_INET, type=SocketKind.SOCK_STREAM, proto=6>\n",
      "  component = []\n",
      "\n",
      "16- 7月-19 22:43:19: /home/hirotoshi/PycharmProjects/swfpy/venv/lib/python3.7/site-packages/cdflib/epochs.py:1465: ResourceWarning: unclosed <ssl.SSLSocket [closed] fd=89, family=AddressFamily.AF_INET, type=SocketKind.SOCK_STREAM, proto=6>\n",
      "  component = []\n",
      "\n"
     ]
    },
    {
     "name": "stdout",
     "output_type": "stream",
     "text": [
      "Loaded 42 variables.\n",
      "index Error\n",
      "2001-02-01\n",
      "1. File was downloaded. Location: /Volumes/data/pyspedas/omni/hro_1min/2001/omni_hro_1min_20010201_v01.cdf\n",
      "Downloaded 1 files.\n"
     ]
    },
    {
     "name": "stderr",
     "output_type": "stream",
     "text": [
      "16- 7月-19 22:43:55: /home/hirotoshi/PycharmProjects/swfpy/venv/lib/python3.7/site-packages/cdflib/epochs.py:1465: ResourceWarning: unclosed <ssl.SSLSocket [closed] fd=87, family=AddressFamily.AF_INET, type=SocketKind.SOCK_STREAM, proto=6>\n",
      "  component = []\n",
      "\n",
      "16- 7月-19 22:43:55: /home/hirotoshi/PycharmProjects/swfpy/venv/lib/python3.7/site-packages/cdflib/epochs.py:1465: ResourceWarning: unclosed <ssl.SSLSocket [closed] fd=88, family=AddressFamily.AF_INET, type=SocketKind.SOCK_STREAM, proto=6>\n",
      "  component = []\n",
      "\n",
      "16- 7月-19 22:43:55: /home/hirotoshi/PycharmProjects/swfpy/venv/lib/python3.7/site-packages/cdflib/epochs.py:1465: ResourceWarning: unclosed <ssl.SSLSocket [closed] fd=89, family=AddressFamily.AF_INET, type=SocketKind.SOCK_STREAM, proto=6>\n",
      "  component = []\n",
      "\n"
     ]
    },
    {
     "name": "stdout",
     "output_type": "stream",
     "text": [
      "Loaded 42 variables.\n",
      "index Error\n",
      "2001-03-01\n",
      "1. File was downloaded. Location: /Volumes/data/pyspedas/omni/hro_1min/2001/omni_hro_1min_20010301_v01.cdf\n",
      "Downloaded 1 files.\n"
     ]
    },
    {
     "name": "stderr",
     "output_type": "stream",
     "text": [
      "16- 7月-19 22:44:21: /home/hirotoshi/PycharmProjects/swfpy/venv/lib/python3.7/site-packages/cdflib/epochs.py:1465: ResourceWarning: unclosed <ssl.SSLSocket [closed] fd=87, family=AddressFamily.AF_INET, type=SocketKind.SOCK_STREAM, proto=6>\n",
      "  component = []\n",
      "\n",
      "16- 7月-19 22:44:21: /home/hirotoshi/PycharmProjects/swfpy/venv/lib/python3.7/site-packages/cdflib/epochs.py:1465: ResourceWarning: unclosed <ssl.SSLSocket [closed] fd=88, family=AddressFamily.AF_INET, type=SocketKind.SOCK_STREAM, proto=6>\n",
      "  component = []\n",
      "\n",
      "16- 7月-19 22:44:21: /home/hirotoshi/PycharmProjects/swfpy/venv/lib/python3.7/site-packages/cdflib/epochs.py:1465: ResourceWarning: unclosed <ssl.SSLSocket [closed] fd=89, family=AddressFamily.AF_INET, type=SocketKind.SOCK_STREAM, proto=6>\n",
      "  component = []\n",
      "\n"
     ]
    },
    {
     "name": "stdout",
     "output_type": "stream",
     "text": [
      "Loaded 42 variables.\n",
      "index Error\n",
      "2001-04-01\n",
      "1. File was downloaded. Location: /Volumes/data/pyspedas/omni/hro_1min/2001/omni_hro_1min_20010401_v01.cdf\n",
      "Downloaded 1 files.\n"
     ]
    },
    {
     "name": "stderr",
     "output_type": "stream",
     "text": [
      "16- 7月-19 22:44:56: /home/hirotoshi/PycharmProjects/swfpy/venv/lib/python3.7/site-packages/cdflib/epochs.py:1465: ResourceWarning: unclosed <ssl.SSLSocket [closed] fd=87, family=AddressFamily.AF_INET, type=SocketKind.SOCK_STREAM, proto=6>\n",
      "  component = []\n",
      "\n",
      "16- 7月-19 22:44:56: /home/hirotoshi/PycharmProjects/swfpy/venv/lib/python3.7/site-packages/cdflib/epochs.py:1465: ResourceWarning: unclosed <ssl.SSLSocket [closed] fd=88, family=AddressFamily.AF_INET, type=SocketKind.SOCK_STREAM, proto=6>\n",
      "  component = []\n",
      "\n",
      "16- 7月-19 22:44:56: /home/hirotoshi/PycharmProjects/swfpy/venv/lib/python3.7/site-packages/cdflib/epochs.py:1465: ResourceWarning: unclosed <ssl.SSLSocket [closed] fd=89, family=AddressFamily.AF_INET, type=SocketKind.SOCK_STREAM, proto=6>\n",
      "  component = []\n",
      "\n"
     ]
    },
    {
     "name": "stdout",
     "output_type": "stream",
     "text": [
      "Loaded 42 variables.\n",
      "index Error\n",
      "2001-05-01\n",
      "1. File was downloaded. Location: /Volumes/data/pyspedas/omni/hro_1min/2001/omni_hro_1min_20010501_v01.cdf\n",
      "Downloaded 1 files.\n"
     ]
    },
    {
     "name": "stderr",
     "output_type": "stream",
     "text": [
      "16- 7月-19 22:45:27: /home/hirotoshi/PycharmProjects/swfpy/venv/lib/python3.7/site-packages/cdflib/epochs.py:1465: ResourceWarning: unclosed <ssl.SSLSocket [closed] fd=87, family=AddressFamily.AF_INET, type=SocketKind.SOCK_STREAM, proto=6>\n",
      "  component = []\n",
      "\n",
      "16- 7月-19 22:45:27: /home/hirotoshi/PycharmProjects/swfpy/venv/lib/python3.7/site-packages/cdflib/epochs.py:1465: ResourceWarning: unclosed <ssl.SSLSocket [closed] fd=88, family=AddressFamily.AF_INET, type=SocketKind.SOCK_STREAM, proto=6>\n",
      "  component = []\n",
      "\n",
      "16- 7月-19 22:45:27: /home/hirotoshi/PycharmProjects/swfpy/venv/lib/python3.7/site-packages/cdflib/epochs.py:1465: ResourceWarning: unclosed <ssl.SSLSocket [closed] fd=89, family=AddressFamily.AF_INET, type=SocketKind.SOCK_STREAM, proto=6>\n",
      "  component = []\n",
      "\n"
     ]
    },
    {
     "name": "stdout",
     "output_type": "stream",
     "text": [
      "Loaded 42 variables.\n",
      "index Error\n",
      "2001-06-01\n",
      "1. File was downloaded. Location: /Volumes/data/pyspedas/omni/hro_1min/2001/omni_hro_1min_20010601_v01.cdf\n",
      "Downloaded 1 files.\n"
     ]
    },
    {
     "name": "stderr",
     "output_type": "stream",
     "text": [
      "16- 7月-19 22:46:26: /home/hirotoshi/PycharmProjects/swfpy/venv/lib/python3.7/site-packages/cdflib/epochs.py:1465: ResourceWarning: unclosed <ssl.SSLSocket [closed] fd=87, family=AddressFamily.AF_INET, type=SocketKind.SOCK_STREAM, proto=6>\n",
      "  component = []\n",
      "\n",
      "16- 7月-19 22:46:26: /home/hirotoshi/PycharmProjects/swfpy/venv/lib/python3.7/site-packages/cdflib/epochs.py:1465: ResourceWarning: unclosed <ssl.SSLSocket [closed] fd=88, family=AddressFamily.AF_INET, type=SocketKind.SOCK_STREAM, proto=6>\n",
      "  component = []\n",
      "\n",
      "16- 7月-19 22:46:26: /home/hirotoshi/PycharmProjects/swfpy/venv/lib/python3.7/site-packages/cdflib/epochs.py:1465: ResourceWarning: unclosed <ssl.SSLSocket [closed] fd=89, family=AddressFamily.AF_INET, type=SocketKind.SOCK_STREAM, proto=6>\n",
      "  component = []\n",
      "\n"
     ]
    },
    {
     "name": "stdout",
     "output_type": "stream",
     "text": [
      "Loaded 42 variables.\n",
      "index Error\n",
      "2001-07-01\n",
      "1. File was downloaded. Location: /Volumes/data/pyspedas/omni/hro_1min/2001/omni_hro_1min_20010701_v01.cdf\n",
      "Downloaded 1 files.\n"
     ]
    },
    {
     "name": "stderr",
     "output_type": "stream",
     "text": [
      "16- 7月-19 22:47:02: /home/hirotoshi/PycharmProjects/swfpy/venv/lib/python3.7/site-packages/cdflib/epochs.py:1465: ResourceWarning: unclosed <ssl.SSLSocket [closed] fd=87, family=AddressFamily.AF_INET, type=SocketKind.SOCK_STREAM, proto=6>\n",
      "  component = []\n",
      "\n",
      "16- 7月-19 22:47:02: /home/hirotoshi/PycharmProjects/swfpy/venv/lib/python3.7/site-packages/cdflib/epochs.py:1465: ResourceWarning: unclosed <ssl.SSLSocket [closed] fd=88, family=AddressFamily.AF_INET, type=SocketKind.SOCK_STREAM, proto=6>\n",
      "  component = []\n",
      "\n",
      "16- 7月-19 22:47:02: /home/hirotoshi/PycharmProjects/swfpy/venv/lib/python3.7/site-packages/cdflib/epochs.py:1465: ResourceWarning: unclosed <ssl.SSLSocket [closed] fd=89, family=AddressFamily.AF_INET, type=SocketKind.SOCK_STREAM, proto=6>\n",
      "  component = []\n",
      "\n"
     ]
    },
    {
     "name": "stdout",
     "output_type": "stream",
     "text": [
      "Loaded 42 variables.\n",
      "index Error\n",
      "2001-08-01\n",
      "1. File was downloaded. Location: /Volumes/data/pyspedas/omni/hro_1min/2001/omni_hro_1min_20010801_v01.cdf\n",
      "Downloaded 1 files.\n"
     ]
    },
    {
     "name": "stderr",
     "output_type": "stream",
     "text": [
      "16- 7月-19 22:47:36: /home/hirotoshi/PycharmProjects/swfpy/venv/lib/python3.7/site-packages/cdflib/epochs.py:1465: ResourceWarning: unclosed <ssl.SSLSocket [closed] fd=87, family=AddressFamily.AF_INET, type=SocketKind.SOCK_STREAM, proto=6>\n",
      "  component = []\n",
      "\n",
      "16- 7月-19 22:47:36: /home/hirotoshi/PycharmProjects/swfpy/venv/lib/python3.7/site-packages/cdflib/epochs.py:1465: ResourceWarning: unclosed <ssl.SSLSocket [closed] fd=88, family=AddressFamily.AF_INET, type=SocketKind.SOCK_STREAM, proto=6>\n",
      "  component = []\n",
      "\n",
      "16- 7月-19 22:47:36: /home/hirotoshi/PycharmProjects/swfpy/venv/lib/python3.7/site-packages/cdflib/epochs.py:1465: ResourceWarning: unclosed <ssl.SSLSocket [closed] fd=89, family=AddressFamily.AF_INET, type=SocketKind.SOCK_STREAM, proto=6>\n",
      "  component = []\n",
      "\n"
     ]
    },
    {
     "name": "stdout",
     "output_type": "stream",
     "text": [
      "Loaded 42 variables.\n",
      "index Error\n",
      "2001-09-01\n",
      "1. File was downloaded. Location: /Volumes/data/pyspedas/omni/hro_1min/2001/omni_hro_1min_20010901_v01.cdf\n",
      "Downloaded 1 files.\n"
     ]
    },
    {
     "name": "stderr",
     "output_type": "stream",
     "text": [
      "16- 7月-19 22:48:12: /home/hirotoshi/PycharmProjects/swfpy/venv/lib/python3.7/site-packages/cdflib/epochs.py:1465: ResourceWarning: unclosed <ssl.SSLSocket [closed] fd=87, family=AddressFamily.AF_INET, type=SocketKind.SOCK_STREAM, proto=6>\n",
      "  component = []\n",
      "\n",
      "16- 7月-19 22:48:12: /home/hirotoshi/PycharmProjects/swfpy/venv/lib/python3.7/site-packages/cdflib/epochs.py:1465: ResourceWarning: unclosed <ssl.SSLSocket [closed] fd=88, family=AddressFamily.AF_INET, type=SocketKind.SOCK_STREAM, proto=6>\n",
      "  component = []\n",
      "\n",
      "16- 7月-19 22:48:12: /home/hirotoshi/PycharmProjects/swfpy/venv/lib/python3.7/site-packages/cdflib/epochs.py:1465: ResourceWarning: unclosed <ssl.SSLSocket [closed] fd=89, family=AddressFamily.AF_INET, type=SocketKind.SOCK_STREAM, proto=6>\n",
      "  component = []\n",
      "\n"
     ]
    },
    {
     "name": "stdout",
     "output_type": "stream",
     "text": [
      "Loaded 42 variables.\n",
      "index Error\n",
      "2001-10-01\n",
      "1. File was downloaded. Location: /Volumes/data/pyspedas/omni/hro_1min/2001/omni_hro_1min_20011001_v01.cdf\n",
      "Downloaded 1 files.\n"
     ]
    },
    {
     "name": "stderr",
     "output_type": "stream",
     "text": [
      "16- 7月-19 22:49:01: /home/hirotoshi/PycharmProjects/swfpy/venv/lib/python3.7/site-packages/cdflib/epochs.py:1465: ResourceWarning: unclosed <ssl.SSLSocket [closed] fd=87, family=AddressFamily.AF_INET, type=SocketKind.SOCK_STREAM, proto=6>\n",
      "  component = []\n",
      "\n",
      "16- 7月-19 22:49:01: /home/hirotoshi/PycharmProjects/swfpy/venv/lib/python3.7/site-packages/cdflib/epochs.py:1465: ResourceWarning: unclosed <ssl.SSLSocket [closed] fd=88, family=AddressFamily.AF_INET, type=SocketKind.SOCK_STREAM, proto=6>\n",
      "  component = []\n",
      "\n",
      "16- 7月-19 22:49:01: /home/hirotoshi/PycharmProjects/swfpy/venv/lib/python3.7/site-packages/cdflib/epochs.py:1465: ResourceWarning: unclosed <ssl.SSLSocket [closed] fd=89, family=AddressFamily.AF_INET, type=SocketKind.SOCK_STREAM, proto=6>\n",
      "  component = []\n",
      "\n"
     ]
    },
    {
     "name": "stdout",
     "output_type": "stream",
     "text": [
      "Loaded 42 variables.\n",
      "index Error\n",
      "2001-11-01\n",
      "1. File was downloaded. Location: /Volumes/data/pyspedas/omni/hro_1min/2001/omni_hro_1min_20011101_v01.cdf\n",
      "Downloaded 1 files.\n"
     ]
    },
    {
     "name": "stderr",
     "output_type": "stream",
     "text": [
      "16- 7月-19 22:49:19: /home/hirotoshi/PycharmProjects/swfpy/venv/lib/python3.7/site-packages/cdflib/epochs.py:1465: ResourceWarning: unclosed <ssl.SSLSocket [closed] fd=87, family=AddressFamily.AF_INET, type=SocketKind.SOCK_STREAM, proto=6>\n",
      "  component = []\n",
      "\n",
      "16- 7月-19 22:49:19: /home/hirotoshi/PycharmProjects/swfpy/venv/lib/python3.7/site-packages/cdflib/epochs.py:1465: ResourceWarning: unclosed <ssl.SSLSocket [closed] fd=88, family=AddressFamily.AF_INET, type=SocketKind.SOCK_STREAM, proto=6>\n",
      "  component = []\n",
      "\n",
      "16- 7月-19 22:49:19: /home/hirotoshi/PycharmProjects/swfpy/venv/lib/python3.7/site-packages/cdflib/epochs.py:1465: ResourceWarning: unclosed <ssl.SSLSocket [closed] fd=89, family=AddressFamily.AF_INET, type=SocketKind.SOCK_STREAM, proto=6>\n",
      "  component = []\n",
      "\n"
     ]
    },
    {
     "name": "stdout",
     "output_type": "stream",
     "text": [
      "Loaded 42 variables.\n",
      "index Error\n",
      "2001-12-01\n",
      "1. File was downloaded. Location: /Volumes/data/pyspedas/omni/hro_1min/2001/omni_hro_1min_20011201_v01.cdf\n",
      "Downloaded 1 files.\n"
     ]
    },
    {
     "name": "stderr",
     "output_type": "stream",
     "text": [
      "16- 7月-19 22:50:00: /home/hirotoshi/PycharmProjects/swfpy/venv/lib/python3.7/site-packages/cdflib/epochs.py:1465: ResourceWarning: unclosed <ssl.SSLSocket [closed] fd=87, family=AddressFamily.AF_INET, type=SocketKind.SOCK_STREAM, proto=6>\n",
      "  component = []\n",
      "\n",
      "16- 7月-19 22:50:00: /home/hirotoshi/PycharmProjects/swfpy/venv/lib/python3.7/site-packages/cdflib/epochs.py:1465: ResourceWarning: unclosed <ssl.SSLSocket [closed] fd=88, family=AddressFamily.AF_INET, type=SocketKind.SOCK_STREAM, proto=6>\n",
      "  component = []\n",
      "\n",
      "16- 7月-19 22:50:00: /home/hirotoshi/PycharmProjects/swfpy/venv/lib/python3.7/site-packages/cdflib/epochs.py:1465: ResourceWarning: unclosed <ssl.SSLSocket [closed] fd=89, family=AddressFamily.AF_INET, type=SocketKind.SOCK_STREAM, proto=6>\n",
      "  component = []\n",
      "\n"
     ]
    },
    {
     "name": "stdout",
     "output_type": "stream",
     "text": [
      "Loaded 42 variables.\n",
      "index Error\n",
      "2002-01-01\n",
      "1. File was downloaded. Location: /Volumes/data/pyspedas/omni/hro_1min/2002/omni_hro_1min_20020101_v01.cdf\n",
      "Downloaded 1 files.\n"
     ]
    },
    {
     "name": "stderr",
     "output_type": "stream",
     "text": [
      "16- 7月-19 22:50:39: /home/hirotoshi/PycharmProjects/swfpy/venv/lib/python3.7/site-packages/cdflib/epochs.py:1465: ResourceWarning: unclosed <ssl.SSLSocket [closed] fd=87, family=AddressFamily.AF_INET, type=SocketKind.SOCK_STREAM, proto=6>\n",
      "  component = []\n",
      "\n",
      "16- 7月-19 22:50:39: /home/hirotoshi/PycharmProjects/swfpy/venv/lib/python3.7/site-packages/cdflib/epochs.py:1465: ResourceWarning: unclosed <ssl.SSLSocket [closed] fd=88, family=AddressFamily.AF_INET, type=SocketKind.SOCK_STREAM, proto=6>\n",
      "  component = []\n",
      "\n",
      "16- 7月-19 22:50:39: /home/hirotoshi/PycharmProjects/swfpy/venv/lib/python3.7/site-packages/cdflib/epochs.py:1465: ResourceWarning: unclosed <ssl.SSLSocket [closed] fd=89, family=AddressFamily.AF_INET, type=SocketKind.SOCK_STREAM, proto=6>\n",
      "  component = []\n",
      "\n"
     ]
    },
    {
     "name": "stdout",
     "output_type": "stream",
     "text": [
      "Loaded 42 variables.\n",
      "index Error\n",
      "2002-02-01\n",
      "1. File was downloaded. Location: /Volumes/data/pyspedas/omni/hro_1min/2002/omni_hro_1min_20020201_v01.cdf\n",
      "Downloaded 1 files.\n"
     ]
    },
    {
     "name": "stderr",
     "output_type": "stream",
     "text": [
      "16- 7月-19 22:51:15: /home/hirotoshi/PycharmProjects/swfpy/venv/lib/python3.7/site-packages/cdflib/epochs.py:1465: ResourceWarning: unclosed <ssl.SSLSocket [closed] fd=87, family=AddressFamily.AF_INET, type=SocketKind.SOCK_STREAM, proto=6>\n",
      "  component = []\n",
      "\n",
      "16- 7月-19 22:51:15: /home/hirotoshi/PycharmProjects/swfpy/venv/lib/python3.7/site-packages/cdflib/epochs.py:1465: ResourceWarning: unclosed <ssl.SSLSocket [closed] fd=88, family=AddressFamily.AF_INET, type=SocketKind.SOCK_STREAM, proto=6>\n",
      "  component = []\n",
      "\n",
      "16- 7月-19 22:51:15: /home/hirotoshi/PycharmProjects/swfpy/venv/lib/python3.7/site-packages/cdflib/epochs.py:1465: ResourceWarning: unclosed <ssl.SSLSocket [closed] fd=89, family=AddressFamily.AF_INET, type=SocketKind.SOCK_STREAM, proto=6>\n",
      "  component = []\n",
      "\n"
     ]
    },
    {
     "name": "stdout",
     "output_type": "stream",
     "text": [
      "Loaded 42 variables.\n",
      "index Error\n",
      "2002-03-01\n",
      "1. File was downloaded. Location: /Volumes/data/pyspedas/omni/hro_1min/2002/omni_hro_1min_20020301_v01.cdf\n",
      "Downloaded 1 files.\n"
     ]
    },
    {
     "name": "stderr",
     "output_type": "stream",
     "text": [
      "16- 7月-19 22:51:41: /home/hirotoshi/PycharmProjects/swfpy/venv/lib/python3.7/site-packages/cdflib/epochs.py:1465: ResourceWarning: unclosed <ssl.SSLSocket [closed] fd=87, family=AddressFamily.AF_INET, type=SocketKind.SOCK_STREAM, proto=6>\n",
      "  component = []\n",
      "\n",
      "16- 7月-19 22:51:41: /home/hirotoshi/PycharmProjects/swfpy/venv/lib/python3.7/site-packages/cdflib/epochs.py:1465: ResourceWarning: unclosed <ssl.SSLSocket [closed] fd=88, family=AddressFamily.AF_INET, type=SocketKind.SOCK_STREAM, proto=6>\n",
      "  component = []\n",
      "\n",
      "16- 7月-19 22:51:41: /home/hirotoshi/PycharmProjects/swfpy/venv/lib/python3.7/site-packages/cdflib/epochs.py:1465: ResourceWarning: unclosed <ssl.SSLSocket [closed] fd=89, family=AddressFamily.AF_INET, type=SocketKind.SOCK_STREAM, proto=6>\n",
      "  component = []\n",
      "\n"
     ]
    },
    {
     "name": "stdout",
     "output_type": "stream",
     "text": [
      "Loaded 42 variables.\n",
      "index Error\n",
      "2002-04-01\n",
      "1. File was downloaded. Location: /Volumes/data/pyspedas/omni/hro_1min/2002/omni_hro_1min_20020401_v01.cdf\n",
      "Downloaded 1 files.\n"
     ]
    },
    {
     "name": "stderr",
     "output_type": "stream",
     "text": [
      "16- 7月-19 22:52:10: /home/hirotoshi/PycharmProjects/swfpy/venv/lib/python3.7/site-packages/cdflib/epochs.py:1465: ResourceWarning: unclosed <ssl.SSLSocket [closed] fd=87, family=AddressFamily.AF_INET, type=SocketKind.SOCK_STREAM, proto=6>\n",
      "  component = []\n",
      "\n",
      "16- 7月-19 22:52:10: /home/hirotoshi/PycharmProjects/swfpy/venv/lib/python3.7/site-packages/cdflib/epochs.py:1465: ResourceWarning: unclosed <ssl.SSLSocket [closed] fd=88, family=AddressFamily.AF_INET, type=SocketKind.SOCK_STREAM, proto=6>\n",
      "  component = []\n",
      "\n",
      "16- 7月-19 22:52:10: /home/hirotoshi/PycharmProjects/swfpy/venv/lib/python3.7/site-packages/cdflib/epochs.py:1465: ResourceWarning: unclosed <ssl.SSLSocket [closed] fd=89, family=AddressFamily.AF_INET, type=SocketKind.SOCK_STREAM, proto=6>\n",
      "  component = []\n",
      "\n"
     ]
    },
    {
     "name": "stdout",
     "output_type": "stream",
     "text": [
      "Loaded 42 variables.\n",
      "index Error\n",
      "2002-05-01\n",
      "1. File was downloaded. Location: /Volumes/data/pyspedas/omni/hro_1min/2002/omni_hro_1min_20020501_v01.cdf\n",
      "Downloaded 1 files.\n"
     ]
    },
    {
     "name": "stderr",
     "output_type": "stream",
     "text": [
      "16- 7月-19 22:52:41: /home/hirotoshi/PycharmProjects/swfpy/venv/lib/python3.7/site-packages/cdflib/epochs.py:1465: ResourceWarning: unclosed <ssl.SSLSocket [closed] fd=87, family=AddressFamily.AF_INET, type=SocketKind.SOCK_STREAM, proto=6>\n",
      "  component = []\n",
      "\n",
      "16- 7月-19 22:52:41: /home/hirotoshi/PycharmProjects/swfpy/venv/lib/python3.7/site-packages/cdflib/epochs.py:1465: ResourceWarning: unclosed <ssl.SSLSocket [closed] fd=88, family=AddressFamily.AF_INET, type=SocketKind.SOCK_STREAM, proto=6>\n",
      "  component = []\n",
      "\n",
      "16- 7月-19 22:52:41: /home/hirotoshi/PycharmProjects/swfpy/venv/lib/python3.7/site-packages/cdflib/epochs.py:1465: ResourceWarning: unclosed <ssl.SSLSocket [closed] fd=89, family=AddressFamily.AF_INET, type=SocketKind.SOCK_STREAM, proto=6>\n",
      "  component = []\n",
      "\n"
     ]
    },
    {
     "name": "stdout",
     "output_type": "stream",
     "text": [
      "Loaded 42 variables.\n",
      "index Error\n",
      "2002-06-01\n",
      "1. File was downloaded. Location: /Volumes/data/pyspedas/omni/hro_1min/2002/omni_hro_1min_20020601_v01.cdf\n",
      "Downloaded 1 files.\n"
     ]
    },
    {
     "name": "stderr",
     "output_type": "stream",
     "text": [
      "16- 7月-19 22:53:19: /home/hirotoshi/PycharmProjects/swfpy/venv/lib/python3.7/site-packages/cdflib/epochs.py:1465: ResourceWarning: unclosed <ssl.SSLSocket [closed] fd=87, family=AddressFamily.AF_INET, type=SocketKind.SOCK_STREAM, proto=6>\n",
      "  component = []\n",
      "\n",
      "16- 7月-19 22:53:19: /home/hirotoshi/PycharmProjects/swfpy/venv/lib/python3.7/site-packages/cdflib/epochs.py:1465: ResourceWarning: unclosed <ssl.SSLSocket [closed] fd=88, family=AddressFamily.AF_INET, type=SocketKind.SOCK_STREAM, proto=6>\n",
      "  component = []\n",
      "\n",
      "16- 7月-19 22:53:19: /home/hirotoshi/PycharmProjects/swfpy/venv/lib/python3.7/site-packages/cdflib/epochs.py:1465: ResourceWarning: unclosed <ssl.SSLSocket [closed] fd=89, family=AddressFamily.AF_INET, type=SocketKind.SOCK_STREAM, proto=6>\n",
      "  component = []\n",
      "\n"
     ]
    },
    {
     "name": "stdout",
     "output_type": "stream",
     "text": [
      "Loaded 42 variables.\n",
      "index Error\n",
      "2002-07-01\n",
      "1. File was downloaded. Location: /Volumes/data/pyspedas/omni/hro_1min/2002/omni_hro_1min_20020701_v01.cdf\n",
      "Downloaded 1 files.\n"
     ]
    },
    {
     "name": "stderr",
     "output_type": "stream",
     "text": [
      "16- 7月-19 22:53:54: /home/hirotoshi/PycharmProjects/swfpy/venv/lib/python3.7/site-packages/cdflib/epochs.py:1465: ResourceWarning: unclosed <ssl.SSLSocket [closed] fd=87, family=AddressFamily.AF_INET, type=SocketKind.SOCK_STREAM, proto=6>\n",
      "  component = []\n",
      "\n",
      "16- 7月-19 22:53:54: /home/hirotoshi/PycharmProjects/swfpy/venv/lib/python3.7/site-packages/cdflib/epochs.py:1465: ResourceWarning: unclosed <ssl.SSLSocket [closed] fd=88, family=AddressFamily.AF_INET, type=SocketKind.SOCK_STREAM, proto=6>\n",
      "  component = []\n",
      "\n",
      "16- 7月-19 22:53:54: /home/hirotoshi/PycharmProjects/swfpy/venv/lib/python3.7/site-packages/cdflib/epochs.py:1465: ResourceWarning: unclosed <ssl.SSLSocket [closed] fd=89, family=AddressFamily.AF_INET, type=SocketKind.SOCK_STREAM, proto=6>\n",
      "  component = []\n",
      "\n"
     ]
    },
    {
     "name": "stdout",
     "output_type": "stream",
     "text": [
      "Loaded 42 variables.\n",
      "index Error\n",
      "2002-08-01\n",
      "1. File was downloaded. Location: /Volumes/data/pyspedas/omni/hro_1min/2002/omni_hro_1min_20020801_v01.cdf\n",
      "Downloaded 1 files.\n"
     ]
    },
    {
     "name": "stderr",
     "output_type": "stream",
     "text": [
      "16- 7月-19 22:54:23: /home/hirotoshi/PycharmProjects/swfpy/venv/lib/python3.7/site-packages/cdflib/epochs.py:1465: ResourceWarning: unclosed <ssl.SSLSocket [closed] fd=87, family=AddressFamily.AF_INET, type=SocketKind.SOCK_STREAM, proto=6>\n",
      "  component = []\n",
      "\n",
      "16- 7月-19 22:54:23: /home/hirotoshi/PycharmProjects/swfpy/venv/lib/python3.7/site-packages/cdflib/epochs.py:1465: ResourceWarning: unclosed <ssl.SSLSocket [closed] fd=88, family=AddressFamily.AF_INET, type=SocketKind.SOCK_STREAM, proto=6>\n",
      "  component = []\n",
      "\n",
      "16- 7月-19 22:54:23: /home/hirotoshi/PycharmProjects/swfpy/venv/lib/python3.7/site-packages/cdflib/epochs.py:1465: ResourceWarning: unclosed <ssl.SSLSocket [closed] fd=89, family=AddressFamily.AF_INET, type=SocketKind.SOCK_STREAM, proto=6>\n",
      "  component = []\n",
      "\n"
     ]
    },
    {
     "name": "stdout",
     "output_type": "stream",
     "text": [
      "Loaded 42 variables.\n",
      "index Error\n",
      "2002-09-01\n",
      "1. File was downloaded. Location: /Volumes/data/pyspedas/omni/hro_1min/2002/omni_hro_1min_20020901_v01.cdf\n",
      "Downloaded 1 files.\n"
     ]
    },
    {
     "name": "stderr",
     "output_type": "stream",
     "text": [
      "16- 7月-19 22:54:52: /home/hirotoshi/PycharmProjects/swfpy/venv/lib/python3.7/site-packages/cdflib/epochs.py:1465: ResourceWarning: unclosed <ssl.SSLSocket [closed] fd=87, family=AddressFamily.AF_INET, type=SocketKind.SOCK_STREAM, proto=6>\n",
      "  component = []\n",
      "\n",
      "16- 7月-19 22:54:52: /home/hirotoshi/PycharmProjects/swfpy/venv/lib/python3.7/site-packages/cdflib/epochs.py:1465: ResourceWarning: unclosed <ssl.SSLSocket [closed] fd=88, family=AddressFamily.AF_INET, type=SocketKind.SOCK_STREAM, proto=6>\n",
      "  component = []\n",
      "\n",
      "16- 7月-19 22:54:52: /home/hirotoshi/PycharmProjects/swfpy/venv/lib/python3.7/site-packages/cdflib/epochs.py:1465: ResourceWarning: unclosed <ssl.SSLSocket [closed] fd=89, family=AddressFamily.AF_INET, type=SocketKind.SOCK_STREAM, proto=6>\n",
      "  component = []\n",
      "\n"
     ]
    },
    {
     "name": "stdout",
     "output_type": "stream",
     "text": [
      "Loaded 42 variables.\n",
      "index Error\n",
      "2002-10-01\n",
      "1. File was downloaded. Location: /Volumes/data/pyspedas/omni/hro_1min/2002/omni_hro_1min_20021001_v01.cdf\n",
      "Downloaded 1 files.\n"
     ]
    },
    {
     "name": "stderr",
     "output_type": "stream",
     "text": [
      "16- 7月-19 22:55:25: /home/hirotoshi/PycharmProjects/swfpy/venv/lib/python3.7/site-packages/cdflib/epochs.py:1465: ResourceWarning: unclosed <ssl.SSLSocket [closed] fd=87, family=AddressFamily.AF_INET, type=SocketKind.SOCK_STREAM, proto=6>\n",
      "  component = []\n",
      "\n",
      "16- 7月-19 22:55:25: /home/hirotoshi/PycharmProjects/swfpy/venv/lib/python3.7/site-packages/cdflib/epochs.py:1465: ResourceWarning: unclosed <ssl.SSLSocket [closed] fd=88, family=AddressFamily.AF_INET, type=SocketKind.SOCK_STREAM, proto=6>\n",
      "  component = []\n",
      "\n",
      "16- 7月-19 22:55:25: /home/hirotoshi/PycharmProjects/swfpy/venv/lib/python3.7/site-packages/cdflib/epochs.py:1465: ResourceWarning: unclosed <ssl.SSLSocket [closed] fd=89, family=AddressFamily.AF_INET, type=SocketKind.SOCK_STREAM, proto=6>\n",
      "  component = []\n",
      "\n"
     ]
    },
    {
     "name": "stdout",
     "output_type": "stream",
     "text": [
      "Loaded 42 variables.\n",
      "index Error\n",
      "2002-11-01\n",
      "1. File was downloaded. Location: /Volumes/data/pyspedas/omni/hro_1min/2002/omni_hro_1min_20021101_v01.cdf\n",
      "Downloaded 1 files.\n"
     ]
    },
    {
     "name": "stderr",
     "output_type": "stream",
     "text": [
      "16- 7月-19 22:55:52: /home/hirotoshi/PycharmProjects/swfpy/venv/lib/python3.7/site-packages/cdflib/epochs.py:1465: ResourceWarning: unclosed <ssl.SSLSocket [closed] fd=87, family=AddressFamily.AF_INET, type=SocketKind.SOCK_STREAM, proto=6>\n",
      "  component = []\n",
      "\n",
      "16- 7月-19 22:55:52: /home/hirotoshi/PycharmProjects/swfpy/venv/lib/python3.7/site-packages/cdflib/epochs.py:1465: ResourceWarning: unclosed <ssl.SSLSocket [closed] fd=88, family=AddressFamily.AF_INET, type=SocketKind.SOCK_STREAM, proto=6>\n",
      "  component = []\n",
      "\n",
      "16- 7月-19 22:55:52: /home/hirotoshi/PycharmProjects/swfpy/venv/lib/python3.7/site-packages/cdflib/epochs.py:1465: ResourceWarning: unclosed <ssl.SSLSocket [closed] fd=89, family=AddressFamily.AF_INET, type=SocketKind.SOCK_STREAM, proto=6>\n",
      "  component = []\n",
      "\n"
     ]
    },
    {
     "name": "stdout",
     "output_type": "stream",
     "text": [
      "Loaded 42 variables.\n",
      "index Error\n",
      "2002-12-01\n",
      "1. File was downloaded. Location: /Volumes/data/pyspedas/omni/hro_1min/2002/omni_hro_1min_20021201_v01.cdf\n",
      "Downloaded 1 files.\n"
     ]
    },
    {
     "name": "stderr",
     "output_type": "stream",
     "text": [
      "16- 7月-19 22:56:31: /home/hirotoshi/PycharmProjects/swfpy/venv/lib/python3.7/site-packages/cdflib/epochs.py:1465: ResourceWarning: unclosed <ssl.SSLSocket [closed] fd=87, family=AddressFamily.AF_INET, type=SocketKind.SOCK_STREAM, proto=6>\n",
      "  component = []\n",
      "\n",
      "16- 7月-19 22:56:31: /home/hirotoshi/PycharmProjects/swfpy/venv/lib/python3.7/site-packages/cdflib/epochs.py:1465: ResourceWarning: unclosed <ssl.SSLSocket [closed] fd=88, family=AddressFamily.AF_INET, type=SocketKind.SOCK_STREAM, proto=6>\n",
      "  component = []\n",
      "\n",
      "16- 7月-19 22:56:31: /home/hirotoshi/PycharmProjects/swfpy/venv/lib/python3.7/site-packages/cdflib/epochs.py:1465: ResourceWarning: unclosed <ssl.SSLSocket [closed] fd=89, family=AddressFamily.AF_INET, type=SocketKind.SOCK_STREAM, proto=6>\n",
      "  component = []\n",
      "\n"
     ]
    },
    {
     "name": "stdout",
     "output_type": "stream",
     "text": [
      "Loaded 42 variables.\n",
      "index Error\n",
      "2003-01-01\n",
      "1. File was downloaded. Location: /Volumes/data/pyspedas/omni/hro_1min/2003/omni_hro_1min_20030101_v01.cdf\n",
      "Downloaded 1 files.\n"
     ]
    },
    {
     "name": "stderr",
     "output_type": "stream",
     "text": [
      "16- 7月-19 22:57:06: /home/hirotoshi/PycharmProjects/swfpy/venv/lib/python3.7/site-packages/cdflib/epochs.py:1465: ResourceWarning: unclosed <ssl.SSLSocket [closed] fd=87, family=AddressFamily.AF_INET, type=SocketKind.SOCK_STREAM, proto=6>\n",
      "  component = []\n",
      "\n",
      "16- 7月-19 22:57:06: /home/hirotoshi/PycharmProjects/swfpy/venv/lib/python3.7/site-packages/cdflib/epochs.py:1465: ResourceWarning: unclosed <ssl.SSLSocket [closed] fd=88, family=AddressFamily.AF_INET, type=SocketKind.SOCK_STREAM, proto=6>\n",
      "  component = []\n",
      "\n",
      "16- 7月-19 22:57:06: /home/hirotoshi/PycharmProjects/swfpy/venv/lib/python3.7/site-packages/cdflib/epochs.py:1465: ResourceWarning: unclosed <ssl.SSLSocket [closed] fd=89, family=AddressFamily.AF_INET, type=SocketKind.SOCK_STREAM, proto=6>\n",
      "  component = []\n",
      "\n"
     ]
    },
    {
     "name": "stdout",
     "output_type": "stream",
     "text": [
      "Loaded 42 variables.\n",
      "index Error\n",
      "2003-02-01\n",
      "1. File was downloaded. Location: /Volumes/data/pyspedas/omni/hro_1min/2003/omni_hro_1min_20030201_v01.cdf\n",
      "Downloaded 1 files.\n"
     ]
    },
    {
     "name": "stderr",
     "output_type": "stream",
     "text": [
      "16- 7月-19 22:57:45: /home/hirotoshi/PycharmProjects/swfpy/venv/lib/python3.7/site-packages/cdflib/epochs.py:1465: ResourceWarning: unclosed <ssl.SSLSocket [closed] fd=87, family=AddressFamily.AF_INET, type=SocketKind.SOCK_STREAM, proto=6>\n",
      "  component = []\n",
      "\n",
      "16- 7月-19 22:57:45: /home/hirotoshi/PycharmProjects/swfpy/venv/lib/python3.7/site-packages/cdflib/epochs.py:1465: ResourceWarning: unclosed <ssl.SSLSocket [closed] fd=88, family=AddressFamily.AF_INET, type=SocketKind.SOCK_STREAM, proto=6>\n",
      "  component = []\n",
      "\n",
      "16- 7月-19 22:57:45: /home/hirotoshi/PycharmProjects/swfpy/venv/lib/python3.7/site-packages/cdflib/epochs.py:1465: ResourceWarning: unclosed <ssl.SSLSocket [closed] fd=89, family=AddressFamily.AF_INET, type=SocketKind.SOCK_STREAM, proto=6>\n",
      "  component = []\n",
      "\n"
     ]
    },
    {
     "name": "stdout",
     "output_type": "stream",
     "text": [
      "Loaded 42 variables.\n",
      "index Error\n",
      "2003-03-01\n",
      "1. File was downloaded. Location: /Volumes/data/pyspedas/omni/hro_1min/2003/omni_hro_1min_20030301_v01.cdf\n",
      "Downloaded 1 files.\n"
     ]
    },
    {
     "name": "stderr",
     "output_type": "stream",
     "text": [
      "16- 7月-19 22:58:25: /home/hirotoshi/PycharmProjects/swfpy/venv/lib/python3.7/site-packages/cdflib/epochs.py:1465: ResourceWarning: unclosed <ssl.SSLSocket [closed] fd=87, family=AddressFamily.AF_INET, type=SocketKind.SOCK_STREAM, proto=6>\n",
      "  component = []\n",
      "\n",
      "16- 7月-19 22:58:25: /home/hirotoshi/PycharmProjects/swfpy/venv/lib/python3.7/site-packages/cdflib/epochs.py:1465: ResourceWarning: unclosed <ssl.SSLSocket [closed] fd=88, family=AddressFamily.AF_INET, type=SocketKind.SOCK_STREAM, proto=6>\n",
      "  component = []\n",
      "\n",
      "16- 7月-19 22:58:26: /home/hirotoshi/PycharmProjects/swfpy/venv/lib/python3.7/site-packages/cdflib/epochs.py:1465: ResourceWarning: unclosed <ssl.SSLSocket [closed] fd=89, family=AddressFamily.AF_INET, type=SocketKind.SOCK_STREAM, proto=6>\n",
      "  component = []\n",
      "\n"
     ]
    },
    {
     "name": "stdout",
     "output_type": "stream",
     "text": [
      "Loaded 42 variables.\n",
      "index Error\n",
      "2003-04-01\n",
      "1. File was downloaded. Location: /Volumes/data/pyspedas/omni/hro_1min/2003/omni_hro_1min_20030401_v01.cdf\n",
      "Downloaded 1 files.\n"
     ]
    },
    {
     "name": "stderr",
     "output_type": "stream",
     "text": [
      "16- 7月-19 22:58:57: /home/hirotoshi/PycharmProjects/swfpy/venv/lib/python3.7/site-packages/cdflib/epochs.py:1465: ResourceWarning: unclosed <ssl.SSLSocket [closed] fd=87, family=AddressFamily.AF_INET, type=SocketKind.SOCK_STREAM, proto=6>\n",
      "  component = []\n",
      "\n",
      "16- 7月-19 22:58:57: /home/hirotoshi/PycharmProjects/swfpy/venv/lib/python3.7/site-packages/cdflib/epochs.py:1465: ResourceWarning: unclosed <ssl.SSLSocket [closed] fd=88, family=AddressFamily.AF_INET, type=SocketKind.SOCK_STREAM, proto=6>\n",
      "  component = []\n",
      "\n",
      "16- 7月-19 22:58:57: /home/hirotoshi/PycharmProjects/swfpy/venv/lib/python3.7/site-packages/cdflib/epochs.py:1465: ResourceWarning: unclosed <ssl.SSLSocket [closed] fd=89, family=AddressFamily.AF_INET, type=SocketKind.SOCK_STREAM, proto=6>\n",
      "  component = []\n",
      "\n"
     ]
    },
    {
     "name": "stdout",
     "output_type": "stream",
     "text": [
      "Loaded 42 variables.\n",
      "index Error\n",
      "2003-05-01\n"
     ]
    },
    {
     "name": "stderr",
     "output_type": "stream",
     "text": [
      "16- 7月-19 22:59:28: /home/hirotoshi/PycharmProjects/swfpy/venv/lib/python3.7/site-packages/cdflib/epochs.py:1465: ResourceWarning: unclosed <ssl.SSLSocket [closed] fd=87, family=AddressFamily.AF_INET, type=SocketKind.SOCK_STREAM, proto=6>\n",
      "  component = []\n",
      "\n",
      "16- 7月-19 22:59:28: /home/hirotoshi/PycharmProjects/swfpy/venv/lib/python3.7/site-packages/cdflib/epochs.py:1465: ResourceWarning: unclosed <ssl.SSLSocket [closed] fd=88, family=AddressFamily.AF_INET, type=SocketKind.SOCK_STREAM, proto=6>\n",
      "  component = []\n",
      "\n",
      "16- 7月-19 22:59:28: /home/hirotoshi/PycharmProjects/swfpy/venv/lib/python3.7/site-packages/cdflib/epochs.py:1465: ResourceWarning: unclosed <ssl.SSLSocket [closed] fd=89, family=AddressFamily.AF_INET, type=SocketKind.SOCK_STREAM, proto=6>\n",
      "  component = []\n",
      "\n"
     ]
    },
    {
     "name": "stdout",
     "output_type": "stream",
     "text": [
      "1. File was downloaded. Location: /Volumes/data/pyspedas/omni/hro_1min/2003/omni_hro_1min_20030501_v01.cdf\n",
      "Downloaded 1 files.\n",
      "Loaded 42 variables.\n",
      "index Error\n",
      "2003-06-01\n"
     ]
    },
    {
     "name": "stderr",
     "output_type": "stream",
     "text": [
      "16- 7月-19 22:59:54: /home/hirotoshi/PycharmProjects/swfpy/venv/lib/python3.7/site-packages/cdflib/epochs.py:1465: ResourceWarning: unclosed <ssl.SSLSocket [closed] fd=87, family=AddressFamily.AF_INET, type=SocketKind.SOCK_STREAM, proto=6>\n",
      "  component = []\n",
      "\n",
      "16- 7月-19 22:59:54: /home/hirotoshi/PycharmProjects/swfpy/venv/lib/python3.7/site-packages/cdflib/epochs.py:1465: ResourceWarning: unclosed <ssl.SSLSocket [closed] fd=88, family=AddressFamily.AF_INET, type=SocketKind.SOCK_STREAM, proto=6>\n",
      "  component = []\n",
      "\n",
      "16- 7月-19 22:59:54: /home/hirotoshi/PycharmProjects/swfpy/venv/lib/python3.7/site-packages/cdflib/epochs.py:1465: ResourceWarning: unclosed <ssl.SSLSocket [closed] fd=89, family=AddressFamily.AF_INET, type=SocketKind.SOCK_STREAM, proto=6>\n",
      "  component = []\n",
      "\n"
     ]
    },
    {
     "name": "stdout",
     "output_type": "stream",
     "text": [
      "1. File was downloaded. Location: /Volumes/data/pyspedas/omni/hro_1min/2003/omni_hro_1min_20030601_v01.cdf\n",
      "Downloaded 1 files.\n",
      "Loaded 42 variables.\n",
      "index Error\n",
      "2003-07-01\n",
      "1. File was downloaded. Location: /Volumes/data/pyspedas/omni/hro_1min/2003/omni_hro_1min_20030701_v01.cdf\n",
      "Downloaded 1 files.\n"
     ]
    },
    {
     "name": "stderr",
     "output_type": "stream",
     "text": [
      "16- 7月-19 23:00:18: /home/hirotoshi/PycharmProjects/swfpy/venv/lib/python3.7/site-packages/cdflib/epochs.py:1465: ResourceWarning: unclosed <ssl.SSLSocket [closed] fd=87, family=AddressFamily.AF_INET, type=SocketKind.SOCK_STREAM, proto=6>\n",
      "  component = []\n",
      "\n",
      "16- 7月-19 23:00:18: /home/hirotoshi/PycharmProjects/swfpy/venv/lib/python3.7/site-packages/cdflib/epochs.py:1465: ResourceWarning: unclosed <ssl.SSLSocket [closed] fd=88, family=AddressFamily.AF_INET, type=SocketKind.SOCK_STREAM, proto=6>\n",
      "  component = []\n",
      "\n",
      "16- 7月-19 23:00:18: /home/hirotoshi/PycharmProjects/swfpy/venv/lib/python3.7/site-packages/cdflib/epochs.py:1465: ResourceWarning: unclosed <ssl.SSLSocket [closed] fd=89, family=AddressFamily.AF_INET, type=SocketKind.SOCK_STREAM, proto=6>\n",
      "  component = []\n",
      "\n"
     ]
    },
    {
     "name": "stdout",
     "output_type": "stream",
     "text": [
      "Loaded 42 variables.\n",
      "index Error\n",
      "2003-08-01\n"
     ]
    },
    {
     "name": "stderr",
     "output_type": "stream",
     "text": [
      "16- 7月-19 23:00:54: /home/hirotoshi/PycharmProjects/swfpy/venv/lib/python3.7/site-packages/cdflib/epochs.py:1465: ResourceWarning: unclosed <ssl.SSLSocket [closed] fd=87, family=AddressFamily.AF_INET, type=SocketKind.SOCK_STREAM, proto=6>\n",
      "  component = []\n",
      "\n",
      "16- 7月-19 23:00:54: /home/hirotoshi/PycharmProjects/swfpy/venv/lib/python3.7/site-packages/cdflib/epochs.py:1465: ResourceWarning: unclosed <ssl.SSLSocket [closed] fd=88, family=AddressFamily.AF_INET, type=SocketKind.SOCK_STREAM, proto=6>\n",
      "  component = []\n",
      "\n",
      "16- 7月-19 23:00:54: /home/hirotoshi/PycharmProjects/swfpy/venv/lib/python3.7/site-packages/cdflib/epochs.py:1465: ResourceWarning: unclosed <ssl.SSLSocket [closed] fd=89, family=AddressFamily.AF_INET, type=SocketKind.SOCK_STREAM, proto=6>\n",
      "  component = []\n",
      "\n"
     ]
    },
    {
     "name": "stdout",
     "output_type": "stream",
     "text": [
      "1. File was downloaded. Location: /Volumes/data/pyspedas/omni/hro_1min/2003/omni_hro_1min_20030801_v01.cdf\n",
      "Downloaded 1 files.\n",
      "Loaded 42 variables.\n",
      "index Error\n",
      "2003-09-01\n",
      "1. File was downloaded. Location: /Volumes/data/pyspedas/omni/hro_1min/2003/omni_hro_1min_20030901_v01.cdf\n",
      "Downloaded 1 files.\n"
     ]
    },
    {
     "name": "stderr",
     "output_type": "stream",
     "text": [
      "16- 7月-19 23:01:32: /home/hirotoshi/PycharmProjects/swfpy/venv/lib/python3.7/site-packages/cdflib/epochs.py:1465: ResourceWarning: unclosed <ssl.SSLSocket [closed] fd=87, family=AddressFamily.AF_INET, type=SocketKind.SOCK_STREAM, proto=6>\n",
      "  component = []\n",
      "\n",
      "16- 7月-19 23:01:32: /home/hirotoshi/PycharmProjects/swfpy/venv/lib/python3.7/site-packages/cdflib/epochs.py:1465: ResourceWarning: unclosed <ssl.SSLSocket [closed] fd=88, family=AddressFamily.AF_INET, type=SocketKind.SOCK_STREAM, proto=6>\n",
      "  component = []\n",
      "\n",
      "16- 7月-19 23:01:32: /home/hirotoshi/PycharmProjects/swfpy/venv/lib/python3.7/site-packages/cdflib/epochs.py:1465: ResourceWarning: unclosed <ssl.SSLSocket [closed] fd=89, family=AddressFamily.AF_INET, type=SocketKind.SOCK_STREAM, proto=6>\n",
      "  component = []\n",
      "\n"
     ]
    },
    {
     "name": "stdout",
     "output_type": "stream",
     "text": [
      "Loaded 42 variables.\n",
      "index Error\n",
      "2003-10-01\n",
      "1. File was downloaded. Location: /Volumes/data/pyspedas/omni/hro_1min/2003/omni_hro_1min_20031001_v01.cdf\n",
      "Downloaded 1 files.\n"
     ]
    },
    {
     "name": "stderr",
     "output_type": "stream",
     "text": [
      "16- 7月-19 23:02:04: /home/hirotoshi/PycharmProjects/swfpy/venv/lib/python3.7/site-packages/cdflib/epochs.py:1465: ResourceWarning: unclosed <ssl.SSLSocket [closed] fd=87, family=AddressFamily.AF_INET, type=SocketKind.SOCK_STREAM, proto=6>\n",
      "  component = []\n",
      "\n",
      "16- 7月-19 23:02:04: /home/hirotoshi/PycharmProjects/swfpy/venv/lib/python3.7/site-packages/cdflib/epochs.py:1465: ResourceWarning: unclosed <ssl.SSLSocket [closed] fd=88, family=AddressFamily.AF_INET, type=SocketKind.SOCK_STREAM, proto=6>\n",
      "  component = []\n",
      "\n",
      "16- 7月-19 23:02:04: /home/hirotoshi/PycharmProjects/swfpy/venv/lib/python3.7/site-packages/cdflib/epochs.py:1465: ResourceWarning: unclosed <ssl.SSLSocket [closed] fd=89, family=AddressFamily.AF_INET, type=SocketKind.SOCK_STREAM, proto=6>\n",
      "  component = []\n",
      "\n"
     ]
    },
    {
     "name": "stdout",
     "output_type": "stream",
     "text": [
      "Loaded 42 variables.\n",
      "index Error\n",
      "2003-11-01\n"
     ]
    },
    {
     "name": "stderr",
     "output_type": "stream",
     "text": [
      "16- 7月-19 23:02:45: /home/hirotoshi/PycharmProjects/swfpy/venv/lib/python3.7/site-packages/cdflib/epochs.py:1465: ResourceWarning: unclosed <ssl.SSLSocket [closed] fd=87, family=AddressFamily.AF_INET, type=SocketKind.SOCK_STREAM, proto=6>\n",
      "  component = []\n",
      "\n",
      "16- 7月-19 23:02:45: /home/hirotoshi/PycharmProjects/swfpy/venv/lib/python3.7/site-packages/cdflib/epochs.py:1465: ResourceWarning: unclosed <ssl.SSLSocket [closed] fd=88, family=AddressFamily.AF_INET, type=SocketKind.SOCK_STREAM, proto=6>\n",
      "  component = []\n",
      "\n",
      "16- 7月-19 23:02:45: /home/hirotoshi/PycharmProjects/swfpy/venv/lib/python3.7/site-packages/cdflib/epochs.py:1465: ResourceWarning: unclosed <ssl.SSLSocket [closed] fd=89, family=AddressFamily.AF_INET, type=SocketKind.SOCK_STREAM, proto=6>\n",
      "  component = []\n",
      "\n"
     ]
    },
    {
     "name": "stdout",
     "output_type": "stream",
     "text": [
      "1. File was downloaded. Location: /Volumes/data/pyspedas/omni/hro_1min/2003/omni_hro_1min_20031101_v01.cdf\n",
      "Downloaded 1 files.\n",
      "Loaded 42 variables.\n",
      "index Error\n",
      "2003-12-01\n",
      "1. File was downloaded. Location: /Volumes/data/pyspedas/omni/hro_1min/2003/omni_hro_1min_20031201_v01.cdf\n",
      "Downloaded 1 files.\n"
     ]
    },
    {
     "name": "stderr",
     "output_type": "stream",
     "text": [
      "16- 7月-19 23:03:18: /home/hirotoshi/PycharmProjects/swfpy/venv/lib/python3.7/site-packages/cdflib/epochs.py:1465: ResourceWarning: unclosed <ssl.SSLSocket [closed] fd=87, family=AddressFamily.AF_INET, type=SocketKind.SOCK_STREAM, proto=6>\n",
      "  component = []\n",
      "\n",
      "16- 7月-19 23:03:18: /home/hirotoshi/PycharmProjects/swfpy/venv/lib/python3.7/site-packages/cdflib/epochs.py:1465: ResourceWarning: unclosed <ssl.SSLSocket [closed] fd=88, family=AddressFamily.AF_INET, type=SocketKind.SOCK_STREAM, proto=6>\n",
      "  component = []\n",
      "\n",
      "16- 7月-19 23:03:18: /home/hirotoshi/PycharmProjects/swfpy/venv/lib/python3.7/site-packages/cdflib/epochs.py:1465: ResourceWarning: unclosed <ssl.SSLSocket [closed] fd=89, family=AddressFamily.AF_INET, type=SocketKind.SOCK_STREAM, proto=6>\n",
      "  component = []\n",
      "\n"
     ]
    },
    {
     "name": "stdout",
     "output_type": "stream",
     "text": [
      "Loaded 42 variables.\n",
      "index Error\n",
      "2004-01-01\n",
      "1. File was downloaded. Location: /Volumes/data/pyspedas/omni/hro_1min/2004/omni_hro_1min_20040101_v01.cdf\n",
      "Downloaded 1 files.\n"
     ]
    },
    {
     "name": "stderr",
     "output_type": "stream",
     "text": [
      "16- 7月-19 23:03:58: /home/hirotoshi/PycharmProjects/swfpy/venv/lib/python3.7/site-packages/cdflib/epochs.py:1465: ResourceWarning: unclosed <ssl.SSLSocket [closed] fd=87, family=AddressFamily.AF_INET, type=SocketKind.SOCK_STREAM, proto=6>\n",
      "  component = []\n",
      "\n",
      "16- 7月-19 23:03:58: /home/hirotoshi/PycharmProjects/swfpy/venv/lib/python3.7/site-packages/cdflib/epochs.py:1465: ResourceWarning: unclosed <ssl.SSLSocket [closed] fd=88, family=AddressFamily.AF_INET, type=SocketKind.SOCK_STREAM, proto=6>\n",
      "  component = []\n",
      "\n",
      "16- 7月-19 23:03:58: /home/hirotoshi/PycharmProjects/swfpy/venv/lib/python3.7/site-packages/cdflib/epochs.py:1465: ResourceWarning: unclosed <ssl.SSLSocket [closed] fd=89, family=AddressFamily.AF_INET, type=SocketKind.SOCK_STREAM, proto=6>\n",
      "  component = []\n",
      "\n"
     ]
    },
    {
     "name": "stdout",
     "output_type": "stream",
     "text": [
      "Loaded 42 variables.\n",
      "index Error\n",
      "2004-02-01\n",
      "1. File was downloaded. Location: /Volumes/data/pyspedas/omni/hro_1min/2004/omni_hro_1min_20040201_v01.cdf\n",
      "Downloaded 1 files.\n"
     ]
    },
    {
     "name": "stderr",
     "output_type": "stream",
     "text": [
      "16- 7月-19 23:04:30: /home/hirotoshi/PycharmProjects/swfpy/venv/lib/python3.7/site-packages/cdflib/epochs.py:1465: ResourceWarning: unclosed <ssl.SSLSocket [closed] fd=87, family=AddressFamily.AF_INET, type=SocketKind.SOCK_STREAM, proto=6>\n",
      "  component = []\n",
      "\n",
      "16- 7月-19 23:04:30: /home/hirotoshi/PycharmProjects/swfpy/venv/lib/python3.7/site-packages/cdflib/epochs.py:1465: ResourceWarning: unclosed <ssl.SSLSocket [closed] fd=88, family=AddressFamily.AF_INET, type=SocketKind.SOCK_STREAM, proto=6>\n",
      "  component = []\n",
      "\n",
      "16- 7月-19 23:04:30: /home/hirotoshi/PycharmProjects/swfpy/venv/lib/python3.7/site-packages/cdflib/epochs.py:1465: ResourceWarning: unclosed <ssl.SSLSocket [closed] fd=89, family=AddressFamily.AF_INET, type=SocketKind.SOCK_STREAM, proto=6>\n",
      "  component = []\n",
      "\n"
     ]
    },
    {
     "name": "stdout",
     "output_type": "stream",
     "text": [
      "Loaded 42 variables.\n",
      "index Error\n",
      "2004-03-01\n",
      "1. File was downloaded. Location: /Volumes/data/pyspedas/omni/hro_1min/2004/omni_hro_1min_20040301_v01.cdf\n",
      "Downloaded 1 files.\n"
     ]
    },
    {
     "name": "stderr",
     "output_type": "stream",
     "text": [
      "16- 7月-19 23:05:10: /home/hirotoshi/PycharmProjects/swfpy/venv/lib/python3.7/site-packages/cdflib/epochs.py:1465: ResourceWarning: unclosed <ssl.SSLSocket [closed] fd=87, family=AddressFamily.AF_INET, type=SocketKind.SOCK_STREAM, proto=6>\n",
      "  component = []\n",
      "\n",
      "16- 7月-19 23:05:10: /home/hirotoshi/PycharmProjects/swfpy/venv/lib/python3.7/site-packages/cdflib/epochs.py:1465: ResourceWarning: unclosed <ssl.SSLSocket [closed] fd=88, family=AddressFamily.AF_INET, type=SocketKind.SOCK_STREAM, proto=6>\n",
      "  component = []\n",
      "\n",
      "16- 7月-19 23:05:10: /home/hirotoshi/PycharmProjects/swfpy/venv/lib/python3.7/site-packages/cdflib/epochs.py:1465: ResourceWarning: unclosed <ssl.SSLSocket [closed] fd=89, family=AddressFamily.AF_INET, type=SocketKind.SOCK_STREAM, proto=6>\n",
      "  component = []\n",
      "\n"
     ]
    },
    {
     "name": "stdout",
     "output_type": "stream",
     "text": [
      "Loaded 42 variables.\n",
      "index Error\n",
      "2004-04-01\n",
      "1. File was downloaded. Location: /Volumes/data/pyspedas/omni/hro_1min/2004/omni_hro_1min_20040401_v01.cdf\n",
      "Downloaded 1 files.\n"
     ]
    },
    {
     "name": "stderr",
     "output_type": "stream",
     "text": [
      "16- 7月-19 23:05:42: /home/hirotoshi/PycharmProjects/swfpy/venv/lib/python3.7/site-packages/cdflib/epochs.py:1465: ResourceWarning: unclosed <ssl.SSLSocket [closed] fd=87, family=AddressFamily.AF_INET, type=SocketKind.SOCK_STREAM, proto=6>\n",
      "  component = []\n",
      "\n",
      "16- 7月-19 23:05:42: /home/hirotoshi/PycharmProjects/swfpy/venv/lib/python3.7/site-packages/cdflib/epochs.py:1465: ResourceWarning: unclosed <ssl.SSLSocket [closed] fd=88, family=AddressFamily.AF_INET, type=SocketKind.SOCK_STREAM, proto=6>\n",
      "  component = []\n",
      "\n",
      "16- 7月-19 23:05:42: /home/hirotoshi/PycharmProjects/swfpy/venv/lib/python3.7/site-packages/cdflib/epochs.py:1465: ResourceWarning: unclosed <ssl.SSLSocket [closed] fd=89, family=AddressFamily.AF_INET, type=SocketKind.SOCK_STREAM, proto=6>\n",
      "  component = []\n",
      "\n"
     ]
    },
    {
     "name": "stdout",
     "output_type": "stream",
     "text": [
      "Loaded 42 variables.\n",
      "index Error\n",
      "2004-05-01\n",
      "1. File was downloaded. Location: /Volumes/data/pyspedas/omni/hro_1min/2004/omni_hro_1min_20040501_v01.cdf\n",
      "Downloaded 1 files.\n"
     ]
    },
    {
     "name": "stderr",
     "output_type": "stream",
     "text": [
      "16- 7月-19 23:05:58: /home/hirotoshi/PycharmProjects/swfpy/venv/lib/python3.7/site-packages/cdflib/epochs.py:1465: ResourceWarning: unclosed <ssl.SSLSocket [closed] fd=87, family=AddressFamily.AF_INET, type=SocketKind.SOCK_STREAM, proto=6>\n",
      "  component = []\n",
      "\n",
      "16- 7月-19 23:05:58: /home/hirotoshi/PycharmProjects/swfpy/venv/lib/python3.7/site-packages/cdflib/epochs.py:1465: ResourceWarning: unclosed <ssl.SSLSocket [closed] fd=88, family=AddressFamily.AF_INET, type=SocketKind.SOCK_STREAM, proto=6>\n",
      "  component = []\n",
      "\n",
      "16- 7月-19 23:05:58: /home/hirotoshi/PycharmProjects/swfpy/venv/lib/python3.7/site-packages/cdflib/epochs.py:1465: ResourceWarning: unclosed <ssl.SSLSocket [closed] fd=89, family=AddressFamily.AF_INET, type=SocketKind.SOCK_STREAM, proto=6>\n",
      "  component = []\n",
      "\n"
     ]
    },
    {
     "name": "stdout",
     "output_type": "stream",
     "text": [
      "Loaded 42 variables.\n",
      "index Error\n",
      "2004-06-01\n",
      "1. File was downloaded. Location: /Volumes/data/pyspedas/omni/hro_1min/2004/omni_hro_1min_20040601_v01.cdf\n",
      "Downloaded 1 files.\n"
     ]
    },
    {
     "name": "stderr",
     "output_type": "stream",
     "text": [
      "16- 7月-19 23:06:36: /home/hirotoshi/PycharmProjects/swfpy/venv/lib/python3.7/site-packages/cdflib/epochs.py:1465: ResourceWarning: unclosed <ssl.SSLSocket [closed] fd=87, family=AddressFamily.AF_INET, type=SocketKind.SOCK_STREAM, proto=6>\n",
      "  component = []\n",
      "\n",
      "16- 7月-19 23:06:36: /home/hirotoshi/PycharmProjects/swfpy/venv/lib/python3.7/site-packages/cdflib/epochs.py:1465: ResourceWarning: unclosed <ssl.SSLSocket [closed] fd=88, family=AddressFamily.AF_INET, type=SocketKind.SOCK_STREAM, proto=6>\n",
      "  component = []\n",
      "\n",
      "16- 7月-19 23:06:36: /home/hirotoshi/PycharmProjects/swfpy/venv/lib/python3.7/site-packages/cdflib/epochs.py:1465: ResourceWarning: unclosed <ssl.SSLSocket [closed] fd=89, family=AddressFamily.AF_INET, type=SocketKind.SOCK_STREAM, proto=6>\n",
      "  component = []\n",
      "\n"
     ]
    },
    {
     "name": "stdout",
     "output_type": "stream",
     "text": [
      "Loaded 42 variables.\n",
      "index Error\n",
      "2004-07-01\n",
      "1. File was downloaded. Location: /Volumes/data/pyspedas/omni/hro_1min/2004/omni_hro_1min_20040701_v01.cdf\n",
      "Downloaded 1 files.\n"
     ]
    },
    {
     "name": "stderr",
     "output_type": "stream",
     "text": [
      "16- 7月-19 23:07:13: /home/hirotoshi/PycharmProjects/swfpy/venv/lib/python3.7/site-packages/cdflib/epochs.py:1465: ResourceWarning: unclosed <ssl.SSLSocket [closed] fd=87, family=AddressFamily.AF_INET, type=SocketKind.SOCK_STREAM, proto=6>\n",
      "  component = []\n",
      "\n",
      "16- 7月-19 23:07:13: /home/hirotoshi/PycharmProjects/swfpy/venv/lib/python3.7/site-packages/cdflib/epochs.py:1465: ResourceWarning: unclosed <ssl.SSLSocket [closed] fd=88, family=AddressFamily.AF_INET, type=SocketKind.SOCK_STREAM, proto=6>\n",
      "  component = []\n",
      "\n",
      "16- 7月-19 23:07:13: /home/hirotoshi/PycharmProjects/swfpy/venv/lib/python3.7/site-packages/cdflib/epochs.py:1465: ResourceWarning: unclosed <ssl.SSLSocket [closed] fd=89, family=AddressFamily.AF_INET, type=SocketKind.SOCK_STREAM, proto=6>\n",
      "  component = []\n",
      "\n"
     ]
    },
    {
     "name": "stdout",
     "output_type": "stream",
     "text": [
      "Loaded 42 variables.\n",
      "index Error\n",
      "2004-08-01\n"
     ]
    },
    {
     "name": "stderr",
     "output_type": "stream",
     "text": [
      "16- 7月-19 23:07:47: /home/hirotoshi/PycharmProjects/swfpy/venv/lib/python3.7/site-packages/cdflib/epochs.py:1465: ResourceWarning: unclosed <ssl.SSLSocket [closed] fd=87, family=AddressFamily.AF_INET, type=SocketKind.SOCK_STREAM, proto=6>\n",
      "  component = []\n",
      "\n",
      "16- 7月-19 23:07:47: /home/hirotoshi/PycharmProjects/swfpy/venv/lib/python3.7/site-packages/cdflib/epochs.py:1465: ResourceWarning: unclosed <ssl.SSLSocket [closed] fd=88, family=AddressFamily.AF_INET, type=SocketKind.SOCK_STREAM, proto=6>\n",
      "  component = []\n",
      "\n",
      "16- 7月-19 23:07:47: /home/hirotoshi/PycharmProjects/swfpy/venv/lib/python3.7/site-packages/cdflib/epochs.py:1465: ResourceWarning: unclosed <ssl.SSLSocket [closed] fd=89, family=AddressFamily.AF_INET, type=SocketKind.SOCK_STREAM, proto=6>\n",
      "  component = []\n",
      "\n"
     ]
    },
    {
     "name": "stdout",
     "output_type": "stream",
     "text": [
      "1. File was downloaded. Location: /Volumes/data/pyspedas/omni/hro_1min/2004/omni_hro_1min_20040801_v01.cdf\n",
      "Downloaded 1 files.\n",
      "Loaded 42 variables.\n",
      "index Error\n",
      "2004-09-01\n",
      "1. File was downloaded. Location: /Volumes/data/pyspedas/omni/hro_1min/2004/omni_hro_1min_20040901_v01.cdf\n",
      "Downloaded 1 files.\n"
     ]
    },
    {
     "name": "stderr",
     "output_type": "stream",
     "text": [
      "16- 7月-19 23:08:16: /home/hirotoshi/PycharmProjects/swfpy/venv/lib/python3.7/site-packages/cdflib/epochs.py:1465: ResourceWarning: unclosed <ssl.SSLSocket [closed] fd=87, family=AddressFamily.AF_INET, type=SocketKind.SOCK_STREAM, proto=6>\n",
      "  component = []\n",
      "\n",
      "16- 7月-19 23:08:16: /home/hirotoshi/PycharmProjects/swfpy/venv/lib/python3.7/site-packages/cdflib/epochs.py:1465: ResourceWarning: unclosed <ssl.SSLSocket [closed] fd=88, family=AddressFamily.AF_INET, type=SocketKind.SOCK_STREAM, proto=6>\n",
      "  component = []\n",
      "\n",
      "16- 7月-19 23:08:16: /home/hirotoshi/PycharmProjects/swfpy/venv/lib/python3.7/site-packages/cdflib/epochs.py:1465: ResourceWarning: unclosed <ssl.SSLSocket [closed] fd=89, family=AddressFamily.AF_INET, type=SocketKind.SOCK_STREAM, proto=6>\n",
      "  component = []\n",
      "\n"
     ]
    },
    {
     "name": "stdout",
     "output_type": "stream",
     "text": [
      "Loaded 42 variables.\n",
      "index Error\n",
      "2004-10-01\n",
      "1. File was downloaded. Location: /Volumes/data/pyspedas/omni/hro_1min/2004/omni_hro_1min_20041001_v01.cdf\n",
      "Downloaded 1 files.\n"
     ]
    },
    {
     "name": "stderr",
     "output_type": "stream",
     "text": [
      "16- 7月-19 23:08:47: /home/hirotoshi/PycharmProjects/swfpy/venv/lib/python3.7/site-packages/cdflib/epochs.py:1465: ResourceWarning: unclosed <ssl.SSLSocket [closed] fd=87, family=AddressFamily.AF_INET, type=SocketKind.SOCK_STREAM, proto=6>\n",
      "  component = []\n",
      "\n",
      "16- 7月-19 23:08:47: /home/hirotoshi/PycharmProjects/swfpy/venv/lib/python3.7/site-packages/cdflib/epochs.py:1465: ResourceWarning: unclosed <ssl.SSLSocket [closed] fd=88, family=AddressFamily.AF_INET, type=SocketKind.SOCK_STREAM, proto=6>\n",
      "  component = []\n",
      "\n",
      "16- 7月-19 23:08:47: /home/hirotoshi/PycharmProjects/swfpy/venv/lib/python3.7/site-packages/cdflib/epochs.py:1465: ResourceWarning: unclosed <ssl.SSLSocket [closed] fd=89, family=AddressFamily.AF_INET, type=SocketKind.SOCK_STREAM, proto=6>\n",
      "  component = []\n",
      "\n"
     ]
    },
    {
     "name": "stdout",
     "output_type": "stream",
     "text": [
      "Loaded 42 variables.\n",
      "index Error\n",
      "2004-11-01\n",
      "1. File was downloaded. Location: /Volumes/data/pyspedas/omni/hro_1min/2004/omni_hro_1min_20041101_v01.cdf\n",
      "Downloaded 1 files.\n"
     ]
    },
    {
     "name": "stderr",
     "output_type": "stream",
     "text": [
      "16- 7月-19 23:09:15: /home/hirotoshi/PycharmProjects/swfpy/venv/lib/python3.7/site-packages/cdflib/epochs.py:1465: ResourceWarning: unclosed <ssl.SSLSocket [closed] fd=87, family=AddressFamily.AF_INET, type=SocketKind.SOCK_STREAM, proto=6>\n",
      "  component = []\n",
      "\n",
      "16- 7月-19 23:09:15: /home/hirotoshi/PycharmProjects/swfpy/venv/lib/python3.7/site-packages/cdflib/epochs.py:1465: ResourceWarning: unclosed <ssl.SSLSocket [closed] fd=88, family=AddressFamily.AF_INET, type=SocketKind.SOCK_STREAM, proto=6>\n",
      "  component = []\n",
      "\n",
      "16- 7月-19 23:09:15: /home/hirotoshi/PycharmProjects/swfpy/venv/lib/python3.7/site-packages/cdflib/epochs.py:1465: ResourceWarning: unclosed <ssl.SSLSocket [closed] fd=89, family=AddressFamily.AF_INET, type=SocketKind.SOCK_STREAM, proto=6>\n",
      "  component = []\n",
      "\n"
     ]
    },
    {
     "name": "stdout",
     "output_type": "stream",
     "text": [
      "Loaded 42 variables.\n",
      "index Error\n",
      "2004-12-01\n",
      "1. File was downloaded. Location: /Volumes/data/pyspedas/omni/hro_1min/2004/omni_hro_1min_20041201_v01.cdf\n",
      "Downloaded 1 files.\n"
     ]
    },
    {
     "name": "stderr",
     "output_type": "stream",
     "text": [
      "16- 7月-19 23:09:46: /home/hirotoshi/PycharmProjects/swfpy/venv/lib/python3.7/site-packages/cdflib/epochs.py:1465: ResourceWarning: unclosed <ssl.SSLSocket [closed] fd=87, family=AddressFamily.AF_INET, type=SocketKind.SOCK_STREAM, proto=6>\n",
      "  component = []\n",
      "\n",
      "16- 7月-19 23:09:46: /home/hirotoshi/PycharmProjects/swfpy/venv/lib/python3.7/site-packages/cdflib/epochs.py:1465: ResourceWarning: unclosed <ssl.SSLSocket [closed] fd=88, family=AddressFamily.AF_INET, type=SocketKind.SOCK_STREAM, proto=6>\n",
      "  component = []\n",
      "\n",
      "16- 7月-19 23:09:46: /home/hirotoshi/PycharmProjects/swfpy/venv/lib/python3.7/site-packages/cdflib/epochs.py:1465: ResourceWarning: unclosed <ssl.SSLSocket [closed] fd=89, family=AddressFamily.AF_INET, type=SocketKind.SOCK_STREAM, proto=6>\n",
      "  component = []\n",
      "\n"
     ]
    },
    {
     "name": "stdout",
     "output_type": "stream",
     "text": [
      "Loaded 42 variables.\n",
      "index Error\n",
      "2005-01-01\n",
      "1. File was downloaded. Location: /Volumes/data/pyspedas/omni/hro_1min/2005/omni_hro_1min_20050101_v01.cdf\n",
      "Downloaded 1 files.\n"
     ]
    },
    {
     "name": "stderr",
     "output_type": "stream",
     "text": [
      "16- 7月-19 23:10:13: /home/hirotoshi/PycharmProjects/swfpy/venv/lib/python3.7/site-packages/cdflib/epochs.py:1465: ResourceWarning: unclosed <ssl.SSLSocket [closed] fd=87, family=AddressFamily.AF_INET, type=SocketKind.SOCK_STREAM, proto=6>\n",
      "  component = []\n",
      "\n",
      "16- 7月-19 23:10:13: /home/hirotoshi/PycharmProjects/swfpy/venv/lib/python3.7/site-packages/cdflib/epochs.py:1465: ResourceWarning: unclosed <ssl.SSLSocket [closed] fd=88, family=AddressFamily.AF_INET, type=SocketKind.SOCK_STREAM, proto=6>\n",
      "  component = []\n",
      "\n",
      "16- 7月-19 23:10:13: /home/hirotoshi/PycharmProjects/swfpy/venv/lib/python3.7/site-packages/cdflib/epochs.py:1465: ResourceWarning: unclosed <ssl.SSLSocket [closed] fd=89, family=AddressFamily.AF_INET, type=SocketKind.SOCK_STREAM, proto=6>\n",
      "  component = []\n",
      "\n"
     ]
    },
    {
     "name": "stdout",
     "output_type": "stream",
     "text": [
      "Loaded 42 variables.\n",
      "index Error\n",
      "2005-02-01\n",
      "1. File was downloaded. Location: /Volumes/data/pyspedas/omni/hro_1min/2005/omni_hro_1min_20050201_v01.cdf\n",
      "Downloaded 1 files.\n"
     ]
    },
    {
     "name": "stderr",
     "output_type": "stream",
     "text": [
      "16- 7月-19 23:10:47: /home/hirotoshi/PycharmProjects/swfpy/venv/lib/python3.7/site-packages/cdflib/epochs.py:1465: ResourceWarning: unclosed <ssl.SSLSocket [closed] fd=87, family=AddressFamily.AF_INET, type=SocketKind.SOCK_STREAM, proto=6>\n",
      "  component = []\n",
      "\n",
      "16- 7月-19 23:10:47: /home/hirotoshi/PycharmProjects/swfpy/venv/lib/python3.7/site-packages/cdflib/epochs.py:1465: ResourceWarning: unclosed <ssl.SSLSocket [closed] fd=88, family=AddressFamily.AF_INET, type=SocketKind.SOCK_STREAM, proto=6>\n",
      "  component = []\n",
      "\n",
      "16- 7月-19 23:10:47: /home/hirotoshi/PycharmProjects/swfpy/venv/lib/python3.7/site-packages/cdflib/epochs.py:1465: ResourceWarning: unclosed <ssl.SSLSocket [closed] fd=89, family=AddressFamily.AF_INET, type=SocketKind.SOCK_STREAM, proto=6>\n",
      "  component = []\n",
      "\n"
     ]
    },
    {
     "name": "stdout",
     "output_type": "stream",
     "text": [
      "Loaded 42 variables.\n",
      "index Error\n",
      "2005-03-01\n",
      "1. File was downloaded. Location: /Volumes/data/pyspedas/omni/hro_1min/2005/omni_hro_1min_20050301_v01.cdf\n",
      "Downloaded 1 files.\n"
     ]
    },
    {
     "name": "stderr",
     "output_type": "stream",
     "text": [
      "16- 7月-19 23:11:18: /home/hirotoshi/PycharmProjects/swfpy/venv/lib/python3.7/site-packages/cdflib/epochs.py:1465: ResourceWarning: unclosed <ssl.SSLSocket [closed] fd=87, family=AddressFamily.AF_INET, type=SocketKind.SOCK_STREAM, proto=6>\n",
      "  component = []\n",
      "\n",
      "16- 7月-19 23:11:18: /home/hirotoshi/PycharmProjects/swfpy/venv/lib/python3.7/site-packages/cdflib/epochs.py:1465: ResourceWarning: unclosed <ssl.SSLSocket [closed] fd=88, family=AddressFamily.AF_INET, type=SocketKind.SOCK_STREAM, proto=6>\n",
      "  component = []\n",
      "\n",
      "16- 7月-19 23:11:18: /home/hirotoshi/PycharmProjects/swfpy/venv/lib/python3.7/site-packages/cdflib/epochs.py:1465: ResourceWarning: unclosed <ssl.SSLSocket [closed] fd=89, family=AddressFamily.AF_INET, type=SocketKind.SOCK_STREAM, proto=6>\n",
      "  component = []\n",
      "\n"
     ]
    },
    {
     "name": "stdout",
     "output_type": "stream",
     "text": [
      "Loaded 42 variables.\n",
      "index Error\n",
      "2005-04-01\n",
      "1. File was downloaded. Location: /Volumes/data/pyspedas/omni/hro_1min/2005/omni_hro_1min_20050401_v01.cdf\n",
      "Downloaded 1 files.\n"
     ]
    },
    {
     "name": "stderr",
     "output_type": "stream",
     "text": [
      "16- 7月-19 23:11:51: /home/hirotoshi/PycharmProjects/swfpy/venv/lib/python3.7/site-packages/cdflib/epochs.py:1465: ResourceWarning: unclosed <ssl.SSLSocket [closed] fd=87, family=AddressFamily.AF_INET, type=SocketKind.SOCK_STREAM, proto=6>\n",
      "  component = []\n",
      "\n",
      "16- 7月-19 23:11:51: /home/hirotoshi/PycharmProjects/swfpy/venv/lib/python3.7/site-packages/cdflib/epochs.py:1465: ResourceWarning: unclosed <ssl.SSLSocket [closed] fd=88, family=AddressFamily.AF_INET, type=SocketKind.SOCK_STREAM, proto=6>\n",
      "  component = []\n",
      "\n",
      "16- 7月-19 23:11:51: /home/hirotoshi/PycharmProjects/swfpy/venv/lib/python3.7/site-packages/cdflib/epochs.py:1465: ResourceWarning: unclosed <ssl.SSLSocket [closed] fd=89, family=AddressFamily.AF_INET, type=SocketKind.SOCK_STREAM, proto=6>\n",
      "  component = []\n",
      "\n"
     ]
    },
    {
     "name": "stdout",
     "output_type": "stream",
     "text": [
      "Loaded 42 variables.\n",
      "index Error\n",
      "2005-05-01\n"
     ]
    },
    {
     "name": "stderr",
     "output_type": "stream",
     "text": [
      "16- 7月-19 23:12:31: /home/hirotoshi/PycharmProjects/swfpy/venv/lib/python3.7/site-packages/cdflib/epochs.py:1465: ResourceWarning: unclosed <ssl.SSLSocket [closed] fd=87, family=AddressFamily.AF_INET, type=SocketKind.SOCK_STREAM, proto=6>\n",
      "  component = []\n",
      "\n",
      "16- 7月-19 23:12:31: /home/hirotoshi/PycharmProjects/swfpy/venv/lib/python3.7/site-packages/cdflib/epochs.py:1465: ResourceWarning: unclosed <ssl.SSLSocket [closed] fd=88, family=AddressFamily.AF_INET, type=SocketKind.SOCK_STREAM, proto=6>\n",
      "  component = []\n",
      "\n",
      "16- 7月-19 23:12:31: /home/hirotoshi/PycharmProjects/swfpy/venv/lib/python3.7/site-packages/cdflib/epochs.py:1465: ResourceWarning: unclosed <ssl.SSLSocket [closed] fd=89, family=AddressFamily.AF_INET, type=SocketKind.SOCK_STREAM, proto=6>\n",
      "  component = []\n",
      "\n"
     ]
    },
    {
     "name": "stdout",
     "output_type": "stream",
     "text": [
      "1. File was downloaded. Location: /Volumes/data/pyspedas/omni/hro_1min/2005/omni_hro_1min_20050501_v01.cdf\n",
      "Downloaded 1 files.\n",
      "Loaded 42 variables.\n",
      "index Error\n",
      "2005-06-01\n",
      "1. File was downloaded. Location: /Volumes/data/pyspedas/omni/hro_1min/2005/omni_hro_1min_20050601_v01.cdf\n",
      "Downloaded 1 files.\n"
     ]
    },
    {
     "name": "stderr",
     "output_type": "stream",
     "text": [
      "16- 7月-19 23:13:02: /home/hirotoshi/PycharmProjects/swfpy/venv/lib/python3.7/site-packages/cdflib/epochs.py:1465: ResourceWarning: unclosed <ssl.SSLSocket [closed] fd=87, family=AddressFamily.AF_INET, type=SocketKind.SOCK_STREAM, proto=6>\n",
      "  component = []\n",
      "\n",
      "16- 7月-19 23:13:02: /home/hirotoshi/PycharmProjects/swfpy/venv/lib/python3.7/site-packages/cdflib/epochs.py:1465: ResourceWarning: unclosed <ssl.SSLSocket [closed] fd=88, family=AddressFamily.AF_INET, type=SocketKind.SOCK_STREAM, proto=6>\n",
      "  component = []\n",
      "\n",
      "16- 7月-19 23:13:02: /home/hirotoshi/PycharmProjects/swfpy/venv/lib/python3.7/site-packages/cdflib/epochs.py:1465: ResourceWarning: unclosed <ssl.SSLSocket [closed] fd=89, family=AddressFamily.AF_INET, type=SocketKind.SOCK_STREAM, proto=6>\n",
      "  component = []\n",
      "\n"
     ]
    },
    {
     "name": "stdout",
     "output_type": "stream",
     "text": [
      "Loaded 42 variables.\n",
      "index Error\n",
      "2005-07-01\n",
      "1. File was downloaded. Location: /Volumes/data/pyspedas/omni/hro_1min/2005/omni_hro_1min_20050701_v01.cdf\n",
      "Downloaded 1 files.\n"
     ]
    },
    {
     "name": "stderr",
     "output_type": "stream",
     "text": [
      "16- 7月-19 23:13:32: /home/hirotoshi/PycharmProjects/swfpy/venv/lib/python3.7/site-packages/cdflib/epochs.py:1465: ResourceWarning: unclosed <ssl.SSLSocket [closed] fd=87, family=AddressFamily.AF_INET, type=SocketKind.SOCK_STREAM, proto=6>\n",
      "  component = []\n",
      "\n",
      "16- 7月-19 23:13:32: /home/hirotoshi/PycharmProjects/swfpy/venv/lib/python3.7/site-packages/cdflib/epochs.py:1465: ResourceWarning: unclosed <ssl.SSLSocket [closed] fd=88, family=AddressFamily.AF_INET, type=SocketKind.SOCK_STREAM, proto=6>\n",
      "  component = []\n",
      "\n",
      "16- 7月-19 23:13:32: /home/hirotoshi/PycharmProjects/swfpy/venv/lib/python3.7/site-packages/cdflib/epochs.py:1465: ResourceWarning: unclosed <ssl.SSLSocket [closed] fd=89, family=AddressFamily.AF_INET, type=SocketKind.SOCK_STREAM, proto=6>\n",
      "  component = []\n",
      "\n"
     ]
    },
    {
     "name": "stdout",
     "output_type": "stream",
     "text": [
      "Loaded 42 variables.\n",
      "index Error\n",
      "2005-08-01\n",
      "1. File was downloaded. Location: /Volumes/data/pyspedas/omni/hro_1min/2005/omni_hro_1min_20050801_v01.cdf\n",
      "Downloaded 1 files.\n"
     ]
    },
    {
     "name": "stderr",
     "output_type": "stream",
     "text": [
      "16- 7月-19 23:14:00: /home/hirotoshi/PycharmProjects/swfpy/venv/lib/python3.7/site-packages/cdflib/epochs.py:1465: ResourceWarning: unclosed <ssl.SSLSocket [closed] fd=87, family=AddressFamily.AF_INET, type=SocketKind.SOCK_STREAM, proto=6>\n",
      "  component = []\n",
      "\n",
      "16- 7月-19 23:14:00: /home/hirotoshi/PycharmProjects/swfpy/venv/lib/python3.7/site-packages/cdflib/epochs.py:1465: ResourceWarning: unclosed <ssl.SSLSocket [closed] fd=88, family=AddressFamily.AF_INET, type=SocketKind.SOCK_STREAM, proto=6>\n",
      "  component = []\n",
      "\n",
      "16- 7月-19 23:14:00: /home/hirotoshi/PycharmProjects/swfpy/venv/lib/python3.7/site-packages/cdflib/epochs.py:1465: ResourceWarning: unclosed <ssl.SSLSocket [closed] fd=89, family=AddressFamily.AF_INET, type=SocketKind.SOCK_STREAM, proto=6>\n",
      "  component = []\n",
      "\n"
     ]
    },
    {
     "name": "stdout",
     "output_type": "stream",
     "text": [
      "Loaded 42 variables.\n",
      "index Error\n",
      "2005-09-01\n",
      "1. File was downloaded. Location: /Volumes/data/pyspedas/omni/hro_1min/2005/omni_hro_1min_20050901_v01.cdf\n",
      "Downloaded 1 files.\n"
     ]
    },
    {
     "name": "stderr",
     "output_type": "stream",
     "text": [
      "16- 7月-19 23:14:40: /home/hirotoshi/PycharmProjects/swfpy/venv/lib/python3.7/site-packages/cdflib/epochs.py:1465: ResourceWarning: unclosed <ssl.SSLSocket [closed] fd=87, family=AddressFamily.AF_INET, type=SocketKind.SOCK_STREAM, proto=6>\n",
      "  component = []\n",
      "\n",
      "16- 7月-19 23:14:40: /home/hirotoshi/PycharmProjects/swfpy/venv/lib/python3.7/site-packages/cdflib/epochs.py:1465: ResourceWarning: unclosed <ssl.SSLSocket [closed] fd=88, family=AddressFamily.AF_INET, type=SocketKind.SOCK_STREAM, proto=6>\n",
      "  component = []\n",
      "\n",
      "16- 7月-19 23:14:40: /home/hirotoshi/PycharmProjects/swfpy/venv/lib/python3.7/site-packages/cdflib/epochs.py:1465: ResourceWarning: unclosed <ssl.SSLSocket [closed] fd=89, family=AddressFamily.AF_INET, type=SocketKind.SOCK_STREAM, proto=6>\n",
      "  component = []\n",
      "\n"
     ]
    },
    {
     "name": "stdout",
     "output_type": "stream",
     "text": [
      "Loaded 42 variables.\n",
      "index Error\n",
      "2005-10-01\n",
      "1. File was downloaded. Location: /Volumes/data/pyspedas/omni/hro_1min/2005/omni_hro_1min_20051001_v01.cdf\n",
      "Downloaded 1 files.\n"
     ]
    },
    {
     "name": "stderr",
     "output_type": "stream",
     "text": [
      "16- 7月-19 23:15:00: /home/hirotoshi/PycharmProjects/swfpy/venv/lib/python3.7/site-packages/cdflib/epochs.py:1465: ResourceWarning: unclosed <ssl.SSLSocket [closed] fd=87, family=AddressFamily.AF_INET, type=SocketKind.SOCK_STREAM, proto=6>\n",
      "  component = []\n",
      "\n",
      "16- 7月-19 23:15:00: /home/hirotoshi/PycharmProjects/swfpy/venv/lib/python3.7/site-packages/cdflib/epochs.py:1465: ResourceWarning: unclosed <ssl.SSLSocket [closed] fd=88, family=AddressFamily.AF_INET, type=SocketKind.SOCK_STREAM, proto=6>\n",
      "  component = []\n",
      "\n",
      "16- 7月-19 23:15:00: /home/hirotoshi/PycharmProjects/swfpy/venv/lib/python3.7/site-packages/cdflib/epochs.py:1465: ResourceWarning: unclosed <ssl.SSLSocket [closed] fd=89, family=AddressFamily.AF_INET, type=SocketKind.SOCK_STREAM, proto=6>\n",
      "  component = []\n",
      "\n"
     ]
    },
    {
     "name": "stdout",
     "output_type": "stream",
     "text": [
      "Loaded 42 variables.\n",
      "index Error\n",
      "2005-11-01\n",
      "1. File was downloaded. Location: /Volumes/data/pyspedas/omni/hro_1min/2005/omni_hro_1min_20051101_v01.cdf\n",
      "Downloaded 1 files.\n"
     ]
    },
    {
     "name": "stderr",
     "output_type": "stream",
     "text": [
      "16- 7月-19 23:15:41: /home/hirotoshi/PycharmProjects/swfpy/venv/lib/python3.7/site-packages/cdflib/epochs.py:1465: ResourceWarning: unclosed <ssl.SSLSocket [closed] fd=87, family=AddressFamily.AF_INET, type=SocketKind.SOCK_STREAM, proto=6>\n",
      "  component = []\n",
      "\n",
      "16- 7月-19 23:15:41: /home/hirotoshi/PycharmProjects/swfpy/venv/lib/python3.7/site-packages/cdflib/epochs.py:1465: ResourceWarning: unclosed <ssl.SSLSocket [closed] fd=88, family=AddressFamily.AF_INET, type=SocketKind.SOCK_STREAM, proto=6>\n",
      "  component = []\n",
      "\n",
      "16- 7月-19 23:15:41: /home/hirotoshi/PycharmProjects/swfpy/venv/lib/python3.7/site-packages/cdflib/epochs.py:1465: ResourceWarning: unclosed <ssl.SSLSocket [closed] fd=89, family=AddressFamily.AF_INET, type=SocketKind.SOCK_STREAM, proto=6>\n",
      "  component = []\n",
      "\n"
     ]
    },
    {
     "name": "stdout",
     "output_type": "stream",
     "text": [
      "Loaded 42 variables.\n",
      "index Error\n",
      "2005-12-01\n",
      "1. File was downloaded. Location: /Volumes/data/pyspedas/omni/hro_1min/2005/omni_hro_1min_20051201_v01.cdf\n",
      "Downloaded 1 files.\n"
     ]
    },
    {
     "name": "stderr",
     "output_type": "stream",
     "text": [
      "16- 7月-19 23:16:22: /home/hirotoshi/PycharmProjects/swfpy/venv/lib/python3.7/site-packages/cdflib/epochs.py:1465: ResourceWarning: unclosed <ssl.SSLSocket [closed] fd=87, family=AddressFamily.AF_INET, type=SocketKind.SOCK_STREAM, proto=6>\n",
      "  component = []\n",
      "\n",
      "16- 7月-19 23:16:22: /home/hirotoshi/PycharmProjects/swfpy/venv/lib/python3.7/site-packages/cdflib/epochs.py:1465: ResourceWarning: unclosed <ssl.SSLSocket [closed] fd=88, family=AddressFamily.AF_INET, type=SocketKind.SOCK_STREAM, proto=6>\n",
      "  component = []\n",
      "\n",
      "16- 7月-19 23:16:22: /home/hirotoshi/PycharmProjects/swfpy/venv/lib/python3.7/site-packages/cdflib/epochs.py:1465: ResourceWarning: unclosed <ssl.SSLSocket [closed] fd=89, family=AddressFamily.AF_INET, type=SocketKind.SOCK_STREAM, proto=6>\n",
      "  component = []\n",
      "\n"
     ]
    },
    {
     "name": "stdout",
     "output_type": "stream",
     "text": [
      "Loaded 42 variables.\n",
      "index Error\n",
      "2006-01-01\n",
      "1. File was downloaded. Location: /Volumes/data/pyspedas/omni/hro_1min/2006/omni_hro_1min_20060101_v01.cdf\n",
      "Downloaded 1 files.\n"
     ]
    },
    {
     "name": "stderr",
     "output_type": "stream",
     "text": [
      "16- 7月-19 23:17:38: /home/hirotoshi/PycharmProjects/swfpy/venv/lib/python3.7/site-packages/cdflib/epochs.py:1465: ResourceWarning: unclosed <ssl.SSLSocket [closed] fd=87, family=AddressFamily.AF_INET, type=SocketKind.SOCK_STREAM, proto=6>\n",
      "  component = []\n",
      "\n",
      "16- 7月-19 23:17:38: /home/hirotoshi/PycharmProjects/swfpy/venv/lib/python3.7/site-packages/cdflib/epochs.py:1465: ResourceWarning: unclosed <ssl.SSLSocket [closed] fd=88, family=AddressFamily.AF_INET, type=SocketKind.SOCK_STREAM, proto=6>\n",
      "  component = []\n",
      "\n",
      "16- 7月-19 23:17:38: /home/hirotoshi/PycharmProjects/swfpy/venv/lib/python3.7/site-packages/cdflib/epochs.py:1465: ResourceWarning: unclosed <ssl.SSLSocket [closed] fd=89, family=AddressFamily.AF_INET, type=SocketKind.SOCK_STREAM, proto=6>\n",
      "  component = []\n",
      "\n"
     ]
    },
    {
     "name": "stdout",
     "output_type": "stream",
     "text": [
      "Loaded 42 variables.\n",
      "index Error\n",
      "2006-02-01\n",
      "1. File was downloaded. Location: /Volumes/data/pyspedas/omni/hro_1min/2006/omni_hro_1min_20060201_v01.cdf\n",
      "Downloaded 1 files.\n"
     ]
    },
    {
     "name": "stderr",
     "output_type": "stream",
     "text": [
      "16- 7月-19 23:17:59: /home/hirotoshi/PycharmProjects/swfpy/venv/lib/python3.7/site-packages/cdflib/epochs.py:1465: ResourceWarning: unclosed <ssl.SSLSocket [closed] fd=87, family=AddressFamily.AF_INET, type=SocketKind.SOCK_STREAM, proto=6>\n",
      "  component = []\n",
      "\n",
      "16- 7月-19 23:17:59: /home/hirotoshi/PycharmProjects/swfpy/venv/lib/python3.7/site-packages/cdflib/epochs.py:1465: ResourceWarning: unclosed <ssl.SSLSocket [closed] fd=88, family=AddressFamily.AF_INET, type=SocketKind.SOCK_STREAM, proto=6>\n",
      "  component = []\n",
      "\n",
      "16- 7月-19 23:17:59: /home/hirotoshi/PycharmProjects/swfpy/venv/lib/python3.7/site-packages/cdflib/epochs.py:1465: ResourceWarning: unclosed <ssl.SSLSocket [closed] fd=89, family=AddressFamily.AF_INET, type=SocketKind.SOCK_STREAM, proto=6>\n",
      "  component = []\n",
      "\n"
     ]
    },
    {
     "name": "stdout",
     "output_type": "stream",
     "text": [
      "Loaded 42 variables.\n",
      "index Error\n",
      "2006-03-01\n",
      "1. File was downloaded. Location: /Volumes/data/pyspedas/omni/hro_1min/2006/omni_hro_1min_20060301_v01.cdf\n",
      "Downloaded 1 files.\n"
     ]
    },
    {
     "name": "stderr",
     "output_type": "stream",
     "text": [
      "16- 7月-19 23:18:30: /home/hirotoshi/PycharmProjects/swfpy/venv/lib/python3.7/site-packages/cdflib/epochs.py:1465: ResourceWarning: unclosed <ssl.SSLSocket [closed] fd=87, family=AddressFamily.AF_INET, type=SocketKind.SOCK_STREAM, proto=6>\n",
      "  component = []\n",
      "\n",
      "16- 7月-19 23:18:30: /home/hirotoshi/PycharmProjects/swfpy/venv/lib/python3.7/site-packages/cdflib/epochs.py:1465: ResourceWarning: unclosed <ssl.SSLSocket [closed] fd=88, family=AddressFamily.AF_INET, type=SocketKind.SOCK_STREAM, proto=6>\n",
      "  component = []\n",
      "\n",
      "16- 7月-19 23:18:30: /home/hirotoshi/PycharmProjects/swfpy/venv/lib/python3.7/site-packages/cdflib/epochs.py:1465: ResourceWarning: unclosed <ssl.SSLSocket [closed] fd=89, family=AddressFamily.AF_INET, type=SocketKind.SOCK_STREAM, proto=6>\n",
      "  component = []\n",
      "\n"
     ]
    },
    {
     "name": "stdout",
     "output_type": "stream",
     "text": [
      "Loaded 42 variables.\n",
      "index Error\n",
      "2006-04-01\n"
     ]
    },
    {
     "name": "stderr",
     "output_type": "stream",
     "text": [
      "16- 7月-19 23:19:03: /home/hirotoshi/PycharmProjects/swfpy/venv/lib/python3.7/site-packages/cdflib/epochs.py:1465: ResourceWarning: unclosed <ssl.SSLSocket [closed] fd=87, family=AddressFamily.AF_INET, type=SocketKind.SOCK_STREAM, proto=6>\n",
      "  component = []\n",
      "\n",
      "16- 7月-19 23:19:03: /home/hirotoshi/PycharmProjects/swfpy/venv/lib/python3.7/site-packages/cdflib/epochs.py:1465: ResourceWarning: unclosed <ssl.SSLSocket [closed] fd=88, family=AddressFamily.AF_INET, type=SocketKind.SOCK_STREAM, proto=6>\n",
      "  component = []\n",
      "\n",
      "16- 7月-19 23:19:03: /home/hirotoshi/PycharmProjects/swfpy/venv/lib/python3.7/site-packages/cdflib/epochs.py:1465: ResourceWarning: unclosed <ssl.SSLSocket [closed] fd=89, family=AddressFamily.AF_INET, type=SocketKind.SOCK_STREAM, proto=6>\n",
      "  component = []\n",
      "\n"
     ]
    },
    {
     "name": "stdout",
     "output_type": "stream",
     "text": [
      "1. File was downloaded. Location: /Volumes/data/pyspedas/omni/hro_1min/2006/omni_hro_1min_20060401_v01.cdf\n",
      "Downloaded 1 files.\n",
      "Loaded 42 variables.\n",
      "index Error\n",
      "2006-05-01\n",
      "1. File was downloaded. Location: /Volumes/data/pyspedas/omni/hro_1min/2006/omni_hro_1min_20060501_v01.cdf\n",
      "Downloaded 1 files.\n"
     ]
    },
    {
     "name": "stderr",
     "output_type": "stream",
     "text": [
      "16- 7月-19 23:19:37: /home/hirotoshi/PycharmProjects/swfpy/venv/lib/python3.7/site-packages/cdflib/epochs.py:1465: ResourceWarning: unclosed <ssl.SSLSocket [closed] fd=87, family=AddressFamily.AF_INET, type=SocketKind.SOCK_STREAM, proto=6>\n",
      "  component = []\n",
      "\n",
      "16- 7月-19 23:19:37: /home/hirotoshi/PycharmProjects/swfpy/venv/lib/python3.7/site-packages/cdflib/epochs.py:1465: ResourceWarning: unclosed <ssl.SSLSocket [closed] fd=88, family=AddressFamily.AF_INET, type=SocketKind.SOCK_STREAM, proto=6>\n",
      "  component = []\n",
      "\n",
      "16- 7月-19 23:19:37: /home/hirotoshi/PycharmProjects/swfpy/venv/lib/python3.7/site-packages/cdflib/epochs.py:1465: ResourceWarning: unclosed <ssl.SSLSocket [closed] fd=89, family=AddressFamily.AF_INET, type=SocketKind.SOCK_STREAM, proto=6>\n",
      "  component = []\n",
      "\n"
     ]
    },
    {
     "name": "stdout",
     "output_type": "stream",
     "text": [
      "Loaded 42 variables.\n",
      "index Error\n",
      "2006-06-01\n",
      "1. File was downloaded. Location: /Volumes/data/pyspedas/omni/hro_1min/2006/omni_hro_1min_20060601_v01.cdf\n",
      "Downloaded 1 files.\n"
     ]
    },
    {
     "name": "stderr",
     "output_type": "stream",
     "text": [
      "16- 7月-19 23:20:17: /home/hirotoshi/PycharmProjects/swfpy/venv/lib/python3.7/site-packages/cdflib/epochs.py:1465: ResourceWarning: unclosed <ssl.SSLSocket [closed] fd=87, family=AddressFamily.AF_INET, type=SocketKind.SOCK_STREAM, proto=6>\n",
      "  component = []\n",
      "\n",
      "16- 7月-19 23:20:17: /home/hirotoshi/PycharmProjects/swfpy/venv/lib/python3.7/site-packages/cdflib/epochs.py:1465: ResourceWarning: unclosed <ssl.SSLSocket [closed] fd=88, family=AddressFamily.AF_INET, type=SocketKind.SOCK_STREAM, proto=6>\n",
      "  component = []\n",
      "\n",
      "16- 7月-19 23:20:17: /home/hirotoshi/PycharmProjects/swfpy/venv/lib/python3.7/site-packages/cdflib/epochs.py:1465: ResourceWarning: unclosed <ssl.SSLSocket [closed] fd=89, family=AddressFamily.AF_INET, type=SocketKind.SOCK_STREAM, proto=6>\n",
      "  component = []\n",
      "\n"
     ]
    },
    {
     "name": "stdout",
     "output_type": "stream",
     "text": [
      "Loaded 42 variables.\n",
      "index Error\n",
      "2006-07-01\n",
      "1. File was downloaded. Location: /Volumes/data/pyspedas/omni/hro_1min/2006/omni_hro_1min_20060701_v01.cdf\n",
      "Downloaded 1 files.\n"
     ]
    },
    {
     "name": "stderr",
     "output_type": "stream",
     "text": [
      "16- 7月-19 23:20:38: /home/hirotoshi/PycharmProjects/swfpy/venv/lib/python3.7/site-packages/cdflib/epochs.py:1465: ResourceWarning: unclosed <ssl.SSLSocket [closed] fd=87, family=AddressFamily.AF_INET, type=SocketKind.SOCK_STREAM, proto=6>\n",
      "  component = []\n",
      "\n",
      "16- 7月-19 23:20:38: /home/hirotoshi/PycharmProjects/swfpy/venv/lib/python3.7/site-packages/cdflib/epochs.py:1465: ResourceWarning: unclosed <ssl.SSLSocket [closed] fd=88, family=AddressFamily.AF_INET, type=SocketKind.SOCK_STREAM, proto=6>\n",
      "  component = []\n",
      "\n",
      "16- 7月-19 23:20:38: /home/hirotoshi/PycharmProjects/swfpy/venv/lib/python3.7/site-packages/cdflib/epochs.py:1465: ResourceWarning: unclosed <ssl.SSLSocket [closed] fd=89, family=AddressFamily.AF_INET, type=SocketKind.SOCK_STREAM, proto=6>\n",
      "  component = []\n",
      "\n"
     ]
    },
    {
     "name": "stdout",
     "output_type": "stream",
     "text": [
      "Loaded 42 variables.\n",
      "index Error\n",
      "2006-08-01\n",
      "1. File was downloaded. Location: /Volumes/data/pyspedas/omni/hro_1min/2006/omni_hro_1min_20060801_v01.cdf\n",
      "Downloaded 1 files.\n"
     ]
    },
    {
     "name": "stderr",
     "output_type": "stream",
     "text": [
      "16- 7月-19 23:21:12: /home/hirotoshi/PycharmProjects/swfpy/venv/lib/python3.7/site-packages/cdflib/epochs.py:1465: ResourceWarning: unclosed <ssl.SSLSocket [closed] fd=87, family=AddressFamily.AF_INET, type=SocketKind.SOCK_STREAM, proto=6>\n",
      "  component = []\n",
      "\n",
      "16- 7月-19 23:21:12: /home/hirotoshi/PycharmProjects/swfpy/venv/lib/python3.7/site-packages/cdflib/epochs.py:1465: ResourceWarning: unclosed <ssl.SSLSocket [closed] fd=88, family=AddressFamily.AF_INET, type=SocketKind.SOCK_STREAM, proto=6>\n",
      "  component = []\n",
      "\n",
      "16- 7月-19 23:21:12: /home/hirotoshi/PycharmProjects/swfpy/venv/lib/python3.7/site-packages/cdflib/epochs.py:1465: ResourceWarning: unclosed <ssl.SSLSocket [closed] fd=89, family=AddressFamily.AF_INET, type=SocketKind.SOCK_STREAM, proto=6>\n",
      "  component = []\n",
      "\n"
     ]
    },
    {
     "name": "stdout",
     "output_type": "stream",
     "text": [
      "Loaded 42 variables.\n",
      "index Error\n",
      "2006-09-01\n",
      "1. File was downloaded. Location: /Volumes/data/pyspedas/omni/hro_1min/2006/omni_hro_1min_20060901_v01.cdf\n",
      "Downloaded 1 files.\n"
     ]
    },
    {
     "name": "stderr",
     "output_type": "stream",
     "text": [
      "16- 7月-19 23:21:48: /home/hirotoshi/PycharmProjects/swfpy/venv/lib/python3.7/site-packages/cdflib/epochs.py:1465: ResourceWarning: unclosed <ssl.SSLSocket [closed] fd=87, family=AddressFamily.AF_INET, type=SocketKind.SOCK_STREAM, proto=6>\n",
      "  component = []\n",
      "\n",
      "16- 7月-19 23:21:48: /home/hirotoshi/PycharmProjects/swfpy/venv/lib/python3.7/site-packages/cdflib/epochs.py:1465: ResourceWarning: unclosed <ssl.SSLSocket [closed] fd=88, family=AddressFamily.AF_INET, type=SocketKind.SOCK_STREAM, proto=6>\n",
      "  component = []\n",
      "\n",
      "16- 7月-19 23:21:48: /home/hirotoshi/PycharmProjects/swfpy/venv/lib/python3.7/site-packages/cdflib/epochs.py:1465: ResourceWarning: unclosed <ssl.SSLSocket [closed] fd=89, family=AddressFamily.AF_INET, type=SocketKind.SOCK_STREAM, proto=6>\n",
      "  component = []\n",
      "\n"
     ]
    },
    {
     "name": "stdout",
     "output_type": "stream",
     "text": [
      "Loaded 42 variables.\n",
      "index Error\n",
      "2006-10-01\n",
      "1. File was downloaded. Location: /Volumes/data/pyspedas/omni/hro_1min/2006/omni_hro_1min_20061001_v01.cdf\n",
      "Downloaded 1 files.\n"
     ]
    },
    {
     "name": "stderr",
     "output_type": "stream",
     "text": [
      "16- 7月-19 23:22:21: /home/hirotoshi/PycharmProjects/swfpy/venv/lib/python3.7/site-packages/cdflib/epochs.py:1465: ResourceWarning: unclosed <ssl.SSLSocket [closed] fd=87, family=AddressFamily.AF_INET, type=SocketKind.SOCK_STREAM, proto=6>\n",
      "  component = []\n",
      "\n",
      "16- 7月-19 23:22:21: /home/hirotoshi/PycharmProjects/swfpy/venv/lib/python3.7/site-packages/cdflib/epochs.py:1465: ResourceWarning: unclosed <ssl.SSLSocket [closed] fd=88, family=AddressFamily.AF_INET, type=SocketKind.SOCK_STREAM, proto=6>\n",
      "  component = []\n",
      "\n",
      "16- 7月-19 23:22:21: /home/hirotoshi/PycharmProjects/swfpy/venv/lib/python3.7/site-packages/cdflib/epochs.py:1465: ResourceWarning: unclosed <ssl.SSLSocket [closed] fd=89, family=AddressFamily.AF_INET, type=SocketKind.SOCK_STREAM, proto=6>\n",
      "  component = []\n",
      "\n"
     ]
    },
    {
     "name": "stdout",
     "output_type": "stream",
     "text": [
      "Loaded 42 variables.\n",
      "index Error\n",
      "2006-11-01\n",
      "1. File was downloaded. Location: /Volumes/data/pyspedas/omni/hro_1min/2006/omni_hro_1min_20061101_v01.cdf\n",
      "Downloaded 1 files.\n"
     ]
    },
    {
     "name": "stderr",
     "output_type": "stream",
     "text": [
      "16- 7月-19 23:22:57: /home/hirotoshi/PycharmProjects/swfpy/venv/lib/python3.7/site-packages/cdflib/epochs.py:1465: ResourceWarning: unclosed <ssl.SSLSocket [closed] fd=87, family=AddressFamily.AF_INET, type=SocketKind.SOCK_STREAM, proto=6>\n",
      "  component = []\n",
      "\n",
      "16- 7月-19 23:22:57: /home/hirotoshi/PycharmProjects/swfpy/venv/lib/python3.7/site-packages/cdflib/epochs.py:1465: ResourceWarning: unclosed <ssl.SSLSocket [closed] fd=88, family=AddressFamily.AF_INET, type=SocketKind.SOCK_STREAM, proto=6>\n",
      "  component = []\n",
      "\n",
      "16- 7月-19 23:22:57: /home/hirotoshi/PycharmProjects/swfpy/venv/lib/python3.7/site-packages/cdflib/epochs.py:1465: ResourceWarning: unclosed <ssl.SSLSocket [closed] fd=89, family=AddressFamily.AF_INET, type=SocketKind.SOCK_STREAM, proto=6>\n",
      "  component = []\n",
      "\n"
     ]
    },
    {
     "name": "stdout",
     "output_type": "stream",
     "text": [
      "Loaded 42 variables.\n",
      "index Error\n",
      "2006-12-01\n",
      "1. File was downloaded. Location: /Volumes/data/pyspedas/omni/hro_1min/2006/omni_hro_1min_20061201_v01.cdf\n",
      "Downloaded 1 files.\n"
     ]
    },
    {
     "name": "stderr",
     "output_type": "stream",
     "text": [
      "16- 7月-19 23:23:38: /home/hirotoshi/PycharmProjects/swfpy/venv/lib/python3.7/site-packages/cdflib/epochs.py:1465: ResourceWarning: unclosed <ssl.SSLSocket [closed] fd=87, family=AddressFamily.AF_INET, type=SocketKind.SOCK_STREAM, proto=6>\n",
      "  component = []\n",
      "\n",
      "16- 7月-19 23:23:38: /home/hirotoshi/PycharmProjects/swfpy/venv/lib/python3.7/site-packages/cdflib/epochs.py:1465: ResourceWarning: unclosed <ssl.SSLSocket [closed] fd=88, family=AddressFamily.AF_INET, type=SocketKind.SOCK_STREAM, proto=6>\n",
      "  component = []\n",
      "\n",
      "16- 7月-19 23:23:38: /home/hirotoshi/PycharmProjects/swfpy/venv/lib/python3.7/site-packages/cdflib/epochs.py:1465: ResourceWarning: unclosed <ssl.SSLSocket [closed] fd=89, family=AddressFamily.AF_INET, type=SocketKind.SOCK_STREAM, proto=6>\n",
      "  component = []\n",
      "\n"
     ]
    },
    {
     "name": "stdout",
     "output_type": "stream",
     "text": [
      "Loaded 42 variables.\n",
      "index Error\n",
      "2007-01-01\n",
      "1. File was downloaded. Location: /Volumes/data/pyspedas/omni/hro_1min/2007/omni_hro_1min_20070101_v01.cdf\n",
      "Downloaded 1 files.\n"
     ]
    },
    {
     "name": "stderr",
     "output_type": "stream",
     "text": [
      "16- 7月-19 23:24:17: /home/hirotoshi/PycharmProjects/swfpy/venv/lib/python3.7/site-packages/cdflib/epochs.py:1465: ResourceWarning: unclosed <ssl.SSLSocket [closed] fd=87, family=AddressFamily.AF_INET, type=SocketKind.SOCK_STREAM, proto=6>\n",
      "  component = []\n",
      "\n",
      "16- 7月-19 23:24:17: /home/hirotoshi/PycharmProjects/swfpy/venv/lib/python3.7/site-packages/cdflib/epochs.py:1465: ResourceWarning: unclosed <ssl.SSLSocket [closed] fd=88, family=AddressFamily.AF_INET, type=SocketKind.SOCK_STREAM, proto=6>\n",
      "  component = []\n",
      "\n",
      "16- 7月-19 23:24:17: /home/hirotoshi/PycharmProjects/swfpy/venv/lib/python3.7/site-packages/cdflib/epochs.py:1465: ResourceWarning: unclosed <ssl.SSLSocket [closed] fd=89, family=AddressFamily.AF_INET, type=SocketKind.SOCK_STREAM, proto=6>\n",
      "  component = []\n",
      "\n"
     ]
    },
    {
     "name": "stdout",
     "output_type": "stream",
     "text": [
      "Loaded 42 variables.\n",
      "index Error\n",
      "2007-02-01\n",
      "1. File was downloaded. Location: /Volumes/data/pyspedas/omni/hro_1min/2007/omni_hro_1min_20070201_v01.cdf\n",
      "Downloaded 1 files.\n"
     ]
    },
    {
     "name": "stderr",
     "output_type": "stream",
     "text": [
      "16- 7月-19 23:24:49: /home/hirotoshi/PycharmProjects/swfpy/venv/lib/python3.7/site-packages/cdflib/epochs.py:1465: ResourceWarning: unclosed <ssl.SSLSocket [closed] fd=87, family=AddressFamily.AF_INET, type=SocketKind.SOCK_STREAM, proto=6>\n",
      "  component = []\n",
      "\n",
      "16- 7月-19 23:24:49: /home/hirotoshi/PycharmProjects/swfpy/venv/lib/python3.7/site-packages/cdflib/epochs.py:1465: ResourceWarning: unclosed <ssl.SSLSocket [closed] fd=88, family=AddressFamily.AF_INET, type=SocketKind.SOCK_STREAM, proto=6>\n",
      "  component = []\n",
      "\n",
      "16- 7月-19 23:24:49: /home/hirotoshi/PycharmProjects/swfpy/venv/lib/python3.7/site-packages/cdflib/epochs.py:1465: ResourceWarning: unclosed <ssl.SSLSocket [closed] fd=89, family=AddressFamily.AF_INET, type=SocketKind.SOCK_STREAM, proto=6>\n",
      "  component = []\n",
      "\n"
     ]
    },
    {
     "name": "stdout",
     "output_type": "stream",
     "text": [
      "Loaded 42 variables.\n",
      "index Error\n",
      "2007-03-01\n",
      "1. File was downloaded. Location: /Volumes/data/pyspedas/omni/hro_1min/2007/omni_hro_1min_20070301_v01.cdf\n",
      "Downloaded 1 files.\n"
     ]
    },
    {
     "name": "stderr",
     "output_type": "stream",
     "text": [
      "16- 7月-19 23:25:20: /home/hirotoshi/PycharmProjects/swfpy/venv/lib/python3.7/site-packages/cdflib/epochs.py:1465: ResourceWarning: unclosed <ssl.SSLSocket [closed] fd=87, family=AddressFamily.AF_INET, type=SocketKind.SOCK_STREAM, proto=6>\n",
      "  component = []\n",
      "\n",
      "16- 7月-19 23:25:20: /home/hirotoshi/PycharmProjects/swfpy/venv/lib/python3.7/site-packages/cdflib/epochs.py:1465: ResourceWarning: unclosed <ssl.SSLSocket [closed] fd=88, family=AddressFamily.AF_INET, type=SocketKind.SOCK_STREAM, proto=6>\n",
      "  component = []\n",
      "\n",
      "16- 7月-19 23:25:20: /home/hirotoshi/PycharmProjects/swfpy/venv/lib/python3.7/site-packages/cdflib/epochs.py:1465: ResourceWarning: unclosed <ssl.SSLSocket [closed] fd=89, family=AddressFamily.AF_INET, type=SocketKind.SOCK_STREAM, proto=6>\n",
      "  component = []\n",
      "\n"
     ]
    },
    {
     "name": "stdout",
     "output_type": "stream",
     "text": [
      "Loaded 42 variables.\n",
      "index Error\n",
      "2007-04-01\n",
      "1. File was downloaded. Location: /Volumes/data/pyspedas/omni/hro_1min/2007/omni_hro_1min_20070401_v01.cdf\n",
      "Downloaded 1 files.\n"
     ]
    },
    {
     "name": "stderr",
     "output_type": "stream",
     "text": [
      "16- 7月-19 23:25:49: /home/hirotoshi/PycharmProjects/swfpy/venv/lib/python3.7/site-packages/cdflib/epochs.py:1465: ResourceWarning: unclosed <ssl.SSLSocket [closed] fd=87, family=AddressFamily.AF_INET, type=SocketKind.SOCK_STREAM, proto=6>\n",
      "  component = []\n",
      "\n",
      "16- 7月-19 23:25:49: /home/hirotoshi/PycharmProjects/swfpy/venv/lib/python3.7/site-packages/cdflib/epochs.py:1465: ResourceWarning: unclosed <ssl.SSLSocket [closed] fd=88, family=AddressFamily.AF_INET, type=SocketKind.SOCK_STREAM, proto=6>\n",
      "  component = []\n",
      "\n",
      "16- 7月-19 23:25:49: /home/hirotoshi/PycharmProjects/swfpy/venv/lib/python3.7/site-packages/cdflib/epochs.py:1465: ResourceWarning: unclosed <ssl.SSLSocket [closed] fd=89, family=AddressFamily.AF_INET, type=SocketKind.SOCK_STREAM, proto=6>\n",
      "  component = []\n",
      "\n"
     ]
    },
    {
     "name": "stdout",
     "output_type": "stream",
     "text": [
      "Loaded 42 variables.\n",
      "index Error\n",
      "2007-05-01\n",
      "1. File was downloaded. Location: /Volumes/data/pyspedas/omni/hro_1min/2007/omni_hro_1min_20070501_v01.cdf\n",
      "Downloaded 1 files.\n"
     ]
    },
    {
     "name": "stderr",
     "output_type": "stream",
     "text": [
      "16- 7月-19 23:26:23: /home/hirotoshi/PycharmProjects/swfpy/venv/lib/python3.7/site-packages/cdflib/epochs.py:1465: ResourceWarning: unclosed <ssl.SSLSocket [closed] fd=87, family=AddressFamily.AF_INET, type=SocketKind.SOCK_STREAM, proto=6>\n",
      "  component = []\n",
      "\n",
      "16- 7月-19 23:26:23: /home/hirotoshi/PycharmProjects/swfpy/venv/lib/python3.7/site-packages/cdflib/epochs.py:1465: ResourceWarning: unclosed <ssl.SSLSocket [closed] fd=88, family=AddressFamily.AF_INET, type=SocketKind.SOCK_STREAM, proto=6>\n",
      "  component = []\n",
      "\n",
      "16- 7月-19 23:26:23: /home/hirotoshi/PycharmProjects/swfpy/venv/lib/python3.7/site-packages/cdflib/epochs.py:1465: ResourceWarning: unclosed <ssl.SSLSocket [closed] fd=89, family=AddressFamily.AF_INET, type=SocketKind.SOCK_STREAM, proto=6>\n",
      "  component = []\n",
      "\n"
     ]
    },
    {
     "name": "stdout",
     "output_type": "stream",
     "text": [
      "Loaded 42 variables.\n",
      "index Error\n",
      "2007-06-01\n",
      "1. File was downloaded. Location: /Volumes/data/pyspedas/omni/hro_1min/2007/omni_hro_1min_20070601_v01.cdf\n",
      "Downloaded 1 files.\n"
     ]
    },
    {
     "name": "stderr",
     "output_type": "stream",
     "text": [
      "16- 7月-19 23:26:55: /home/hirotoshi/PycharmProjects/swfpy/venv/lib/python3.7/site-packages/cdflib/epochs.py:1465: ResourceWarning: unclosed <ssl.SSLSocket [closed] fd=87, family=AddressFamily.AF_INET, type=SocketKind.SOCK_STREAM, proto=6>\n",
      "  component = []\n",
      "\n",
      "16- 7月-19 23:26:55: /home/hirotoshi/PycharmProjects/swfpy/venv/lib/python3.7/site-packages/cdflib/epochs.py:1465: ResourceWarning: unclosed <ssl.SSLSocket [closed] fd=88, family=AddressFamily.AF_INET, type=SocketKind.SOCK_STREAM, proto=6>\n",
      "  component = []\n",
      "\n",
      "16- 7月-19 23:26:55: /home/hirotoshi/PycharmProjects/swfpy/venv/lib/python3.7/site-packages/cdflib/epochs.py:1465: ResourceWarning: unclosed <ssl.SSLSocket [closed] fd=89, family=AddressFamily.AF_INET, type=SocketKind.SOCK_STREAM, proto=6>\n",
      "  component = []\n",
      "\n"
     ]
    },
    {
     "name": "stdout",
     "output_type": "stream",
     "text": [
      "Loaded 42 variables.\n",
      "index Error\n",
      "2007-07-01\n",
      "1. File was downloaded. Location: /Volumes/data/pyspedas/omni/hro_1min/2007/omni_hro_1min_20070701_v01.cdf\n",
      "Downloaded 1 files.\n"
     ]
    },
    {
     "name": "stderr",
     "output_type": "stream",
     "text": [
      "16- 7月-19 23:27:28: /home/hirotoshi/PycharmProjects/swfpy/venv/lib/python3.7/site-packages/cdflib/epochs.py:1465: ResourceWarning: unclosed <ssl.SSLSocket [closed] fd=87, family=AddressFamily.AF_INET, type=SocketKind.SOCK_STREAM, proto=6>\n",
      "  component = []\n",
      "\n",
      "16- 7月-19 23:27:28: /home/hirotoshi/PycharmProjects/swfpy/venv/lib/python3.7/site-packages/cdflib/epochs.py:1465: ResourceWarning: unclosed <ssl.SSLSocket [closed] fd=88, family=AddressFamily.AF_INET, type=SocketKind.SOCK_STREAM, proto=6>\n",
      "  component = []\n",
      "\n",
      "16- 7月-19 23:27:28: /home/hirotoshi/PycharmProjects/swfpy/venv/lib/python3.7/site-packages/cdflib/epochs.py:1465: ResourceWarning: unclosed <ssl.SSLSocket [closed] fd=89, family=AddressFamily.AF_INET, type=SocketKind.SOCK_STREAM, proto=6>\n",
      "  component = []\n",
      "\n"
     ]
    },
    {
     "name": "stdout",
     "output_type": "stream",
     "text": [
      "Loaded 42 variables.\n",
      "index Error\n",
      "2007-08-01\n",
      "1. File was downloaded. Location: /Volumes/data/pyspedas/omni/hro_1min/2007/omni_hro_1min_20070801_v01.cdf\n",
      "Downloaded 1 files.\n"
     ]
    },
    {
     "name": "stderr",
     "output_type": "stream",
     "text": [
      "16- 7月-19 23:28:01: /home/hirotoshi/PycharmProjects/swfpy/venv/lib/python3.7/site-packages/cdflib/epochs.py:1465: ResourceWarning: unclosed <ssl.SSLSocket [closed] fd=87, family=AddressFamily.AF_INET, type=SocketKind.SOCK_STREAM, proto=6>\n",
      "  component = []\n",
      "\n",
      "16- 7月-19 23:28:01: /home/hirotoshi/PycharmProjects/swfpy/venv/lib/python3.7/site-packages/cdflib/epochs.py:1465: ResourceWarning: unclosed <ssl.SSLSocket [closed] fd=88, family=AddressFamily.AF_INET, type=SocketKind.SOCK_STREAM, proto=6>\n",
      "  component = []\n",
      "\n",
      "16- 7月-19 23:28:01: /home/hirotoshi/PycharmProjects/swfpy/venv/lib/python3.7/site-packages/cdflib/epochs.py:1465: ResourceWarning: unclosed <ssl.SSLSocket [closed] fd=89, family=AddressFamily.AF_INET, type=SocketKind.SOCK_STREAM, proto=6>\n",
      "  component = []\n",
      "\n"
     ]
    },
    {
     "name": "stdout",
     "output_type": "stream",
     "text": [
      "Loaded 42 variables.\n",
      "index Error\n",
      "2007-09-01\n",
      "1. File was downloaded. Location: /Volumes/data/pyspedas/omni/hro_1min/2007/omni_hro_1min_20070901_v01.cdf\n",
      "Downloaded 1 files.\n"
     ]
    },
    {
     "name": "stderr",
     "output_type": "stream",
     "text": [
      "16- 7月-19 23:28:33: /home/hirotoshi/PycharmProjects/swfpy/venv/lib/python3.7/site-packages/cdflib/epochs.py:1465: ResourceWarning: unclosed <ssl.SSLSocket [closed] fd=87, family=AddressFamily.AF_INET, type=SocketKind.SOCK_STREAM, proto=6>\n",
      "  component = []\n",
      "\n",
      "16- 7月-19 23:28:33: /home/hirotoshi/PycharmProjects/swfpy/venv/lib/python3.7/site-packages/cdflib/epochs.py:1465: ResourceWarning: unclosed <ssl.SSLSocket [closed] fd=88, family=AddressFamily.AF_INET, type=SocketKind.SOCK_STREAM, proto=6>\n",
      "  component = []\n",
      "\n",
      "16- 7月-19 23:28:33: /home/hirotoshi/PycharmProjects/swfpy/venv/lib/python3.7/site-packages/cdflib/epochs.py:1465: ResourceWarning: unclosed <ssl.SSLSocket [closed] fd=89, family=AddressFamily.AF_INET, type=SocketKind.SOCK_STREAM, proto=6>\n",
      "  component = []\n",
      "\n"
     ]
    },
    {
     "name": "stdout",
     "output_type": "stream",
     "text": [
      "Loaded 42 variables.\n",
      "index Error\n",
      "2007-10-01\n",
      "1. File was downloaded. Location: /Volumes/data/pyspedas/omni/hro_1min/2007/omni_hro_1min_20071001_v01.cdf\n",
      "Downloaded 1 files.\n"
     ]
    },
    {
     "name": "stderr",
     "output_type": "stream",
     "text": [
      "16- 7月-19 23:28:59: /home/hirotoshi/PycharmProjects/swfpy/venv/lib/python3.7/site-packages/cdflib/epochs.py:1465: ResourceWarning: unclosed <ssl.SSLSocket [closed] fd=87, family=AddressFamily.AF_INET, type=SocketKind.SOCK_STREAM, proto=6>\n",
      "  component = []\n",
      "\n",
      "16- 7月-19 23:28:59: /home/hirotoshi/PycharmProjects/swfpy/venv/lib/python3.7/site-packages/cdflib/epochs.py:1465: ResourceWarning: unclosed <ssl.SSLSocket [closed] fd=88, family=AddressFamily.AF_INET, type=SocketKind.SOCK_STREAM, proto=6>\n",
      "  component = []\n",
      "\n",
      "16- 7月-19 23:28:59: /home/hirotoshi/PycharmProjects/swfpy/venv/lib/python3.7/site-packages/cdflib/epochs.py:1465: ResourceWarning: unclosed <ssl.SSLSocket [closed] fd=89, family=AddressFamily.AF_INET, type=SocketKind.SOCK_STREAM, proto=6>\n",
      "  component = []\n",
      "\n"
     ]
    },
    {
     "name": "stdout",
     "output_type": "stream",
     "text": [
      "Loaded 42 variables.\n",
      "index Error\n",
      "2007-11-01\n",
      "1. File was downloaded. Location: /Volumes/data/pyspedas/omni/hro_1min/2007/omni_hro_1min_20071101_v01.cdf\n",
      "Downloaded 1 files.\n"
     ]
    },
    {
     "name": "stderr",
     "output_type": "stream",
     "text": [
      "16- 7月-19 23:29:31: /home/hirotoshi/PycharmProjects/swfpy/venv/lib/python3.7/site-packages/cdflib/epochs.py:1465: ResourceWarning: unclosed <ssl.SSLSocket [closed] fd=87, family=AddressFamily.AF_INET, type=SocketKind.SOCK_STREAM, proto=6>\n",
      "  component = []\n",
      "\n",
      "16- 7月-19 23:29:31: /home/hirotoshi/PycharmProjects/swfpy/venv/lib/python3.7/site-packages/cdflib/epochs.py:1465: ResourceWarning: unclosed <ssl.SSLSocket [closed] fd=88, family=AddressFamily.AF_INET, type=SocketKind.SOCK_STREAM, proto=6>\n",
      "  component = []\n",
      "\n",
      "16- 7月-19 23:29:31: /home/hirotoshi/PycharmProjects/swfpy/venv/lib/python3.7/site-packages/cdflib/epochs.py:1465: ResourceWarning: unclosed <ssl.SSLSocket [closed] fd=89, family=AddressFamily.AF_INET, type=SocketKind.SOCK_STREAM, proto=6>\n",
      "  component = []\n",
      "\n"
     ]
    },
    {
     "name": "stdout",
     "output_type": "stream",
     "text": [
      "Loaded 42 variables.\n",
      "index Error\n",
      "2007-12-01\n",
      "1. File was downloaded. Location: /Volumes/data/pyspedas/omni/hro_1min/2007/omni_hro_1min_20071201_v01.cdf\n",
      "Downloaded 1 files.\n"
     ]
    },
    {
     "name": "stderr",
     "output_type": "stream",
     "text": [
      "16- 7月-19 23:30:07: /home/hirotoshi/PycharmProjects/swfpy/venv/lib/python3.7/site-packages/cdflib/epochs.py:1465: ResourceWarning: unclosed <ssl.SSLSocket [closed] fd=87, family=AddressFamily.AF_INET, type=SocketKind.SOCK_STREAM, proto=6>\n",
      "  component = []\n",
      "\n",
      "16- 7月-19 23:30:07: /home/hirotoshi/PycharmProjects/swfpy/venv/lib/python3.7/site-packages/cdflib/epochs.py:1465: ResourceWarning: unclosed <ssl.SSLSocket [closed] fd=88, family=AddressFamily.AF_INET, type=SocketKind.SOCK_STREAM, proto=6>\n",
      "  component = []\n",
      "\n",
      "16- 7月-19 23:30:07: /home/hirotoshi/PycharmProjects/swfpy/venv/lib/python3.7/site-packages/cdflib/epochs.py:1465: ResourceWarning: unclosed <ssl.SSLSocket [closed] fd=89, family=AddressFamily.AF_INET, type=SocketKind.SOCK_STREAM, proto=6>\n",
      "  component = []\n",
      "\n"
     ]
    },
    {
     "name": "stdout",
     "output_type": "stream",
     "text": [
      "Loaded 42 variables.\n",
      "index Error\n",
      "2008-01-01\n",
      "1. File was downloaded. Location: /Volumes/data/pyspedas/omni/hro_1min/2008/omni_hro_1min_20080101_v01.cdf\n",
      "Downloaded 1 files.\n"
     ]
    },
    {
     "name": "stderr",
     "output_type": "stream",
     "text": [
      "16- 7月-19 23:30:37: /home/hirotoshi/PycharmProjects/swfpy/venv/lib/python3.7/site-packages/cdflib/epochs.py:1465: ResourceWarning: unclosed <ssl.SSLSocket [closed] fd=87, family=AddressFamily.AF_INET, type=SocketKind.SOCK_STREAM, proto=6>\n",
      "  component = []\n",
      "\n",
      "16- 7月-19 23:30:37: /home/hirotoshi/PycharmProjects/swfpy/venv/lib/python3.7/site-packages/cdflib/epochs.py:1465: ResourceWarning: unclosed <ssl.SSLSocket [closed] fd=88, family=AddressFamily.AF_INET, type=SocketKind.SOCK_STREAM, proto=6>\n",
      "  component = []\n",
      "\n",
      "16- 7月-19 23:30:37: /home/hirotoshi/PycharmProjects/swfpy/venv/lib/python3.7/site-packages/cdflib/epochs.py:1465: ResourceWarning: unclosed <ssl.SSLSocket [closed] fd=89, family=AddressFamily.AF_INET, type=SocketKind.SOCK_STREAM, proto=6>\n",
      "  component = []\n",
      "\n"
     ]
    },
    {
     "name": "stdout",
     "output_type": "stream",
     "text": [
      "Loaded 42 variables.\n",
      "index Error\n",
      "2008-02-01\n",
      "1. File was downloaded. Location: /Volumes/data/pyspedas/omni/hro_1min/2008/omni_hro_1min_20080201_v01.cdf\n",
      "Downloaded 1 files.\n"
     ]
    },
    {
     "name": "stderr",
     "output_type": "stream",
     "text": [
      "16- 7月-19 23:31:09: /home/hirotoshi/PycharmProjects/swfpy/venv/lib/python3.7/site-packages/cdflib/epochs.py:1465: ResourceWarning: unclosed <ssl.SSLSocket [closed] fd=87, family=AddressFamily.AF_INET, type=SocketKind.SOCK_STREAM, proto=6>\n",
      "  component = []\n",
      "\n",
      "16- 7月-19 23:31:09: /home/hirotoshi/PycharmProjects/swfpy/venv/lib/python3.7/site-packages/cdflib/epochs.py:1465: ResourceWarning: unclosed <ssl.SSLSocket [closed] fd=88, family=AddressFamily.AF_INET, type=SocketKind.SOCK_STREAM, proto=6>\n",
      "  component = []\n",
      "\n",
      "16- 7月-19 23:31:09: /home/hirotoshi/PycharmProjects/swfpy/venv/lib/python3.7/site-packages/cdflib/epochs.py:1465: ResourceWarning: unclosed <ssl.SSLSocket [closed] fd=89, family=AddressFamily.AF_INET, type=SocketKind.SOCK_STREAM, proto=6>\n",
      "  component = []\n",
      "\n"
     ]
    },
    {
     "name": "stdout",
     "output_type": "stream",
     "text": [
      "Loaded 42 variables.\n",
      "index Error\n",
      "2008-03-01\n",
      "1. File was downloaded. Location: /Volumes/data/pyspedas/omni/hro_1min/2008/omni_hro_1min_20080301_v01.cdf\n",
      "Downloaded 1 files.\n"
     ]
    },
    {
     "name": "stderr",
     "output_type": "stream",
     "text": [
      "16- 7月-19 23:31:34: /home/hirotoshi/PycharmProjects/swfpy/venv/lib/python3.7/site-packages/cdflib/epochs.py:1465: ResourceWarning: unclosed <ssl.SSLSocket [closed] fd=87, family=AddressFamily.AF_INET, type=SocketKind.SOCK_STREAM, proto=6>\n",
      "  component = []\n",
      "\n",
      "16- 7月-19 23:31:34: /home/hirotoshi/PycharmProjects/swfpy/venv/lib/python3.7/site-packages/cdflib/epochs.py:1465: ResourceWarning: unclosed <ssl.SSLSocket [closed] fd=88, family=AddressFamily.AF_INET, type=SocketKind.SOCK_STREAM, proto=6>\n",
      "  component = []\n",
      "\n",
      "16- 7月-19 23:31:34: /home/hirotoshi/PycharmProjects/swfpy/venv/lib/python3.7/site-packages/cdflib/epochs.py:1465: ResourceWarning: unclosed <ssl.SSLSocket [closed] fd=89, family=AddressFamily.AF_INET, type=SocketKind.SOCK_STREAM, proto=6>\n",
      "  component = []\n",
      "\n"
     ]
    },
    {
     "name": "stdout",
     "output_type": "stream",
     "text": [
      "Loaded 42 variables.\n",
      "index Error\n",
      "2008-04-01\n",
      "1. File was downloaded. Location: /Volumes/data/pyspedas/omni/hro_1min/2008/omni_hro_1min_20080401_v01.cdf\n",
      "Downloaded 1 files.\n"
     ]
    },
    {
     "name": "stderr",
     "output_type": "stream",
     "text": [
      "16- 7月-19 23:32:13: /home/hirotoshi/PycharmProjects/swfpy/venv/lib/python3.7/site-packages/cdflib/epochs.py:1465: ResourceWarning: unclosed <ssl.SSLSocket [closed] fd=87, family=AddressFamily.AF_INET, type=SocketKind.SOCK_STREAM, proto=6>\n",
      "  component = []\n",
      "\n",
      "16- 7月-19 23:32:13: /home/hirotoshi/PycharmProjects/swfpy/venv/lib/python3.7/site-packages/cdflib/epochs.py:1465: ResourceWarning: unclosed <ssl.SSLSocket [closed] fd=88, family=AddressFamily.AF_INET, type=SocketKind.SOCK_STREAM, proto=6>\n",
      "  component = []\n",
      "\n",
      "16- 7月-19 23:32:13: /home/hirotoshi/PycharmProjects/swfpy/venv/lib/python3.7/site-packages/cdflib/epochs.py:1465: ResourceWarning: unclosed <ssl.SSLSocket [closed] fd=89, family=AddressFamily.AF_INET, type=SocketKind.SOCK_STREAM, proto=6>\n",
      "  component = []\n",
      "\n"
     ]
    },
    {
     "name": "stdout",
     "output_type": "stream",
     "text": [
      "Loaded 42 variables.\n",
      "index Error\n",
      "2008-05-01\n",
      "1. File was downloaded. Location: /Volumes/data/pyspedas/omni/hro_1min/2008/omni_hro_1min_20080501_v01.cdf\n",
      "Downloaded 1 files.\n"
     ]
    },
    {
     "name": "stderr",
     "output_type": "stream",
     "text": [
      "16- 7月-19 23:32:45: /home/hirotoshi/PycharmProjects/swfpy/venv/lib/python3.7/site-packages/cdflib/epochs.py:1465: ResourceWarning: unclosed <ssl.SSLSocket [closed] fd=87, family=AddressFamily.AF_INET, type=SocketKind.SOCK_STREAM, proto=6>\n",
      "  component = []\n",
      "\n",
      "16- 7月-19 23:32:45: /home/hirotoshi/PycharmProjects/swfpy/venv/lib/python3.7/site-packages/cdflib/epochs.py:1465: ResourceWarning: unclosed <ssl.SSLSocket [closed] fd=88, family=AddressFamily.AF_INET, type=SocketKind.SOCK_STREAM, proto=6>\n",
      "  component = []\n",
      "\n",
      "16- 7月-19 23:32:45: /home/hirotoshi/PycharmProjects/swfpy/venv/lib/python3.7/site-packages/cdflib/epochs.py:1465: ResourceWarning: unclosed <ssl.SSLSocket [closed] fd=89, family=AddressFamily.AF_INET, type=SocketKind.SOCK_STREAM, proto=6>\n",
      "  component = []\n",
      "\n"
     ]
    },
    {
     "name": "stdout",
     "output_type": "stream",
     "text": [
      "Loaded 42 variables.\n",
      "index Error\n",
      "2008-06-01\n",
      "1. File was downloaded. Location: /Volumes/data/pyspedas/omni/hro_1min/2008/omni_hro_1min_20080601_v01.cdf\n",
      "Downloaded 1 files.\n"
     ]
    },
    {
     "name": "stderr",
     "output_type": "stream",
     "text": [
      "16- 7月-19 23:33:13: /home/hirotoshi/PycharmProjects/swfpy/venv/lib/python3.7/site-packages/cdflib/epochs.py:1465: ResourceWarning: unclosed <ssl.SSLSocket [closed] fd=87, family=AddressFamily.AF_INET, type=SocketKind.SOCK_STREAM, proto=6>\n",
      "  component = []\n",
      "\n",
      "16- 7月-19 23:33:13: /home/hirotoshi/PycharmProjects/swfpy/venv/lib/python3.7/site-packages/cdflib/epochs.py:1465: ResourceWarning: unclosed <ssl.SSLSocket [closed] fd=88, family=AddressFamily.AF_INET, type=SocketKind.SOCK_STREAM, proto=6>\n",
      "  component = []\n",
      "\n",
      "16- 7月-19 23:33:13: /home/hirotoshi/PycharmProjects/swfpy/venv/lib/python3.7/site-packages/cdflib/epochs.py:1465: ResourceWarning: unclosed <ssl.SSLSocket [closed] fd=89, family=AddressFamily.AF_INET, type=SocketKind.SOCK_STREAM, proto=6>\n",
      "  component = []\n",
      "\n"
     ]
    },
    {
     "name": "stdout",
     "output_type": "stream",
     "text": [
      "Loaded 42 variables.\n",
      "index Error\n",
      "2008-07-01\n",
      "1. File was downloaded. Location: /Volumes/data/pyspedas/omni/hro_1min/2008/omni_hro_1min_20080701_v01.cdf\n",
      "Downloaded 1 files.\n"
     ]
    },
    {
     "name": "stderr",
     "output_type": "stream",
     "text": [
      "16- 7月-19 23:33:46: /home/hirotoshi/PycharmProjects/swfpy/venv/lib/python3.7/site-packages/cdflib/epochs.py:1465: ResourceWarning: unclosed <ssl.SSLSocket [closed] fd=87, family=AddressFamily.AF_INET, type=SocketKind.SOCK_STREAM, proto=6>\n",
      "  component = []\n",
      "\n",
      "16- 7月-19 23:33:46: /home/hirotoshi/PycharmProjects/swfpy/venv/lib/python3.7/site-packages/cdflib/epochs.py:1465: ResourceWarning: unclosed <ssl.SSLSocket [closed] fd=88, family=AddressFamily.AF_INET, type=SocketKind.SOCK_STREAM, proto=6>\n",
      "  component = []\n",
      "\n",
      "16- 7月-19 23:33:46: /home/hirotoshi/PycharmProjects/swfpy/venv/lib/python3.7/site-packages/cdflib/epochs.py:1465: ResourceWarning: unclosed <ssl.SSLSocket [closed] fd=89, family=AddressFamily.AF_INET, type=SocketKind.SOCK_STREAM, proto=6>\n",
      "  component = []\n",
      "\n"
     ]
    },
    {
     "name": "stdout",
     "output_type": "stream",
     "text": [
      "Loaded 42 variables.\n",
      "index Error\n",
      "2008-08-01\n"
     ]
    },
    {
     "name": "stderr",
     "output_type": "stream",
     "text": [
      "16- 7月-19 23:34:24: /home/hirotoshi/PycharmProjects/swfpy/venv/lib/python3.7/site-packages/cdflib/epochs.py:1465: ResourceWarning: unclosed <ssl.SSLSocket [closed] fd=87, family=AddressFamily.AF_INET, type=SocketKind.SOCK_STREAM, proto=6>\n",
      "  component = []\n",
      "\n",
      "16- 7月-19 23:34:24: /home/hirotoshi/PycharmProjects/swfpy/venv/lib/python3.7/site-packages/cdflib/epochs.py:1465: ResourceWarning: unclosed <ssl.SSLSocket [closed] fd=88, family=AddressFamily.AF_INET, type=SocketKind.SOCK_STREAM, proto=6>\n",
      "  component = []\n",
      "\n",
      "16- 7月-19 23:34:24: /home/hirotoshi/PycharmProjects/swfpy/venv/lib/python3.7/site-packages/cdflib/epochs.py:1465: ResourceWarning: unclosed <ssl.SSLSocket [closed] fd=89, family=AddressFamily.AF_INET, type=SocketKind.SOCK_STREAM, proto=6>\n",
      "  component = []\n",
      "\n"
     ]
    },
    {
     "name": "stdout",
     "output_type": "stream",
     "text": [
      "1. File was downloaded. Location: /Volumes/data/pyspedas/omni/hro_1min/2008/omni_hro_1min_20080801_v01.cdf\n",
      "Downloaded 1 files.\n",
      "Loaded 42 variables.\n",
      "index Error\n",
      "2008-09-01\n",
      "1. File was downloaded. Location: /Volumes/data/pyspedas/omni/hro_1min/2008/omni_hro_1min_20080901_v01.cdf\n",
      "Downloaded 1 files.\n"
     ]
    },
    {
     "name": "stderr",
     "output_type": "stream",
     "text": [
      "16- 7月-19 23:34:46: /home/hirotoshi/PycharmProjects/swfpy/venv/lib/python3.7/site-packages/cdflib/epochs.py:1465: ResourceWarning: unclosed <ssl.SSLSocket [closed] fd=87, family=AddressFamily.AF_INET, type=SocketKind.SOCK_STREAM, proto=6>\n",
      "  component = []\n",
      "\n",
      "16- 7月-19 23:34:46: /home/hirotoshi/PycharmProjects/swfpy/venv/lib/python3.7/site-packages/cdflib/epochs.py:1465: ResourceWarning: unclosed <ssl.SSLSocket [closed] fd=88, family=AddressFamily.AF_INET, type=SocketKind.SOCK_STREAM, proto=6>\n",
      "  component = []\n",
      "\n",
      "16- 7月-19 23:34:46: /home/hirotoshi/PycharmProjects/swfpy/venv/lib/python3.7/site-packages/cdflib/epochs.py:1465: ResourceWarning: unclosed <ssl.SSLSocket [closed] fd=89, family=AddressFamily.AF_INET, type=SocketKind.SOCK_STREAM, proto=6>\n",
      "  component = []\n",
      "\n"
     ]
    },
    {
     "name": "stdout",
     "output_type": "stream",
     "text": [
      "Loaded 42 variables.\n",
      "index Error\n",
      "2008-10-01\n"
     ]
    },
    {
     "name": "stderr",
     "output_type": "stream",
     "text": [
      "16- 7月-19 23:35:28: /home/hirotoshi/PycharmProjects/swfpy/venv/lib/python3.7/site-packages/cdflib/epochs.py:1465: ResourceWarning: unclosed <ssl.SSLSocket [closed] fd=87, family=AddressFamily.AF_INET, type=SocketKind.SOCK_STREAM, proto=6>\n",
      "  component = []\n",
      "\n",
      "16- 7月-19 23:35:28: /home/hirotoshi/PycharmProjects/swfpy/venv/lib/python3.7/site-packages/cdflib/epochs.py:1465: ResourceWarning: unclosed <ssl.SSLSocket [closed] fd=88, family=AddressFamily.AF_INET, type=SocketKind.SOCK_STREAM, proto=6>\n",
      "  component = []\n",
      "\n",
      "16- 7月-19 23:35:28: /home/hirotoshi/PycharmProjects/swfpy/venv/lib/python3.7/site-packages/cdflib/epochs.py:1465: ResourceWarning: unclosed <ssl.SSLSocket [closed] fd=89, family=AddressFamily.AF_INET, type=SocketKind.SOCK_STREAM, proto=6>\n",
      "  component = []\n",
      "\n"
     ]
    },
    {
     "name": "stdout",
     "output_type": "stream",
     "text": [
      "1. File was downloaded. Location: /Volumes/data/pyspedas/omni/hro_1min/2008/omni_hro_1min_20081001_v01.cdf\n",
      "Downloaded 1 files.\n",
      "Loaded 42 variables.\n",
      "index Error\n",
      "2008-11-01\n",
      "1. File was downloaded. Location: /Volumes/data/pyspedas/omni/hro_1min/2008/omni_hro_1min_20081101_v01.cdf\n",
      "Downloaded 1 files.\n"
     ]
    },
    {
     "name": "stderr",
     "output_type": "stream",
     "text": [
      "16- 7月-19 23:35:59: /home/hirotoshi/PycharmProjects/swfpy/venv/lib/python3.7/site-packages/cdflib/epochs.py:1465: ResourceWarning: unclosed <ssl.SSLSocket [closed] fd=87, family=AddressFamily.AF_INET, type=SocketKind.SOCK_STREAM, proto=6>\n",
      "  component = []\n",
      "\n",
      "16- 7月-19 23:35:59: /home/hirotoshi/PycharmProjects/swfpy/venv/lib/python3.7/site-packages/cdflib/epochs.py:1465: ResourceWarning: unclosed <ssl.SSLSocket [closed] fd=88, family=AddressFamily.AF_INET, type=SocketKind.SOCK_STREAM, proto=6>\n",
      "  component = []\n",
      "\n",
      "16- 7月-19 23:35:59: /home/hirotoshi/PycharmProjects/swfpy/venv/lib/python3.7/site-packages/cdflib/epochs.py:1465: ResourceWarning: unclosed <ssl.SSLSocket [closed] fd=89, family=AddressFamily.AF_INET, type=SocketKind.SOCK_STREAM, proto=6>\n",
      "  component = []\n",
      "\n"
     ]
    },
    {
     "name": "stdout",
     "output_type": "stream",
     "text": [
      "Loaded 42 variables.\n",
      "index Error\n",
      "2008-12-01\n"
     ]
    },
    {
     "name": "stderr",
     "output_type": "stream",
     "text": [
      "16- 7月-19 23:36:30: /home/hirotoshi/PycharmProjects/swfpy/venv/lib/python3.7/site-packages/cdflib/epochs.py:1465: ResourceWarning: unclosed <ssl.SSLSocket [closed] fd=87, family=AddressFamily.AF_INET, type=SocketKind.SOCK_STREAM, proto=6>\n",
      "  component = []\n",
      "\n",
      "16- 7月-19 23:36:30: /home/hirotoshi/PycharmProjects/swfpy/venv/lib/python3.7/site-packages/cdflib/epochs.py:1465: ResourceWarning: unclosed <ssl.SSLSocket [closed] fd=88, family=AddressFamily.AF_INET, type=SocketKind.SOCK_STREAM, proto=6>\n",
      "  component = []\n",
      "\n",
      "16- 7月-19 23:36:30: /home/hirotoshi/PycharmProjects/swfpy/venv/lib/python3.7/site-packages/cdflib/epochs.py:1465: ResourceWarning: unclosed <ssl.SSLSocket [closed] fd=89, family=AddressFamily.AF_INET, type=SocketKind.SOCK_STREAM, proto=6>\n",
      "  component = []\n",
      "\n"
     ]
    },
    {
     "name": "stdout",
     "output_type": "stream",
     "text": [
      "1. File was downloaded. Location: /Volumes/data/pyspedas/omni/hro_1min/2008/omni_hro_1min_20081201_v01.cdf\n",
      "Downloaded 1 files.\n",
      "Loaded 42 variables.\n",
      "index Error\n",
      "2009-01-01\n",
      "1. File was downloaded. Location: /Volumes/data/pyspedas/omni/hro_1min/2009/omni_hro_1min_20090101_v01.cdf\n",
      "Downloaded 1 files.\n"
     ]
    },
    {
     "name": "stderr",
     "output_type": "stream",
     "text": [
      "16- 7月-19 23:37:02: /home/hirotoshi/PycharmProjects/swfpy/venv/lib/python3.7/site-packages/cdflib/epochs.py:1465: ResourceWarning: unclosed <ssl.SSLSocket [closed] fd=87, family=AddressFamily.AF_INET, type=SocketKind.SOCK_STREAM, proto=6>\n",
      "  component = []\n",
      "\n",
      "16- 7月-19 23:37:02: /home/hirotoshi/PycharmProjects/swfpy/venv/lib/python3.7/site-packages/cdflib/epochs.py:1465: ResourceWarning: unclosed <ssl.SSLSocket [closed] fd=88, family=AddressFamily.AF_INET, type=SocketKind.SOCK_STREAM, proto=6>\n",
      "  component = []\n",
      "\n",
      "16- 7月-19 23:37:02: /home/hirotoshi/PycharmProjects/swfpy/venv/lib/python3.7/site-packages/cdflib/epochs.py:1465: ResourceWarning: unclosed <ssl.SSLSocket [closed] fd=89, family=AddressFamily.AF_INET, type=SocketKind.SOCK_STREAM, proto=6>\n",
      "  component = []\n",
      "\n"
     ]
    },
    {
     "name": "stdout",
     "output_type": "stream",
     "text": [
      "Loaded 42 variables.\n",
      "index Error\n",
      "2009-02-01\n",
      "1. File was downloaded. Location: /Volumes/data/pyspedas/omni/hro_1min/2009/omni_hro_1min_20090201_v01.cdf\n",
      "Downloaded 1 files.\n"
     ]
    },
    {
     "name": "stderr",
     "output_type": "stream",
     "text": [
      "16- 7月-19 23:37:33: /home/hirotoshi/PycharmProjects/swfpy/venv/lib/python3.7/site-packages/cdflib/epochs.py:1465: ResourceWarning: unclosed <ssl.SSLSocket [closed] fd=87, family=AddressFamily.AF_INET, type=SocketKind.SOCK_STREAM, proto=6>\n",
      "  component = []\n",
      "\n",
      "16- 7月-19 23:37:33: /home/hirotoshi/PycharmProjects/swfpy/venv/lib/python3.7/site-packages/cdflib/epochs.py:1465: ResourceWarning: unclosed <ssl.SSLSocket [closed] fd=88, family=AddressFamily.AF_INET, type=SocketKind.SOCK_STREAM, proto=6>\n",
      "  component = []\n",
      "\n",
      "16- 7月-19 23:37:33: /home/hirotoshi/PycharmProjects/swfpy/venv/lib/python3.7/site-packages/cdflib/epochs.py:1465: ResourceWarning: unclosed <ssl.SSLSocket [closed] fd=89, family=AddressFamily.AF_INET, type=SocketKind.SOCK_STREAM, proto=6>\n",
      "  component = []\n",
      "\n"
     ]
    },
    {
     "name": "stdout",
     "output_type": "stream",
     "text": [
      "Loaded 42 variables.\n",
      "index Error\n",
      "2009-03-01\n",
      "1. File was downloaded. Location: /Volumes/data/pyspedas/omni/hro_1min/2009/omni_hro_1min_20090301_v01.cdf\n",
      "Downloaded 1 files.\n"
     ]
    },
    {
     "name": "stderr",
     "output_type": "stream",
     "text": [
      "16- 7月-19 23:38:03: /home/hirotoshi/PycharmProjects/swfpy/venv/lib/python3.7/site-packages/cdflib/epochs.py:1465: ResourceWarning: unclosed <ssl.SSLSocket [closed] fd=87, family=AddressFamily.AF_INET, type=SocketKind.SOCK_STREAM, proto=6>\n",
      "  component = []\n",
      "\n",
      "16- 7月-19 23:38:03: /home/hirotoshi/PycharmProjects/swfpy/venv/lib/python3.7/site-packages/cdflib/epochs.py:1465: ResourceWarning: unclosed <ssl.SSLSocket [closed] fd=88, family=AddressFamily.AF_INET, type=SocketKind.SOCK_STREAM, proto=6>\n",
      "  component = []\n",
      "\n",
      "16- 7月-19 23:38:03: /home/hirotoshi/PycharmProjects/swfpy/venv/lib/python3.7/site-packages/cdflib/epochs.py:1465: ResourceWarning: unclosed <ssl.SSLSocket [closed] fd=89, family=AddressFamily.AF_INET, type=SocketKind.SOCK_STREAM, proto=6>\n",
      "  component = []\n",
      "\n"
     ]
    },
    {
     "name": "stdout",
     "output_type": "stream",
     "text": [
      "Loaded 42 variables.\n",
      "index Error\n",
      "2009-04-01\n",
      "1. File was downloaded. Location: /Volumes/data/pyspedas/omni/hro_1min/2009/omni_hro_1min_20090401_v01.cdf\n",
      "Downloaded 1 files.\n"
     ]
    },
    {
     "name": "stderr",
     "output_type": "stream",
     "text": [
      "16- 7月-19 23:38:36: /home/hirotoshi/PycharmProjects/swfpy/venv/lib/python3.7/site-packages/cdflib/epochs.py:1465: ResourceWarning: unclosed <ssl.SSLSocket [closed] fd=87, family=AddressFamily.AF_INET, type=SocketKind.SOCK_STREAM, proto=6>\n",
      "  component = []\n",
      "\n",
      "16- 7月-19 23:38:36: /home/hirotoshi/PycharmProjects/swfpy/venv/lib/python3.7/site-packages/cdflib/epochs.py:1465: ResourceWarning: unclosed <ssl.SSLSocket [closed] fd=88, family=AddressFamily.AF_INET, type=SocketKind.SOCK_STREAM, proto=6>\n",
      "  component = []\n",
      "\n",
      "16- 7月-19 23:38:36: /home/hirotoshi/PycharmProjects/swfpy/venv/lib/python3.7/site-packages/cdflib/epochs.py:1465: ResourceWarning: unclosed <ssl.SSLSocket [closed] fd=89, family=AddressFamily.AF_INET, type=SocketKind.SOCK_STREAM, proto=6>\n",
      "  component = []\n",
      "\n"
     ]
    },
    {
     "name": "stdout",
     "output_type": "stream",
     "text": [
      "Loaded 42 variables.\n",
      "index Error\n",
      "2009-05-01\n",
      "1. File was downloaded. Location: /Volumes/data/pyspedas/omni/hro_1min/2009/omni_hro_1min_20090501_v01.cdf\n",
      "Downloaded 1 files.\n"
     ]
    },
    {
     "name": "stderr",
     "output_type": "stream",
     "text": [
      "16- 7月-19 23:39:15: /home/hirotoshi/PycharmProjects/swfpy/venv/lib/python3.7/site-packages/cdflib/epochs.py:1465: ResourceWarning: unclosed <ssl.SSLSocket [closed] fd=87, family=AddressFamily.AF_INET, type=SocketKind.SOCK_STREAM, proto=6>\n",
      "  component = []\n",
      "\n",
      "16- 7月-19 23:39:15: /home/hirotoshi/PycharmProjects/swfpy/venv/lib/python3.7/site-packages/cdflib/epochs.py:1465: ResourceWarning: unclosed <ssl.SSLSocket [closed] fd=88, family=AddressFamily.AF_INET, type=SocketKind.SOCK_STREAM, proto=6>\n",
      "  component = []\n",
      "\n",
      "16- 7月-19 23:39:15: /home/hirotoshi/PycharmProjects/swfpy/venv/lib/python3.7/site-packages/cdflib/epochs.py:1465: ResourceWarning: unclosed <ssl.SSLSocket [closed] fd=89, family=AddressFamily.AF_INET, type=SocketKind.SOCK_STREAM, proto=6>\n",
      "  component = []\n",
      "\n"
     ]
    },
    {
     "name": "stdout",
     "output_type": "stream",
     "text": [
      "Loaded 42 variables.\n",
      "index Error\n",
      "2009-06-01\n",
      "1. File was downloaded. Location: /Volumes/data/pyspedas/omni/hro_1min/2009/omni_hro_1min_20090601_v01.cdf\n",
      "Downloaded 1 files.\n"
     ]
    },
    {
     "name": "stderr",
     "output_type": "stream",
     "text": [
      "16- 7月-19 23:39:56: /home/hirotoshi/PycharmProjects/swfpy/venv/lib/python3.7/site-packages/cdflib/epochs.py:1465: ResourceWarning: unclosed <ssl.SSLSocket [closed] fd=87, family=AddressFamily.AF_INET, type=SocketKind.SOCK_STREAM, proto=6>\n",
      "  component = []\n",
      "\n",
      "16- 7月-19 23:39:56: /home/hirotoshi/PycharmProjects/swfpy/venv/lib/python3.7/site-packages/cdflib/epochs.py:1465: ResourceWarning: unclosed <ssl.SSLSocket [closed] fd=88, family=AddressFamily.AF_INET, type=SocketKind.SOCK_STREAM, proto=6>\n",
      "  component = []\n",
      "\n",
      "16- 7月-19 23:39:56: /home/hirotoshi/PycharmProjects/swfpy/venv/lib/python3.7/site-packages/cdflib/epochs.py:1465: ResourceWarning: unclosed <ssl.SSLSocket [closed] fd=89, family=AddressFamily.AF_INET, type=SocketKind.SOCK_STREAM, proto=6>\n",
      "  component = []\n",
      "\n"
     ]
    },
    {
     "name": "stdout",
     "output_type": "stream",
     "text": [
      "Loaded 42 variables.\n",
      "index Error\n",
      "2009-07-01\n",
      "1. File was downloaded. Location: /Volumes/data/pyspedas/omni/hro_1min/2009/omni_hro_1min_20090701_v01.cdf\n",
      "Downloaded 1 files.\n"
     ]
    },
    {
     "name": "stderr",
     "output_type": "stream",
     "text": [
      "16- 7月-19 23:40:29: /home/hirotoshi/PycharmProjects/swfpy/venv/lib/python3.7/site-packages/cdflib/epochs.py:1465: ResourceWarning: unclosed <ssl.SSLSocket [closed] fd=87, family=AddressFamily.AF_INET, type=SocketKind.SOCK_STREAM, proto=6>\n",
      "  component = []\n",
      "\n",
      "16- 7月-19 23:40:29: /home/hirotoshi/PycharmProjects/swfpy/venv/lib/python3.7/site-packages/cdflib/epochs.py:1465: ResourceWarning: unclosed <ssl.SSLSocket [closed] fd=88, family=AddressFamily.AF_INET, type=SocketKind.SOCK_STREAM, proto=6>\n",
      "  component = []\n",
      "\n",
      "16- 7月-19 23:40:29: /home/hirotoshi/PycharmProjects/swfpy/venv/lib/python3.7/site-packages/cdflib/epochs.py:1465: ResourceWarning: unclosed <ssl.SSLSocket [closed] fd=89, family=AddressFamily.AF_INET, type=SocketKind.SOCK_STREAM, proto=6>\n",
      "  component = []\n",
      "\n"
     ]
    },
    {
     "name": "stdout",
     "output_type": "stream",
     "text": [
      "Loaded 42 variables.\n",
      "index Error\n",
      "2009-08-01\n",
      "1. File was downloaded. Location: /Volumes/data/pyspedas/omni/hro_1min/2009/omni_hro_1min_20090801_v01.cdf\n",
      "Downloaded 1 files.\n"
     ]
    },
    {
     "name": "stderr",
     "output_type": "stream",
     "text": [
      "16- 7月-19 23:40:59: /home/hirotoshi/PycharmProjects/swfpy/venv/lib/python3.7/site-packages/cdflib/epochs.py:1465: ResourceWarning: unclosed <ssl.SSLSocket [closed] fd=87, family=AddressFamily.AF_INET, type=SocketKind.SOCK_STREAM, proto=6>\n",
      "  component = []\n",
      "\n",
      "16- 7月-19 23:40:59: /home/hirotoshi/PycharmProjects/swfpy/venv/lib/python3.7/site-packages/cdflib/epochs.py:1465: ResourceWarning: unclosed <ssl.SSLSocket [closed] fd=88, family=AddressFamily.AF_INET, type=SocketKind.SOCK_STREAM, proto=6>\n",
      "  component = []\n",
      "\n",
      "16- 7月-19 23:40:59: /home/hirotoshi/PycharmProjects/swfpy/venv/lib/python3.7/site-packages/cdflib/epochs.py:1465: ResourceWarning: unclosed <ssl.SSLSocket [closed] fd=89, family=AddressFamily.AF_INET, type=SocketKind.SOCK_STREAM, proto=6>\n",
      "  component = []\n",
      "\n"
     ]
    },
    {
     "name": "stdout",
     "output_type": "stream",
     "text": [
      "Loaded 42 variables.\n",
      "index Error\n",
      "2009-09-01\n",
      "1. File was downloaded. Location: /Volumes/data/pyspedas/omni/hro_1min/2009/omni_hro_1min_20090901_v01.cdf\n",
      "Downloaded 1 files.\n"
     ]
    },
    {
     "name": "stderr",
     "output_type": "stream",
     "text": [
      "16- 7月-19 23:41:27: /home/hirotoshi/PycharmProjects/swfpy/venv/lib/python3.7/site-packages/cdflib/epochs.py:1465: ResourceWarning: unclosed <ssl.SSLSocket [closed] fd=87, family=AddressFamily.AF_INET, type=SocketKind.SOCK_STREAM, proto=6>\n",
      "  component = []\n",
      "\n",
      "16- 7月-19 23:41:27: /home/hirotoshi/PycharmProjects/swfpy/venv/lib/python3.7/site-packages/cdflib/epochs.py:1465: ResourceWarning: unclosed <ssl.SSLSocket [closed] fd=88, family=AddressFamily.AF_INET, type=SocketKind.SOCK_STREAM, proto=6>\n",
      "  component = []\n",
      "\n",
      "16- 7月-19 23:41:27: /home/hirotoshi/PycharmProjects/swfpy/venv/lib/python3.7/site-packages/cdflib/epochs.py:1465: ResourceWarning: unclosed <ssl.SSLSocket [closed] fd=89, family=AddressFamily.AF_INET, type=SocketKind.SOCK_STREAM, proto=6>\n",
      "  component = []\n",
      "\n"
     ]
    },
    {
     "name": "stdout",
     "output_type": "stream",
     "text": [
      "Loaded 42 variables.\n",
      "index Error\n",
      "2009-10-01\n",
      "1. File was downloaded. Location: /Volumes/data/pyspedas/omni/hro_1min/2009/omni_hro_1min_20091001_v01.cdf\n",
      "Downloaded 1 files.\n"
     ]
    },
    {
     "name": "stderr",
     "output_type": "stream",
     "text": [
      "16- 7月-19 23:42:00: /home/hirotoshi/PycharmProjects/swfpy/venv/lib/python3.7/site-packages/cdflib/epochs.py:1465: ResourceWarning: unclosed <ssl.SSLSocket [closed] fd=87, family=AddressFamily.AF_INET, type=SocketKind.SOCK_STREAM, proto=6>\n",
      "  component = []\n",
      "\n",
      "16- 7月-19 23:42:00: /home/hirotoshi/PycharmProjects/swfpy/venv/lib/python3.7/site-packages/cdflib/epochs.py:1465: ResourceWarning: unclosed <ssl.SSLSocket [closed] fd=88, family=AddressFamily.AF_INET, type=SocketKind.SOCK_STREAM, proto=6>\n",
      "  component = []\n",
      "\n",
      "16- 7月-19 23:42:00: /home/hirotoshi/PycharmProjects/swfpy/venv/lib/python3.7/site-packages/cdflib/epochs.py:1465: ResourceWarning: unclosed <ssl.SSLSocket [closed] fd=89, family=AddressFamily.AF_INET, type=SocketKind.SOCK_STREAM, proto=6>\n",
      "  component = []\n",
      "\n"
     ]
    },
    {
     "name": "stdout",
     "output_type": "stream",
     "text": [
      "Loaded 42 variables.\n",
      "index Error\n",
      "2009-11-01\n",
      "1. File was downloaded. Location: /Volumes/data/pyspedas/omni/hro_1min/2009/omni_hro_1min_20091101_v01.cdf\n",
      "Downloaded 1 files.\n"
     ]
    },
    {
     "name": "stderr",
     "output_type": "stream",
     "text": [
      "16- 7月-19 23:42:33: /home/hirotoshi/PycharmProjects/swfpy/venv/lib/python3.7/site-packages/cdflib/epochs.py:1465: ResourceWarning: unclosed <ssl.SSLSocket [closed] fd=87, family=AddressFamily.AF_INET, type=SocketKind.SOCK_STREAM, proto=6>\n",
      "  component = []\n",
      "\n",
      "16- 7月-19 23:42:33: /home/hirotoshi/PycharmProjects/swfpy/venv/lib/python3.7/site-packages/cdflib/epochs.py:1465: ResourceWarning: unclosed <ssl.SSLSocket [closed] fd=88, family=AddressFamily.AF_INET, type=SocketKind.SOCK_STREAM, proto=6>\n",
      "  component = []\n",
      "\n",
      "16- 7月-19 23:42:33: /home/hirotoshi/PycharmProjects/swfpy/venv/lib/python3.7/site-packages/cdflib/epochs.py:1465: ResourceWarning: unclosed <ssl.SSLSocket [closed] fd=89, family=AddressFamily.AF_INET, type=SocketKind.SOCK_STREAM, proto=6>\n",
      "  component = []\n",
      "\n"
     ]
    },
    {
     "name": "stdout",
     "output_type": "stream",
     "text": [
      "Loaded 42 variables.\n",
      "index Error\n",
      "2009-12-01\n",
      "1. File was downloaded. Location: /Volumes/data/pyspedas/omni/hro_1min/2009/omni_hro_1min_20091201_v01.cdf\n",
      "Downloaded 1 files.\n"
     ]
    },
    {
     "name": "stderr",
     "output_type": "stream",
     "text": [
      "16- 7月-19 23:43:06: /home/hirotoshi/PycharmProjects/swfpy/venv/lib/python3.7/site-packages/cdflib/epochs.py:1465: ResourceWarning: unclosed <ssl.SSLSocket [closed] fd=87, family=AddressFamily.AF_INET, type=SocketKind.SOCK_STREAM, proto=6>\n",
      "  component = []\n",
      "\n",
      "16- 7月-19 23:43:06: /home/hirotoshi/PycharmProjects/swfpy/venv/lib/python3.7/site-packages/cdflib/epochs.py:1465: ResourceWarning: unclosed <ssl.SSLSocket [closed] fd=88, family=AddressFamily.AF_INET, type=SocketKind.SOCK_STREAM, proto=6>\n",
      "  component = []\n",
      "\n",
      "16- 7月-19 23:43:06: /home/hirotoshi/PycharmProjects/swfpy/venv/lib/python3.7/site-packages/cdflib/epochs.py:1465: ResourceWarning: unclosed <ssl.SSLSocket [closed] fd=89, family=AddressFamily.AF_INET, type=SocketKind.SOCK_STREAM, proto=6>\n",
      "  component = []\n",
      "\n"
     ]
    },
    {
     "name": "stdout",
     "output_type": "stream",
     "text": [
      "Loaded 42 variables.\n",
      "index Error\n",
      "2010-01-01\n"
     ]
    },
    {
     "name": "stderr",
     "output_type": "stream",
     "text": [
      "16- 7月-19 23:43:36: /home/hirotoshi/PycharmProjects/swfpy/venv/lib/python3.7/site-packages/cdflib/epochs.py:1465: ResourceWarning: unclosed <ssl.SSLSocket [closed] fd=87, family=AddressFamily.AF_INET, type=SocketKind.SOCK_STREAM, proto=6>\n",
      "  component = []\n",
      "\n",
      "16- 7月-19 23:43:36: /home/hirotoshi/PycharmProjects/swfpy/venv/lib/python3.7/site-packages/cdflib/epochs.py:1465: ResourceWarning: unclosed <ssl.SSLSocket [closed] fd=88, family=AddressFamily.AF_INET, type=SocketKind.SOCK_STREAM, proto=6>\n",
      "  component = []\n",
      "\n",
      "16- 7月-19 23:43:36: /home/hirotoshi/PycharmProjects/swfpy/venv/lib/python3.7/site-packages/cdflib/epochs.py:1465: ResourceWarning: unclosed <ssl.SSLSocket [closed] fd=89, family=AddressFamily.AF_INET, type=SocketKind.SOCK_STREAM, proto=6>\n",
      "  component = []\n",
      "\n"
     ]
    },
    {
     "name": "stdout",
     "output_type": "stream",
     "text": [
      "1. File was downloaded. Location: /Volumes/data/pyspedas/omni/hro_1min/2010/omni_hro_1min_20100101_v01.cdf\n",
      "Downloaded 1 files.\n",
      "Loaded 42 variables.\n",
      "index Error\n",
      "2010-02-01\n",
      "1. File was downloaded. Location: /Volumes/data/pyspedas/omni/hro_1min/2010/omni_hro_1min_20100201_v01.cdf\n",
      "Downloaded 1 files.\n"
     ]
    },
    {
     "name": "stderr",
     "output_type": "stream",
     "text": [
      "16- 7月-19 23:44:13: /home/hirotoshi/PycharmProjects/swfpy/venv/lib/python3.7/site-packages/cdflib/epochs.py:1465: ResourceWarning: unclosed <ssl.SSLSocket [closed] fd=87, family=AddressFamily.AF_INET, type=SocketKind.SOCK_STREAM, proto=6>\n",
      "  component = []\n",
      "\n",
      "16- 7月-19 23:44:13: /home/hirotoshi/PycharmProjects/swfpy/venv/lib/python3.7/site-packages/cdflib/epochs.py:1465: ResourceWarning: unclosed <ssl.SSLSocket [closed] fd=88, family=AddressFamily.AF_INET, type=SocketKind.SOCK_STREAM, proto=6>\n",
      "  component = []\n",
      "\n",
      "16- 7月-19 23:44:13: /home/hirotoshi/PycharmProjects/swfpy/venv/lib/python3.7/site-packages/cdflib/epochs.py:1465: ResourceWarning: unclosed <ssl.SSLSocket [closed] fd=89, family=AddressFamily.AF_INET, type=SocketKind.SOCK_STREAM, proto=6>\n",
      "  component = []\n",
      "\n"
     ]
    },
    {
     "name": "stdout",
     "output_type": "stream",
     "text": [
      "Loaded 42 variables.\n",
      "index Error\n",
      "2010-03-01\n"
     ]
    },
    {
     "name": "stderr",
     "output_type": "stream",
     "text": [
      "16- 7月-19 23:44:50: /home/hirotoshi/PycharmProjects/swfpy/venv/lib/python3.7/site-packages/cdflib/epochs.py:1465: ResourceWarning: unclosed <ssl.SSLSocket [closed] fd=87, family=AddressFamily.AF_INET, type=SocketKind.SOCK_STREAM, proto=6>\n",
      "  component = []\n",
      "\n",
      "16- 7月-19 23:44:50: /home/hirotoshi/PycharmProjects/swfpy/venv/lib/python3.7/site-packages/cdflib/epochs.py:1465: ResourceWarning: unclosed <ssl.SSLSocket [closed] fd=88, family=AddressFamily.AF_INET, type=SocketKind.SOCK_STREAM, proto=6>\n",
      "  component = []\n",
      "\n",
      "16- 7月-19 23:44:50: /home/hirotoshi/PycharmProjects/swfpy/venv/lib/python3.7/site-packages/cdflib/epochs.py:1465: ResourceWarning: unclosed <ssl.SSLSocket [closed] fd=89, family=AddressFamily.AF_INET, type=SocketKind.SOCK_STREAM, proto=6>\n",
      "  component = []\n",
      "\n"
     ]
    },
    {
     "name": "stdout",
     "output_type": "stream",
     "text": [
      "1. File was downloaded. Location: /Volumes/data/pyspedas/omni/hro_1min/2010/omni_hro_1min_20100301_v01.cdf\n",
      "Downloaded 1 files.\n",
      "Loaded 42 variables.\n",
      "index Error\n",
      "2010-04-01\n",
      "1. File was downloaded. Location: /Volumes/data/pyspedas/omni/hro_1min/2010/omni_hro_1min_20100401_v01.cdf\n",
      "Downloaded 1 files.\n"
     ]
    },
    {
     "name": "stderr",
     "output_type": "stream",
     "text": [
      "16- 7月-19 23:45:22: /home/hirotoshi/PycharmProjects/swfpy/venv/lib/python3.7/site-packages/cdflib/epochs.py:1465: ResourceWarning: unclosed <ssl.SSLSocket [closed] fd=87, family=AddressFamily.AF_INET, type=SocketKind.SOCK_STREAM, proto=6>\n",
      "  component = []\n",
      "\n",
      "16- 7月-19 23:45:22: /home/hirotoshi/PycharmProjects/swfpy/venv/lib/python3.7/site-packages/cdflib/epochs.py:1465: ResourceWarning: unclosed <ssl.SSLSocket [closed] fd=88, family=AddressFamily.AF_INET, type=SocketKind.SOCK_STREAM, proto=6>\n",
      "  component = []\n",
      "\n",
      "16- 7月-19 23:45:22: /home/hirotoshi/PycharmProjects/swfpy/venv/lib/python3.7/site-packages/cdflib/epochs.py:1465: ResourceWarning: unclosed <ssl.SSLSocket [closed] fd=89, family=AddressFamily.AF_INET, type=SocketKind.SOCK_STREAM, proto=6>\n",
      "  component = []\n",
      "\n"
     ]
    },
    {
     "name": "stdout",
     "output_type": "stream",
     "text": [
      "Loaded 42 variables.\n",
      "index Error\n",
      "2010-05-01\n",
      "1. File was downloaded. Location: /Volumes/data/pyspedas/omni/hro_1min/2010/omni_hro_1min_20100501_v01.cdf\n",
      "Downloaded 1 files.\n"
     ]
    },
    {
     "name": "stderr",
     "output_type": "stream",
     "text": [
      "16- 7月-19 23:45:59: /home/hirotoshi/PycharmProjects/swfpy/venv/lib/python3.7/site-packages/cdflib/epochs.py:1465: ResourceWarning: unclosed <ssl.SSLSocket [closed] fd=87, family=AddressFamily.AF_INET, type=SocketKind.SOCK_STREAM, proto=6>\n",
      "  component = []\n",
      "\n",
      "16- 7月-19 23:45:59: /home/hirotoshi/PycharmProjects/swfpy/venv/lib/python3.7/site-packages/cdflib/epochs.py:1465: ResourceWarning: unclosed <ssl.SSLSocket [closed] fd=88, family=AddressFamily.AF_INET, type=SocketKind.SOCK_STREAM, proto=6>\n",
      "  component = []\n",
      "\n",
      "16- 7月-19 23:45:59: /home/hirotoshi/PycharmProjects/swfpy/venv/lib/python3.7/site-packages/cdflib/epochs.py:1465: ResourceWarning: unclosed <ssl.SSLSocket [closed] fd=89, family=AddressFamily.AF_INET, type=SocketKind.SOCK_STREAM, proto=6>\n",
      "  component = []\n",
      "\n"
     ]
    },
    {
     "name": "stdout",
     "output_type": "stream",
     "text": [
      "Loaded 42 variables.\n",
      "index Error\n",
      "2010-06-01\n",
      "1. File was downloaded. Location: /Volumes/data/pyspedas/omni/hro_1min/2010/omni_hro_1min_20100601_v01.cdf\n",
      "Downloaded 1 files.\n"
     ]
    },
    {
     "name": "stderr",
     "output_type": "stream",
     "text": [
      "16- 7月-19 23:46:37: /home/hirotoshi/PycharmProjects/swfpy/venv/lib/python3.7/site-packages/cdflib/epochs.py:1465: ResourceWarning: unclosed <ssl.SSLSocket [closed] fd=87, family=AddressFamily.AF_INET, type=SocketKind.SOCK_STREAM, proto=6>\n",
      "  component = []\n",
      "\n",
      "16- 7月-19 23:46:37: /home/hirotoshi/PycharmProjects/swfpy/venv/lib/python3.7/site-packages/cdflib/epochs.py:1465: ResourceWarning: unclosed <ssl.SSLSocket [closed] fd=88, family=AddressFamily.AF_INET, type=SocketKind.SOCK_STREAM, proto=6>\n",
      "  component = []\n",
      "\n",
      "16- 7月-19 23:46:37: /home/hirotoshi/PycharmProjects/swfpy/venv/lib/python3.7/site-packages/cdflib/epochs.py:1465: ResourceWarning: unclosed <ssl.SSLSocket [closed] fd=89, family=AddressFamily.AF_INET, type=SocketKind.SOCK_STREAM, proto=6>\n",
      "  component = []\n",
      "\n"
     ]
    },
    {
     "name": "stdout",
     "output_type": "stream",
     "text": [
      "Loaded 42 variables.\n",
      "index Error\n",
      "2010-07-01\n",
      "1. File was downloaded. Location: /Volumes/data/pyspedas/omni/hro_1min/2010/omni_hro_1min_20100701_v01.cdf\n",
      "Downloaded 1 files.\n"
     ]
    },
    {
     "name": "stderr",
     "output_type": "stream",
     "text": [
      "16- 7月-19 23:47:07: /home/hirotoshi/PycharmProjects/swfpy/venv/lib/python3.7/site-packages/cdflib/epochs.py:1465: ResourceWarning: unclosed <ssl.SSLSocket [closed] fd=87, family=AddressFamily.AF_INET, type=SocketKind.SOCK_STREAM, proto=6>\n",
      "  component = []\n",
      "\n",
      "16- 7月-19 23:47:07: /home/hirotoshi/PycharmProjects/swfpy/venv/lib/python3.7/site-packages/cdflib/epochs.py:1465: ResourceWarning: unclosed <ssl.SSLSocket [closed] fd=88, family=AddressFamily.AF_INET, type=SocketKind.SOCK_STREAM, proto=6>\n",
      "  component = []\n",
      "\n",
      "16- 7月-19 23:47:07: /home/hirotoshi/PycharmProjects/swfpy/venv/lib/python3.7/site-packages/cdflib/epochs.py:1465: ResourceWarning: unclosed <ssl.SSLSocket [closed] fd=89, family=AddressFamily.AF_INET, type=SocketKind.SOCK_STREAM, proto=6>\n",
      "  component = []\n",
      "\n"
     ]
    },
    {
     "name": "stdout",
     "output_type": "stream",
     "text": [
      "Loaded 42 variables.\n",
      "index Error\n",
      "2010-08-01\n",
      "1. File was downloaded. Location: /Volumes/data/pyspedas/omni/hro_1min/2010/omni_hro_1min_20100801_v01.cdf\n",
      "Downloaded 1 files.\n"
     ]
    },
    {
     "name": "stderr",
     "output_type": "stream",
     "text": [
      "16- 7月-19 23:47:47: /home/hirotoshi/PycharmProjects/swfpy/venv/lib/python3.7/site-packages/cdflib/epochs.py:1465: ResourceWarning: unclosed <ssl.SSLSocket [closed] fd=87, family=AddressFamily.AF_INET, type=SocketKind.SOCK_STREAM, proto=6>\n",
      "  component = []\n",
      "\n",
      "16- 7月-19 23:47:47: /home/hirotoshi/PycharmProjects/swfpy/venv/lib/python3.7/site-packages/cdflib/epochs.py:1465: ResourceWarning: unclosed <ssl.SSLSocket [closed] fd=88, family=AddressFamily.AF_INET, type=SocketKind.SOCK_STREAM, proto=6>\n",
      "  component = []\n",
      "\n",
      "16- 7月-19 23:47:47: /home/hirotoshi/PycharmProjects/swfpy/venv/lib/python3.7/site-packages/cdflib/epochs.py:1465: ResourceWarning: unclosed <ssl.SSLSocket [closed] fd=89, family=AddressFamily.AF_INET, type=SocketKind.SOCK_STREAM, proto=6>\n",
      "  component = []\n",
      "\n"
     ]
    },
    {
     "name": "stdout",
     "output_type": "stream",
     "text": [
      "Loaded 42 variables.\n",
      "index Error\n",
      "2010-09-01\n",
      "1. File was downloaded. Location: /Volumes/data/pyspedas/omni/hro_1min/2010/omni_hro_1min_20100901_v01.cdf\n",
      "Downloaded 1 files.\n"
     ]
    },
    {
     "name": "stderr",
     "output_type": "stream",
     "text": [
      "16- 7月-19 23:48:12: /home/hirotoshi/PycharmProjects/swfpy/venv/lib/python3.7/site-packages/cdflib/epochs.py:1465: ResourceWarning: unclosed <ssl.SSLSocket [closed] fd=87, family=AddressFamily.AF_INET, type=SocketKind.SOCK_STREAM, proto=6>\n",
      "  component = []\n",
      "\n",
      "16- 7月-19 23:48:12: /home/hirotoshi/PycharmProjects/swfpy/venv/lib/python3.7/site-packages/cdflib/epochs.py:1465: ResourceWarning: unclosed <ssl.SSLSocket [closed] fd=88, family=AddressFamily.AF_INET, type=SocketKind.SOCK_STREAM, proto=6>\n",
      "  component = []\n",
      "\n",
      "16- 7月-19 23:48:12: /home/hirotoshi/PycharmProjects/swfpy/venv/lib/python3.7/site-packages/cdflib/epochs.py:1465: ResourceWarning: unclosed <ssl.SSLSocket [closed] fd=89, family=AddressFamily.AF_INET, type=SocketKind.SOCK_STREAM, proto=6>\n",
      "  component = []\n",
      "\n"
     ]
    },
    {
     "name": "stdout",
     "output_type": "stream",
     "text": [
      "Loaded 42 variables.\n",
      "index Error\n",
      "2010-10-01\n",
      "1. File was downloaded. Location: /Volumes/data/pyspedas/omni/hro_1min/2010/omni_hro_1min_20101001_v01.cdf\n",
      "Downloaded 1 files.\n"
     ]
    },
    {
     "name": "stderr",
     "output_type": "stream",
     "text": [
      "16- 7月-19 23:48:29: /home/hirotoshi/PycharmProjects/swfpy/venv/lib/python3.7/site-packages/cdflib/epochs.py:1465: ResourceWarning: unclosed <ssl.SSLSocket [closed] fd=87, family=AddressFamily.AF_INET, type=SocketKind.SOCK_STREAM, proto=6>\n",
      "  component = []\n",
      "\n",
      "16- 7月-19 23:48:29: /home/hirotoshi/PycharmProjects/swfpy/venv/lib/python3.7/site-packages/cdflib/epochs.py:1465: ResourceWarning: unclosed <ssl.SSLSocket [closed] fd=88, family=AddressFamily.AF_INET, type=SocketKind.SOCK_STREAM, proto=6>\n",
      "  component = []\n",
      "\n",
      "16- 7月-19 23:48:29: /home/hirotoshi/PycharmProjects/swfpy/venv/lib/python3.7/site-packages/cdflib/epochs.py:1465: ResourceWarning: unclosed <ssl.SSLSocket [closed] fd=89, family=AddressFamily.AF_INET, type=SocketKind.SOCK_STREAM, proto=6>\n",
      "  component = []\n",
      "\n"
     ]
    },
    {
     "name": "stdout",
     "output_type": "stream",
     "text": [
      "Loaded 42 variables.\n",
      "index Error\n",
      "2010-11-01\n",
      "1. File was downloaded. Location: /Volumes/data/pyspedas/omni/hro_1min/2010/omni_hro_1min_20101101_v01.cdf\n",
      "Downloaded 1 files.\n"
     ]
    },
    {
     "name": "stderr",
     "output_type": "stream",
     "text": [
      "16- 7月-19 23:48:47: /home/hirotoshi/PycharmProjects/swfpy/venv/lib/python3.7/site-packages/cdflib/epochs.py:1465: ResourceWarning: unclosed <ssl.SSLSocket [closed] fd=87, family=AddressFamily.AF_INET, type=SocketKind.SOCK_STREAM, proto=6>\n",
      "  component = []\n",
      "\n",
      "16- 7月-19 23:48:47: /home/hirotoshi/PycharmProjects/swfpy/venv/lib/python3.7/site-packages/cdflib/epochs.py:1465: ResourceWarning: unclosed <ssl.SSLSocket [closed] fd=88, family=AddressFamily.AF_INET, type=SocketKind.SOCK_STREAM, proto=6>\n",
      "  component = []\n",
      "\n",
      "16- 7月-19 23:48:47: /home/hirotoshi/PycharmProjects/swfpy/venv/lib/python3.7/site-packages/cdflib/epochs.py:1465: ResourceWarning: unclosed <ssl.SSLSocket [closed] fd=89, family=AddressFamily.AF_INET, type=SocketKind.SOCK_STREAM, proto=6>\n",
      "  component = []\n",
      "\n"
     ]
    },
    {
     "name": "stdout",
     "output_type": "stream",
     "text": [
      "Loaded 42 variables.\n",
      "index Error\n",
      "2010-12-01\n"
     ]
    },
    {
     "name": "stderr",
     "output_type": "stream",
     "text": [
      "16- 7月-19 23:49:26: /home/hirotoshi/PycharmProjects/swfpy/venv/lib/python3.7/site-packages/cdflib/epochs.py:1465: ResourceWarning: unclosed <ssl.SSLSocket [closed] fd=87, family=AddressFamily.AF_INET, type=SocketKind.SOCK_STREAM, proto=6>\n",
      "  component = []\n",
      "\n",
      "16- 7月-19 23:49:26: /home/hirotoshi/PycharmProjects/swfpy/venv/lib/python3.7/site-packages/cdflib/epochs.py:1465: ResourceWarning: unclosed <ssl.SSLSocket [closed] fd=88, family=AddressFamily.AF_INET, type=SocketKind.SOCK_STREAM, proto=6>\n",
      "  component = []\n",
      "\n",
      "16- 7月-19 23:49:27: /home/hirotoshi/PycharmProjects/swfpy/venv/lib/python3.7/site-packages/cdflib/epochs.py:1465: ResourceWarning: unclosed <ssl.SSLSocket [closed] fd=89, family=AddressFamily.AF_INET, type=SocketKind.SOCK_STREAM, proto=6>\n",
      "  component = []\n",
      "\n"
     ]
    },
    {
     "name": "stdout",
     "output_type": "stream",
     "text": [
      "1. File was downloaded. Location: /Volumes/data/pyspedas/omni/hro_1min/2010/omni_hro_1min_20101201_v01.cdf\n",
      "Downloaded 1 files.\n",
      "Loaded 42 variables.\n",
      "index Error\n",
      "2011-01-01\n",
      "1. File was downloaded. Location: /Volumes/data/pyspedas/omni/hro_1min/2011/omni_hro_1min_20110101_v01.cdf\n",
      "Downloaded 1 files.\n"
     ]
    },
    {
     "name": "stderr",
     "output_type": "stream",
     "text": [
      "16- 7月-19 23:50:02: /home/hirotoshi/PycharmProjects/swfpy/venv/lib/python3.7/site-packages/cdflib/epochs.py:1465: ResourceWarning: unclosed <ssl.SSLSocket [closed] fd=87, family=AddressFamily.AF_INET, type=SocketKind.SOCK_STREAM, proto=6>\n",
      "  component = []\n",
      "\n",
      "16- 7月-19 23:50:02: /home/hirotoshi/PycharmProjects/swfpy/venv/lib/python3.7/site-packages/cdflib/epochs.py:1465: ResourceWarning: unclosed <ssl.SSLSocket [closed] fd=88, family=AddressFamily.AF_INET, type=SocketKind.SOCK_STREAM, proto=6>\n",
      "  component = []\n",
      "\n",
      "16- 7月-19 23:50:02: /home/hirotoshi/PycharmProjects/swfpy/venv/lib/python3.7/site-packages/cdflib/epochs.py:1465: ResourceWarning: unclosed <ssl.SSLSocket [closed] fd=89, family=AddressFamily.AF_INET, type=SocketKind.SOCK_STREAM, proto=6>\n",
      "  component = []\n",
      "\n"
     ]
    },
    {
     "name": "stdout",
     "output_type": "stream",
     "text": [
      "Loaded 42 variables.\n",
      "index Error\n",
      "2011-02-01\n",
      "1. File was downloaded. Location: /Volumes/data/pyspedas/omni/hro_1min/2011/omni_hro_1min_20110201_v01.cdf\n",
      "Downloaded 1 files.\n"
     ]
    },
    {
     "name": "stderr",
     "output_type": "stream",
     "text": [
      "16- 7月-19 23:50:39: /home/hirotoshi/PycharmProjects/swfpy/venv/lib/python3.7/site-packages/cdflib/epochs.py:1465: ResourceWarning: unclosed <ssl.SSLSocket [closed] fd=87, family=AddressFamily.AF_INET, type=SocketKind.SOCK_STREAM, proto=6>\n",
      "  component = []\n",
      "\n",
      "16- 7月-19 23:50:39: /home/hirotoshi/PycharmProjects/swfpy/venv/lib/python3.7/site-packages/cdflib/epochs.py:1465: ResourceWarning: unclosed <ssl.SSLSocket [closed] fd=88, family=AddressFamily.AF_INET, type=SocketKind.SOCK_STREAM, proto=6>\n",
      "  component = []\n",
      "\n",
      "16- 7月-19 23:50:39: /home/hirotoshi/PycharmProjects/swfpy/venv/lib/python3.7/site-packages/cdflib/epochs.py:1465: ResourceWarning: unclosed <ssl.SSLSocket [closed] fd=89, family=AddressFamily.AF_INET, type=SocketKind.SOCK_STREAM, proto=6>\n",
      "  component = []\n",
      "\n"
     ]
    },
    {
     "name": "stdout",
     "output_type": "stream",
     "text": [
      "Loaded 42 variables.\n",
      "index Error\n",
      "2011-03-01\n",
      "1. File was downloaded. Location: /Volumes/data/pyspedas/omni/hro_1min/2011/omni_hro_1min_20110301_v01.cdf\n",
      "Downloaded 1 files.\n"
     ]
    },
    {
     "name": "stderr",
     "output_type": "stream",
     "text": [
      "16- 7月-19 23:51:13: /home/hirotoshi/PycharmProjects/swfpy/venv/lib/python3.7/site-packages/cdflib/epochs.py:1465: ResourceWarning: unclosed <ssl.SSLSocket [closed] fd=87, family=AddressFamily.AF_INET, type=SocketKind.SOCK_STREAM, proto=6>\n",
      "  component = []\n",
      "\n",
      "16- 7月-19 23:51:13: /home/hirotoshi/PycharmProjects/swfpy/venv/lib/python3.7/site-packages/cdflib/epochs.py:1465: ResourceWarning: unclosed <ssl.SSLSocket [closed] fd=88, family=AddressFamily.AF_INET, type=SocketKind.SOCK_STREAM, proto=6>\n",
      "  component = []\n",
      "\n",
      "16- 7月-19 23:51:13: /home/hirotoshi/PycharmProjects/swfpy/venv/lib/python3.7/site-packages/cdflib/epochs.py:1465: ResourceWarning: unclosed <ssl.SSLSocket [closed] fd=89, family=AddressFamily.AF_INET, type=SocketKind.SOCK_STREAM, proto=6>\n",
      "  component = []\n",
      "\n"
     ]
    },
    {
     "name": "stdout",
     "output_type": "stream",
     "text": [
      "Loaded 42 variables.\n",
      "index Error\n",
      "2011-04-01\n",
      "1. File was downloaded. Location: /Volumes/data/pyspedas/omni/hro_1min/2011/omni_hro_1min_20110401_v01.cdf\n",
      "Downloaded 1 files.\n"
     ]
    },
    {
     "name": "stderr",
     "output_type": "stream",
     "text": [
      "16- 7月-19 23:51:45: /home/hirotoshi/PycharmProjects/swfpy/venv/lib/python3.7/site-packages/cdflib/epochs.py:1465: ResourceWarning: unclosed <ssl.SSLSocket [closed] fd=87, family=AddressFamily.AF_INET, type=SocketKind.SOCK_STREAM, proto=6>\n",
      "  component = []\n",
      "\n",
      "16- 7月-19 23:51:45: /home/hirotoshi/PycharmProjects/swfpy/venv/lib/python3.7/site-packages/cdflib/epochs.py:1465: ResourceWarning: unclosed <ssl.SSLSocket [closed] fd=88, family=AddressFamily.AF_INET, type=SocketKind.SOCK_STREAM, proto=6>\n",
      "  component = []\n",
      "\n",
      "16- 7月-19 23:51:45: /home/hirotoshi/PycharmProjects/swfpy/venv/lib/python3.7/site-packages/cdflib/epochs.py:1465: ResourceWarning: unclosed <ssl.SSLSocket [closed] fd=89, family=AddressFamily.AF_INET, type=SocketKind.SOCK_STREAM, proto=6>\n",
      "  component = []\n",
      "\n"
     ]
    },
    {
     "name": "stdout",
     "output_type": "stream",
     "text": [
      "Loaded 42 variables.\n",
      "index Error\n",
      "2011-05-01\n"
     ]
    },
    {
     "name": "stderr",
     "output_type": "stream",
     "text": [
      "16- 7月-19 23:52:29: /home/hirotoshi/PycharmProjects/swfpy/venv/lib/python3.7/site-packages/cdflib/epochs.py:1465: ResourceWarning: unclosed <ssl.SSLSocket [closed] fd=87, family=AddressFamily.AF_INET, type=SocketKind.SOCK_STREAM, proto=6>\n",
      "  component = []\n",
      "\n",
      "16- 7月-19 23:52:29: /home/hirotoshi/PycharmProjects/swfpy/venv/lib/python3.7/site-packages/cdflib/epochs.py:1465: ResourceWarning: unclosed <ssl.SSLSocket [closed] fd=88, family=AddressFamily.AF_INET, type=SocketKind.SOCK_STREAM, proto=6>\n",
      "  component = []\n",
      "\n",
      "16- 7月-19 23:52:29: /home/hirotoshi/PycharmProjects/swfpy/venv/lib/python3.7/site-packages/cdflib/epochs.py:1465: ResourceWarning: unclosed <ssl.SSLSocket [closed] fd=89, family=AddressFamily.AF_INET, type=SocketKind.SOCK_STREAM, proto=6>\n",
      "  component = []\n",
      "\n"
     ]
    },
    {
     "name": "stdout",
     "output_type": "stream",
     "text": [
      "1. File was downloaded. Location: /Volumes/data/pyspedas/omni/hro_1min/2011/omni_hro_1min_20110501_v01.cdf\n",
      "Downloaded 1 files.\n",
      "Loaded 42 variables.\n",
      "index Error\n",
      "2011-06-01\n",
      "1. File was downloaded. Location: /Volumes/data/pyspedas/omni/hro_1min/2011/omni_hro_1min_20110601_v01.cdf\n",
      "Downloaded 1 files.\n"
     ]
    },
    {
     "name": "stderr",
     "output_type": "stream",
     "text": [
      "16- 7月-19 23:53:18: /home/hirotoshi/PycharmProjects/swfpy/venv/lib/python3.7/site-packages/cdflib/epochs.py:1465: ResourceWarning: unclosed <ssl.SSLSocket [closed] fd=87, family=AddressFamily.AF_INET, type=SocketKind.SOCK_STREAM, proto=6>\n",
      "  component = []\n",
      "\n",
      "16- 7月-19 23:53:18: /home/hirotoshi/PycharmProjects/swfpy/venv/lib/python3.7/site-packages/cdflib/epochs.py:1465: ResourceWarning: unclosed <ssl.SSLSocket [closed] fd=88, family=AddressFamily.AF_INET, type=SocketKind.SOCK_STREAM, proto=6>\n",
      "  component = []\n",
      "\n",
      "16- 7月-19 23:53:18: /home/hirotoshi/PycharmProjects/swfpy/venv/lib/python3.7/site-packages/cdflib/epochs.py:1465: ResourceWarning: unclosed <ssl.SSLSocket [closed] fd=89, family=AddressFamily.AF_INET, type=SocketKind.SOCK_STREAM, proto=6>\n",
      "  component = []\n",
      "\n"
     ]
    },
    {
     "name": "stdout",
     "output_type": "stream",
     "text": [
      "Loaded 42 variables.\n",
      "index Error\n",
      "2011-07-01\n",
      "1. File was downloaded. Location: /Volumes/data/pyspedas/omni/hro_1min/2011/omni_hro_1min_20110701_v01.cdf\n",
      "Downloaded 1 files.\n"
     ]
    },
    {
     "name": "stderr",
     "output_type": "stream",
     "text": [
      "16- 7月-19 23:53:42: /home/hirotoshi/PycharmProjects/swfpy/venv/lib/python3.7/site-packages/cdflib/epochs.py:1465: ResourceWarning: unclosed <ssl.SSLSocket [closed] fd=87, family=AddressFamily.AF_INET, type=SocketKind.SOCK_STREAM, proto=6>\n",
      "  component = []\n",
      "\n",
      "16- 7月-19 23:53:42: /home/hirotoshi/PycharmProjects/swfpy/venv/lib/python3.7/site-packages/cdflib/epochs.py:1465: ResourceWarning: unclosed <ssl.SSLSocket [closed] fd=88, family=AddressFamily.AF_INET, type=SocketKind.SOCK_STREAM, proto=6>\n",
      "  component = []\n",
      "\n",
      "16- 7月-19 23:53:42: /home/hirotoshi/PycharmProjects/swfpy/venv/lib/python3.7/site-packages/cdflib/epochs.py:1465: ResourceWarning: unclosed <ssl.SSLSocket [closed] fd=89, family=AddressFamily.AF_INET, type=SocketKind.SOCK_STREAM, proto=6>\n",
      "  component = []\n",
      "\n"
     ]
    },
    {
     "name": "stdout",
     "output_type": "stream",
     "text": [
      "Loaded 42 variables.\n",
      "index Error\n",
      "2011-08-01\n",
      "1. File was downloaded. Location: /Volumes/data/pyspedas/omni/hro_1min/2011/omni_hro_1min_20110801_v01.cdf\n",
      "Downloaded 1 files.\n"
     ]
    },
    {
     "name": "stderr",
     "output_type": "stream",
     "text": [
      "16- 7月-19 23:54:22: /home/hirotoshi/PycharmProjects/swfpy/venv/lib/python3.7/site-packages/cdflib/epochs.py:1465: ResourceWarning: unclosed <ssl.SSLSocket [closed] fd=87, family=AddressFamily.AF_INET, type=SocketKind.SOCK_STREAM, proto=6>\n",
      "  component = []\n",
      "\n",
      "16- 7月-19 23:54:22: /home/hirotoshi/PycharmProjects/swfpy/venv/lib/python3.7/site-packages/cdflib/epochs.py:1465: ResourceWarning: unclosed <ssl.SSLSocket [closed] fd=88, family=AddressFamily.AF_INET, type=SocketKind.SOCK_STREAM, proto=6>\n",
      "  component = []\n",
      "\n",
      "16- 7月-19 23:54:22: /home/hirotoshi/PycharmProjects/swfpy/venv/lib/python3.7/site-packages/cdflib/epochs.py:1465: ResourceWarning: unclosed <ssl.SSLSocket [closed] fd=89, family=AddressFamily.AF_INET, type=SocketKind.SOCK_STREAM, proto=6>\n",
      "  component = []\n",
      "\n"
     ]
    },
    {
     "name": "stdout",
     "output_type": "stream",
     "text": [
      "Loaded 42 variables.\n",
      "index Error\n",
      "2011-09-01\n"
     ]
    },
    {
     "name": "stderr",
     "output_type": "stream",
     "text": [
      "16- 7月-19 23:54:43: /home/hirotoshi/PycharmProjects/swfpy/venv/lib/python3.7/site-packages/cdflib/epochs.py:1465: ResourceWarning: unclosed <ssl.SSLSocket [closed] fd=87, family=AddressFamily.AF_INET, type=SocketKind.SOCK_STREAM, proto=6>\n",
      "  component = []\n",
      "\n",
      "16- 7月-19 23:54:43: /home/hirotoshi/PycharmProjects/swfpy/venv/lib/python3.7/site-packages/cdflib/epochs.py:1465: ResourceWarning: unclosed <ssl.SSLSocket [closed] fd=88, family=AddressFamily.AF_INET, type=SocketKind.SOCK_STREAM, proto=6>\n",
      "  component = []\n",
      "\n",
      "16- 7月-19 23:54:43: /home/hirotoshi/PycharmProjects/swfpy/venv/lib/python3.7/site-packages/cdflib/epochs.py:1465: ResourceWarning: unclosed <ssl.SSLSocket [closed] fd=89, family=AddressFamily.AF_INET, type=SocketKind.SOCK_STREAM, proto=6>\n",
      "  component = []\n",
      "\n"
     ]
    },
    {
     "name": "stdout",
     "output_type": "stream",
     "text": [
      "1. File was downloaded. Location: /Volumes/data/pyspedas/omni/hro_1min/2011/omni_hro_1min_20110901_v01.cdf\n",
      "Downloaded 1 files.\n",
      "Loaded 42 variables.\n",
      "index Error\n",
      "2011-10-01\n",
      "1. File was downloaded. Location: /Volumes/data/pyspedas/omni/hro_1min/2011/omni_hro_1min_20111001_v01.cdf\n",
      "Downloaded 1 files.\n"
     ]
    },
    {
     "name": "stderr",
     "output_type": "stream",
     "text": [
      "16- 7月-19 23:55:26: /home/hirotoshi/PycharmProjects/swfpy/venv/lib/python3.7/site-packages/cdflib/epochs.py:1465: ResourceWarning: unclosed <ssl.SSLSocket [closed] fd=87, family=AddressFamily.AF_INET, type=SocketKind.SOCK_STREAM, proto=6>\n",
      "  component = []\n",
      "\n",
      "16- 7月-19 23:55:26: /home/hirotoshi/PycharmProjects/swfpy/venv/lib/python3.7/site-packages/cdflib/epochs.py:1465: ResourceWarning: unclosed <ssl.SSLSocket [closed] fd=88, family=AddressFamily.AF_INET, type=SocketKind.SOCK_STREAM, proto=6>\n",
      "  component = []\n",
      "\n",
      "16- 7月-19 23:55:26: /home/hirotoshi/PycharmProjects/swfpy/venv/lib/python3.7/site-packages/cdflib/epochs.py:1465: ResourceWarning: unclosed <ssl.SSLSocket [closed] fd=89, family=AddressFamily.AF_INET, type=SocketKind.SOCK_STREAM, proto=6>\n",
      "  component = []\n",
      "\n"
     ]
    },
    {
     "name": "stdout",
     "output_type": "stream",
     "text": [
      "Loaded 42 variables.\n",
      "index Error\n",
      "2011-11-01\n",
      "1. File was downloaded. Location: /Volumes/data/pyspedas/omni/hro_1min/2011/omni_hro_1min_20111101_v01.cdf\n",
      "Downloaded 1 files.\n"
     ]
    },
    {
     "name": "stderr",
     "output_type": "stream",
     "text": [
      "16- 7月-19 23:56:09: /home/hirotoshi/PycharmProjects/swfpy/venv/lib/python3.7/site-packages/cdflib/epochs.py:1465: ResourceWarning: unclosed <ssl.SSLSocket [closed] fd=87, family=AddressFamily.AF_INET, type=SocketKind.SOCK_STREAM, proto=6>\n",
      "  component = []\n",
      "\n",
      "16- 7月-19 23:56:09: /home/hirotoshi/PycharmProjects/swfpy/venv/lib/python3.7/site-packages/cdflib/epochs.py:1465: ResourceWarning: unclosed <ssl.SSLSocket [closed] fd=88, family=AddressFamily.AF_INET, type=SocketKind.SOCK_STREAM, proto=6>\n",
      "  component = []\n",
      "\n",
      "16- 7月-19 23:56:09: /home/hirotoshi/PycharmProjects/swfpy/venv/lib/python3.7/site-packages/cdflib/epochs.py:1465: ResourceWarning: unclosed <ssl.SSLSocket [closed] fd=89, family=AddressFamily.AF_INET, type=SocketKind.SOCK_STREAM, proto=6>\n",
      "  component = []\n",
      "\n"
     ]
    },
    {
     "name": "stdout",
     "output_type": "stream",
     "text": [
      "Loaded 42 variables.\n",
      "index Error\n",
      "2011-12-01\n",
      "1. File was downloaded. Location: /Volumes/data/pyspedas/omni/hro_1min/2011/omni_hro_1min_20111201_v01.cdf\n",
      "Downloaded 1 files.\n"
     ]
    },
    {
     "name": "stderr",
     "output_type": "stream",
     "text": [
      "16- 7月-19 23:56:46: /home/hirotoshi/PycharmProjects/swfpy/venv/lib/python3.7/site-packages/cdflib/epochs.py:1465: ResourceWarning: unclosed <ssl.SSLSocket [closed] fd=87, family=AddressFamily.AF_INET, type=SocketKind.SOCK_STREAM, proto=6>\n",
      "  component = []\n",
      "\n",
      "16- 7月-19 23:56:46: /home/hirotoshi/PycharmProjects/swfpy/venv/lib/python3.7/site-packages/cdflib/epochs.py:1465: ResourceWarning: unclosed <ssl.SSLSocket [closed] fd=88, family=AddressFamily.AF_INET, type=SocketKind.SOCK_STREAM, proto=6>\n",
      "  component = []\n",
      "\n",
      "16- 7月-19 23:56:46: /home/hirotoshi/PycharmProjects/swfpy/venv/lib/python3.7/site-packages/cdflib/epochs.py:1465: ResourceWarning: unclosed <ssl.SSLSocket [closed] fd=89, family=AddressFamily.AF_INET, type=SocketKind.SOCK_STREAM, proto=6>\n",
      "  component = []\n",
      "\n"
     ]
    },
    {
     "name": "stdout",
     "output_type": "stream",
     "text": [
      "Loaded 42 variables.\n",
      "index Error\n",
      "2012-01-01\n",
      "1. File was downloaded. Location: /Volumes/data/pyspedas/omni/hro_1min/2012/omni_hro_1min_20120101_v01.cdf\n",
      "Downloaded 1 files.\n"
     ]
    },
    {
     "name": "stderr",
     "output_type": "stream",
     "text": [
      "16- 7月-19 23:57:17: /home/hirotoshi/PycharmProjects/swfpy/venv/lib/python3.7/site-packages/cdflib/epochs.py:1465: ResourceWarning: unclosed <ssl.SSLSocket [closed] fd=87, family=AddressFamily.AF_INET, type=SocketKind.SOCK_STREAM, proto=6>\n",
      "  component = []\n",
      "\n",
      "16- 7月-19 23:57:17: /home/hirotoshi/PycharmProjects/swfpy/venv/lib/python3.7/site-packages/cdflib/epochs.py:1465: ResourceWarning: unclosed <ssl.SSLSocket [closed] fd=88, family=AddressFamily.AF_INET, type=SocketKind.SOCK_STREAM, proto=6>\n",
      "  component = []\n",
      "\n",
      "16- 7月-19 23:57:17: /home/hirotoshi/PycharmProjects/swfpy/venv/lib/python3.7/site-packages/cdflib/epochs.py:1465: ResourceWarning: unclosed <ssl.SSLSocket [closed] fd=89, family=AddressFamily.AF_INET, type=SocketKind.SOCK_STREAM, proto=6>\n",
      "  component = []\n",
      "\n"
     ]
    },
    {
     "name": "stdout",
     "output_type": "stream",
     "text": [
      "Loaded 42 variables.\n",
      "index Error\n",
      "2012-02-01\n",
      "1. File was downloaded. Location: /Volumes/data/pyspedas/omni/hro_1min/2012/omni_hro_1min_20120201_v01.cdf\n",
      "Downloaded 1 files.\n"
     ]
    },
    {
     "name": "stderr",
     "output_type": "stream",
     "text": [
      "16- 7月-19 23:57:41: /home/hirotoshi/PycharmProjects/swfpy/venv/lib/python3.7/site-packages/cdflib/epochs.py:1465: ResourceWarning: unclosed <ssl.SSLSocket [closed] fd=87, family=AddressFamily.AF_INET, type=SocketKind.SOCK_STREAM, proto=6>\n",
      "  component = []\n",
      "\n",
      "16- 7月-19 23:57:41: /home/hirotoshi/PycharmProjects/swfpy/venv/lib/python3.7/site-packages/cdflib/epochs.py:1465: ResourceWarning: unclosed <ssl.SSLSocket [closed] fd=88, family=AddressFamily.AF_INET, type=SocketKind.SOCK_STREAM, proto=6>\n",
      "  component = []\n",
      "\n",
      "16- 7月-19 23:57:41: /home/hirotoshi/PycharmProjects/swfpy/venv/lib/python3.7/site-packages/cdflib/epochs.py:1465: ResourceWarning: unclosed <ssl.SSLSocket [closed] fd=89, family=AddressFamily.AF_INET, type=SocketKind.SOCK_STREAM, proto=6>\n",
      "  component = []\n",
      "\n"
     ]
    },
    {
     "name": "stdout",
     "output_type": "stream",
     "text": [
      "Loaded 42 variables.\n",
      "index Error\n",
      "2012-03-01\n",
      "1. File was downloaded. Location: /Volumes/data/pyspedas/omni/hro_1min/2012/omni_hro_1min_20120301_v01.cdf\n",
      "Downloaded 1 files.\n"
     ]
    },
    {
     "name": "stderr",
     "output_type": "stream",
     "text": [
      "16- 7月-19 23:58:09: /home/hirotoshi/PycharmProjects/swfpy/venv/lib/python3.7/site-packages/cdflib/epochs.py:1465: ResourceWarning: unclosed <ssl.SSLSocket [closed] fd=87, family=AddressFamily.AF_INET, type=SocketKind.SOCK_STREAM, proto=6>\n",
      "  component = []\n",
      "\n",
      "16- 7月-19 23:58:09: /home/hirotoshi/PycharmProjects/swfpy/venv/lib/python3.7/site-packages/cdflib/epochs.py:1465: ResourceWarning: unclosed <ssl.SSLSocket [closed] fd=88, family=AddressFamily.AF_INET, type=SocketKind.SOCK_STREAM, proto=6>\n",
      "  component = []\n",
      "\n",
      "16- 7月-19 23:58:09: /home/hirotoshi/PycharmProjects/swfpy/venv/lib/python3.7/site-packages/cdflib/epochs.py:1465: ResourceWarning: unclosed <ssl.SSLSocket [closed] fd=89, family=AddressFamily.AF_INET, type=SocketKind.SOCK_STREAM, proto=6>\n",
      "  component = []\n",
      "\n"
     ]
    },
    {
     "name": "stdout",
     "output_type": "stream",
     "text": [
      "Loaded 42 variables.\n",
      "index Error\n",
      "2012-04-01\n",
      "1. File was downloaded. Location: /Volumes/data/pyspedas/omni/hro_1min/2012/omni_hro_1min_20120401_v01.cdf\n",
      "Downloaded 1 files.\n"
     ]
    },
    {
     "name": "stderr",
     "output_type": "stream",
     "text": [
      "16- 7月-19 23:58:41: /home/hirotoshi/PycharmProjects/swfpy/venv/lib/python3.7/site-packages/cdflib/epochs.py:1465: ResourceWarning: unclosed <ssl.SSLSocket [closed] fd=87, family=AddressFamily.AF_INET, type=SocketKind.SOCK_STREAM, proto=6>\n",
      "  component = []\n",
      "\n",
      "16- 7月-19 23:58:41: /home/hirotoshi/PycharmProjects/swfpy/venv/lib/python3.7/site-packages/cdflib/epochs.py:1465: ResourceWarning: unclosed <ssl.SSLSocket [closed] fd=88, family=AddressFamily.AF_INET, type=SocketKind.SOCK_STREAM, proto=6>\n",
      "  component = []\n",
      "\n",
      "16- 7月-19 23:58:41: /home/hirotoshi/PycharmProjects/swfpy/venv/lib/python3.7/site-packages/cdflib/epochs.py:1465: ResourceWarning: unclosed <ssl.SSLSocket [closed] fd=89, family=AddressFamily.AF_INET, type=SocketKind.SOCK_STREAM, proto=6>\n",
      "  component = []\n",
      "\n"
     ]
    },
    {
     "name": "stdout",
     "output_type": "stream",
     "text": [
      "Loaded 42 variables.\n",
      "index Error\n",
      "2012-05-01\n",
      "1. File was downloaded. Location: /Volumes/data/pyspedas/omni/hro_1min/2012/omni_hro_1min_20120501_v01.cdf\n",
      "Downloaded 1 files.\n"
     ]
    },
    {
     "name": "stderr",
     "output_type": "stream",
     "text": [
      "16- 7月-19 23:59:22: /home/hirotoshi/PycharmProjects/swfpy/venv/lib/python3.7/site-packages/cdflib/epochs.py:1465: ResourceWarning: unclosed <ssl.SSLSocket [closed] fd=87, family=AddressFamily.AF_INET, type=SocketKind.SOCK_STREAM, proto=6>\n",
      "  component = []\n",
      "\n",
      "16- 7月-19 23:59:22: /home/hirotoshi/PycharmProjects/swfpy/venv/lib/python3.7/site-packages/cdflib/epochs.py:1465: ResourceWarning: unclosed <ssl.SSLSocket [closed] fd=88, family=AddressFamily.AF_INET, type=SocketKind.SOCK_STREAM, proto=6>\n",
      "  component = []\n",
      "\n",
      "16- 7月-19 23:59:22: /home/hirotoshi/PycharmProjects/swfpy/venv/lib/python3.7/site-packages/cdflib/epochs.py:1465: ResourceWarning: unclosed <ssl.SSLSocket [closed] fd=89, family=AddressFamily.AF_INET, type=SocketKind.SOCK_STREAM, proto=6>\n",
      "  component = []\n",
      "\n"
     ]
    },
    {
     "name": "stdout",
     "output_type": "stream",
     "text": [
      "Loaded 42 variables.\n",
      "index Error\n",
      "2012-06-01\n",
      "1. File was downloaded. Location: /Volumes/data/pyspedas/omni/hro_1min/2012/omni_hro_1min_20120601_v01.cdf\n",
      "Downloaded 1 files.\n"
     ]
    },
    {
     "name": "stderr",
     "output_type": "stream",
     "text": [
      "16- 7月-19 23:59:55: /home/hirotoshi/PycharmProjects/swfpy/venv/lib/python3.7/site-packages/cdflib/epochs.py:1465: ResourceWarning: unclosed <ssl.SSLSocket [closed] fd=87, family=AddressFamily.AF_INET, type=SocketKind.SOCK_STREAM, proto=6>\n",
      "  component = []\n",
      "\n",
      "16- 7月-19 23:59:55: /home/hirotoshi/PycharmProjects/swfpy/venv/lib/python3.7/site-packages/cdflib/epochs.py:1465: ResourceWarning: unclosed <ssl.SSLSocket [closed] fd=88, family=AddressFamily.AF_INET, type=SocketKind.SOCK_STREAM, proto=6>\n",
      "  component = []\n",
      "\n",
      "16- 7月-19 23:59:55: /home/hirotoshi/PycharmProjects/swfpy/venv/lib/python3.7/site-packages/cdflib/epochs.py:1465: ResourceWarning: unclosed <ssl.SSLSocket [closed] fd=89, family=AddressFamily.AF_INET, type=SocketKind.SOCK_STREAM, proto=6>\n",
      "  component = []\n",
      "\n"
     ]
    },
    {
     "name": "stdout",
     "output_type": "stream",
     "text": [
      "Loaded 42 variables.\n",
      "index Error\n",
      "2012-07-01\n",
      "1. File was downloaded. Location: /Volumes/data/pyspedas/omni/hro_1min/2012/omni_hro_1min_20120701_v01.cdf\n",
      "Downloaded 1 files.\n"
     ]
    },
    {
     "name": "stderr",
     "output_type": "stream",
     "text": [
      "17- 7月-19 00:00:32: /home/hirotoshi/PycharmProjects/swfpy/venv/lib/python3.7/site-packages/cdflib/epochs.py:1465: ResourceWarning: unclosed <ssl.SSLSocket [closed] fd=87, family=AddressFamily.AF_INET, type=SocketKind.SOCK_STREAM, proto=6>\n",
      "  component = []\n",
      "\n",
      "17- 7月-19 00:00:32: /home/hirotoshi/PycharmProjects/swfpy/venv/lib/python3.7/site-packages/cdflib/epochs.py:1465: ResourceWarning: unclosed <ssl.SSLSocket [closed] fd=88, family=AddressFamily.AF_INET, type=SocketKind.SOCK_STREAM, proto=6>\n",
      "  component = []\n",
      "\n",
      "17- 7月-19 00:00:32: /home/hirotoshi/PycharmProjects/swfpy/venv/lib/python3.7/site-packages/cdflib/epochs.py:1465: ResourceWarning: unclosed <ssl.SSLSocket [closed] fd=89, family=AddressFamily.AF_INET, type=SocketKind.SOCK_STREAM, proto=6>\n",
      "  component = []\n",
      "\n"
     ]
    },
    {
     "name": "stdout",
     "output_type": "stream",
     "text": [
      "Loaded 42 variables.\n",
      "index Error\n",
      "2012-08-01\n",
      "1. File was downloaded. Location: /Volumes/data/pyspedas/omni/hro_1min/2012/omni_hro_1min_20120801_v01.cdf\n",
      "Downloaded 1 files.\n"
     ]
    },
    {
     "name": "stderr",
     "output_type": "stream",
     "text": [
      "17- 7月-19 00:00:55: /home/hirotoshi/PycharmProjects/swfpy/venv/lib/python3.7/site-packages/cdflib/epochs.py:1465: ResourceWarning: unclosed <ssl.SSLSocket [closed] fd=87, family=AddressFamily.AF_INET, type=SocketKind.SOCK_STREAM, proto=6>\n",
      "  component = []\n",
      "\n",
      "17- 7月-19 00:00:55: /home/hirotoshi/PycharmProjects/swfpy/venv/lib/python3.7/site-packages/cdflib/epochs.py:1465: ResourceWarning: unclosed <ssl.SSLSocket [closed] fd=88, family=AddressFamily.AF_INET, type=SocketKind.SOCK_STREAM, proto=6>\n",
      "  component = []\n",
      "\n",
      "17- 7月-19 00:00:55: /home/hirotoshi/PycharmProjects/swfpy/venv/lib/python3.7/site-packages/cdflib/epochs.py:1465: ResourceWarning: unclosed <ssl.SSLSocket [closed] fd=89, family=AddressFamily.AF_INET, type=SocketKind.SOCK_STREAM, proto=6>\n",
      "  component = []\n",
      "\n"
     ]
    },
    {
     "name": "stdout",
     "output_type": "stream",
     "text": [
      "Loaded 42 variables.\n",
      "index Error\n",
      "2012-09-01\n",
      "1. File was downloaded. Location: /Volumes/data/pyspedas/omni/hro_1min/2012/omni_hro_1min_20120901_v01.cdf\n",
      "Downloaded 1 files.\n"
     ]
    },
    {
     "name": "stderr",
     "output_type": "stream",
     "text": [
      "17- 7月-19 00:01:31: /home/hirotoshi/PycharmProjects/swfpy/venv/lib/python3.7/site-packages/cdflib/epochs.py:1465: ResourceWarning: unclosed <ssl.SSLSocket [closed] fd=87, family=AddressFamily.AF_INET, type=SocketKind.SOCK_STREAM, proto=6>\n",
      "  component = []\n",
      "\n",
      "17- 7月-19 00:01:31: /home/hirotoshi/PycharmProjects/swfpy/venv/lib/python3.7/site-packages/cdflib/epochs.py:1465: ResourceWarning: unclosed <ssl.SSLSocket [closed] fd=88, family=AddressFamily.AF_INET, type=SocketKind.SOCK_STREAM, proto=6>\n",
      "  component = []\n",
      "\n",
      "17- 7月-19 00:01:31: /home/hirotoshi/PycharmProjects/swfpy/venv/lib/python3.7/site-packages/cdflib/epochs.py:1465: ResourceWarning: unclosed <ssl.SSLSocket [closed] fd=89, family=AddressFamily.AF_INET, type=SocketKind.SOCK_STREAM, proto=6>\n",
      "  component = []\n",
      "\n"
     ]
    },
    {
     "name": "stdout",
     "output_type": "stream",
     "text": [
      "Loaded 42 variables.\n",
      "index Error\n",
      "2012-10-01\n",
      "1. File was downloaded. Location: /Volumes/data/pyspedas/omni/hro_1min/2012/omni_hro_1min_20121001_v01.cdf\n",
      "Downloaded 1 files.\n"
     ]
    },
    {
     "name": "stderr",
     "output_type": "stream",
     "text": [
      "17- 7月-19 00:02:07: /home/hirotoshi/PycharmProjects/swfpy/venv/lib/python3.7/site-packages/cdflib/epochs.py:1465: ResourceWarning: unclosed <ssl.SSLSocket [closed] fd=87, family=AddressFamily.AF_INET, type=SocketKind.SOCK_STREAM, proto=6>\n",
      "  component = []\n",
      "\n",
      "17- 7月-19 00:02:07: /home/hirotoshi/PycharmProjects/swfpy/venv/lib/python3.7/site-packages/cdflib/epochs.py:1465: ResourceWarning: unclosed <ssl.SSLSocket [closed] fd=88, family=AddressFamily.AF_INET, type=SocketKind.SOCK_STREAM, proto=6>\n",
      "  component = []\n",
      "\n",
      "17- 7月-19 00:02:07: /home/hirotoshi/PycharmProjects/swfpy/venv/lib/python3.7/site-packages/cdflib/epochs.py:1465: ResourceWarning: unclosed <ssl.SSLSocket [closed] fd=89, family=AddressFamily.AF_INET, type=SocketKind.SOCK_STREAM, proto=6>\n",
      "  component = []\n",
      "\n"
     ]
    },
    {
     "name": "stdout",
     "output_type": "stream",
     "text": [
      "Loaded 42 variables.\n",
      "index Error\n",
      "2012-11-01\n",
      "1. File was downloaded. Location: /Volumes/data/pyspedas/omni/hro_1min/2012/omni_hro_1min_20121101_v01.cdf\n",
      "Downloaded 1 files.\n"
     ]
    },
    {
     "name": "stderr",
     "output_type": "stream",
     "text": [
      "17- 7月-19 00:02:40: /home/hirotoshi/PycharmProjects/swfpy/venv/lib/python3.7/site-packages/cdflib/epochs.py:1465: ResourceWarning: unclosed <ssl.SSLSocket [closed] fd=87, family=AddressFamily.AF_INET, type=SocketKind.SOCK_STREAM, proto=6>\n",
      "  component = []\n",
      "\n",
      "17- 7月-19 00:02:40: /home/hirotoshi/PycharmProjects/swfpy/venv/lib/python3.7/site-packages/cdflib/epochs.py:1465: ResourceWarning: unclosed <ssl.SSLSocket [closed] fd=88, family=AddressFamily.AF_INET, type=SocketKind.SOCK_STREAM, proto=6>\n",
      "  component = []\n",
      "\n",
      "17- 7月-19 00:02:40: /home/hirotoshi/PycharmProjects/swfpy/venv/lib/python3.7/site-packages/cdflib/epochs.py:1465: ResourceWarning: unclosed <ssl.SSLSocket [closed] fd=89, family=AddressFamily.AF_INET, type=SocketKind.SOCK_STREAM, proto=6>\n",
      "  component = []\n",
      "\n"
     ]
    },
    {
     "name": "stdout",
     "output_type": "stream",
     "text": [
      "Loaded 42 variables.\n",
      "index Error\n",
      "2012-12-01\n",
      "1. File was downloaded. Location: /Volumes/data/pyspedas/omni/hro_1min/2012/omni_hro_1min_20121201_v01.cdf\n",
      "Downloaded 1 files.\n"
     ]
    },
    {
     "name": "stderr",
     "output_type": "stream",
     "text": [
      "17- 7月-19 00:03:02: /home/hirotoshi/PycharmProjects/swfpy/venv/lib/python3.7/site-packages/cdflib/epochs.py:1465: ResourceWarning: unclosed <ssl.SSLSocket [closed] fd=87, family=AddressFamily.AF_INET, type=SocketKind.SOCK_STREAM, proto=6>\n",
      "  component = []\n",
      "\n",
      "17- 7月-19 00:03:02: /home/hirotoshi/PycharmProjects/swfpy/venv/lib/python3.7/site-packages/cdflib/epochs.py:1465: ResourceWarning: unclosed <ssl.SSLSocket [closed] fd=88, family=AddressFamily.AF_INET, type=SocketKind.SOCK_STREAM, proto=6>\n",
      "  component = []\n",
      "\n",
      "17- 7月-19 00:03:02: /home/hirotoshi/PycharmProjects/swfpy/venv/lib/python3.7/site-packages/cdflib/epochs.py:1465: ResourceWarning: unclosed <ssl.SSLSocket [closed] fd=89, family=AddressFamily.AF_INET, type=SocketKind.SOCK_STREAM, proto=6>\n",
      "  component = []\n",
      "\n"
     ]
    },
    {
     "name": "stdout",
     "output_type": "stream",
     "text": [
      "Loaded 42 variables.\n",
      "index Error\n",
      "2013-01-01\n",
      "1. File was downloaded. Location: /Volumes/data/pyspedas/omni/hro_1min/2013/omni_hro_1min_20130101_v01.cdf\n",
      "Downloaded 1 files.\n"
     ]
    },
    {
     "name": "stderr",
     "output_type": "stream",
     "text": [
      "17- 7月-19 00:03:36: /home/hirotoshi/PycharmProjects/swfpy/venv/lib/python3.7/site-packages/cdflib/epochs.py:1465: ResourceWarning: unclosed <ssl.SSLSocket [closed] fd=87, family=AddressFamily.AF_INET, type=SocketKind.SOCK_STREAM, proto=6>\n",
      "  component = []\n",
      "\n",
      "17- 7月-19 00:03:36: /home/hirotoshi/PycharmProjects/swfpy/venv/lib/python3.7/site-packages/cdflib/epochs.py:1465: ResourceWarning: unclosed <ssl.SSLSocket [closed] fd=88, family=AddressFamily.AF_INET, type=SocketKind.SOCK_STREAM, proto=6>\n",
      "  component = []\n",
      "\n",
      "17- 7月-19 00:03:36: /home/hirotoshi/PycharmProjects/swfpy/venv/lib/python3.7/site-packages/cdflib/epochs.py:1465: ResourceWarning: unclosed <ssl.SSLSocket [closed] fd=89, family=AddressFamily.AF_INET, type=SocketKind.SOCK_STREAM, proto=6>\n",
      "  component = []\n",
      "\n"
     ]
    },
    {
     "name": "stdout",
     "output_type": "stream",
     "text": [
      "Loaded 42 variables.\n",
      "index Error\n",
      "2013-02-01\n",
      "1. File was downloaded. Location: /Volumes/data/pyspedas/omni/hro_1min/2013/omni_hro_1min_20130201_v01.cdf\n",
      "Downloaded 1 files.\n"
     ]
    },
    {
     "name": "stderr",
     "output_type": "stream",
     "text": [
      "17- 7月-19 00:04:21: /home/hirotoshi/PycharmProjects/swfpy/venv/lib/python3.7/site-packages/cdflib/epochs.py:1465: ResourceWarning: unclosed <ssl.SSLSocket [closed] fd=87, family=AddressFamily.AF_INET, type=SocketKind.SOCK_STREAM, proto=6>\n",
      "  component = []\n",
      "\n",
      "17- 7月-19 00:04:21: /home/hirotoshi/PycharmProjects/swfpy/venv/lib/python3.7/site-packages/cdflib/epochs.py:1465: ResourceWarning: unclosed <ssl.SSLSocket [closed] fd=88, family=AddressFamily.AF_INET, type=SocketKind.SOCK_STREAM, proto=6>\n",
      "  component = []\n",
      "\n",
      "17- 7月-19 00:04:21: /home/hirotoshi/PycharmProjects/swfpy/venv/lib/python3.7/site-packages/cdflib/epochs.py:1465: ResourceWarning: unclosed <ssl.SSLSocket [closed] fd=89, family=AddressFamily.AF_INET, type=SocketKind.SOCK_STREAM, proto=6>\n",
      "  component = []\n",
      "\n"
     ]
    },
    {
     "name": "stdout",
     "output_type": "stream",
     "text": [
      "Loaded 42 variables.\n",
      "index Error\n",
      "2013-03-01\n",
      "1. File was downloaded. Location: /Volumes/data/pyspedas/omni/hro_1min/2013/omni_hro_1min_20130301_v01.cdf\n",
      "Downloaded 1 files.\n"
     ]
    },
    {
     "name": "stderr",
     "output_type": "stream",
     "text": [
      "17- 7月-19 00:05:00: /home/hirotoshi/PycharmProjects/swfpy/venv/lib/python3.7/site-packages/cdflib/epochs.py:1465: ResourceWarning: unclosed <ssl.SSLSocket [closed] fd=87, family=AddressFamily.AF_INET, type=SocketKind.SOCK_STREAM, proto=6>\n",
      "  component = []\n",
      "\n",
      "17- 7月-19 00:05:00: /home/hirotoshi/PycharmProjects/swfpy/venv/lib/python3.7/site-packages/cdflib/epochs.py:1465: ResourceWarning: unclosed <ssl.SSLSocket [closed] fd=88, family=AddressFamily.AF_INET, type=SocketKind.SOCK_STREAM, proto=6>\n",
      "  component = []\n",
      "\n",
      "17- 7月-19 00:05:00: /home/hirotoshi/PycharmProjects/swfpy/venv/lib/python3.7/site-packages/cdflib/epochs.py:1465: ResourceWarning: unclosed <ssl.SSLSocket [closed] fd=89, family=AddressFamily.AF_INET, type=SocketKind.SOCK_STREAM, proto=6>\n",
      "  component = []\n",
      "\n"
     ]
    },
    {
     "name": "stdout",
     "output_type": "stream",
     "text": [
      "Loaded 42 variables.\n",
      "index Error\n",
      "2013-04-01\n"
     ]
    },
    {
     "name": "stderr",
     "output_type": "stream",
     "text": [
      "17- 7月-19 00:05:36: /home/hirotoshi/PycharmProjects/swfpy/venv/lib/python3.7/site-packages/cdflib/epochs.py:1465: ResourceWarning: unclosed <ssl.SSLSocket [closed] fd=87, family=AddressFamily.AF_INET, type=SocketKind.SOCK_STREAM, proto=6>\n",
      "  component = []\n",
      "\n",
      "17- 7月-19 00:05:36: /home/hirotoshi/PycharmProjects/swfpy/venv/lib/python3.7/site-packages/cdflib/epochs.py:1465: ResourceWarning: unclosed <ssl.SSLSocket [closed] fd=88, family=AddressFamily.AF_INET, type=SocketKind.SOCK_STREAM, proto=6>\n",
      "  component = []\n",
      "\n",
      "17- 7月-19 00:05:36: /home/hirotoshi/PycharmProjects/swfpy/venv/lib/python3.7/site-packages/cdflib/epochs.py:1465: ResourceWarning: unclosed <ssl.SSLSocket [closed] fd=89, family=AddressFamily.AF_INET, type=SocketKind.SOCK_STREAM, proto=6>\n",
      "  component = []\n",
      "\n"
     ]
    },
    {
     "name": "stdout",
     "output_type": "stream",
     "text": [
      "1. File was downloaded. Location: /Volumes/data/pyspedas/omni/hro_1min/2013/omni_hro_1min_20130401_v01.cdf\n",
      "Downloaded 1 files.\n",
      "Loaded 42 variables.\n",
      "index Error\n",
      "2013-05-01\n",
      "1. File was downloaded. Location: /Volumes/data/pyspedas/omni/hro_1min/2013/omni_hro_1min_20130501_v01.cdf\n",
      "Downloaded 1 files.\n"
     ]
    },
    {
     "name": "stderr",
     "output_type": "stream",
     "text": [
      "17- 7月-19 00:06:06: /home/hirotoshi/PycharmProjects/swfpy/venv/lib/python3.7/site-packages/cdflib/epochs.py:1465: ResourceWarning: unclosed <ssl.SSLSocket [closed] fd=87, family=AddressFamily.AF_INET, type=SocketKind.SOCK_STREAM, proto=6>\n",
      "  component = []\n",
      "\n",
      "17- 7月-19 00:06:06: /home/hirotoshi/PycharmProjects/swfpy/venv/lib/python3.7/site-packages/cdflib/epochs.py:1465: ResourceWarning: unclosed <ssl.SSLSocket [closed] fd=88, family=AddressFamily.AF_INET, type=SocketKind.SOCK_STREAM, proto=6>\n",
      "  component = []\n",
      "\n",
      "17- 7月-19 00:06:06: /home/hirotoshi/PycharmProjects/swfpy/venv/lib/python3.7/site-packages/cdflib/epochs.py:1465: ResourceWarning: unclosed <ssl.SSLSocket [closed] fd=89, family=AddressFamily.AF_INET, type=SocketKind.SOCK_STREAM, proto=6>\n",
      "  component = []\n",
      "\n"
     ]
    },
    {
     "name": "stdout",
     "output_type": "stream",
     "text": [
      "Loaded 42 variables.\n",
      "index Error\n",
      "2013-06-01\n"
     ]
    },
    {
     "name": "stderr",
     "output_type": "stream",
     "text": [
      "17- 7月-19 00:06:26: /home/hirotoshi/PycharmProjects/swfpy/venv/lib/python3.7/site-packages/cdflib/epochs.py:1465: ResourceWarning: unclosed <ssl.SSLSocket [closed] fd=87, family=AddressFamily.AF_INET, type=SocketKind.SOCK_STREAM, proto=6>\n",
      "  component = []\n",
      "\n",
      "17- 7月-19 00:06:26: /home/hirotoshi/PycharmProjects/swfpy/venv/lib/python3.7/site-packages/cdflib/epochs.py:1465: ResourceWarning: unclosed <ssl.SSLSocket [closed] fd=88, family=AddressFamily.AF_INET, type=SocketKind.SOCK_STREAM, proto=6>\n",
      "  component = []\n",
      "\n",
      "17- 7月-19 00:06:26: /home/hirotoshi/PycharmProjects/swfpy/venv/lib/python3.7/site-packages/cdflib/epochs.py:1465: ResourceWarning: unclosed <ssl.SSLSocket [closed] fd=89, family=AddressFamily.AF_INET, type=SocketKind.SOCK_STREAM, proto=6>\n",
      "  component = []\n",
      "\n"
     ]
    },
    {
     "name": "stdout",
     "output_type": "stream",
     "text": [
      "1. File was downloaded. Location: /Volumes/data/pyspedas/omni/hro_1min/2013/omni_hro_1min_20130601_v01.cdf\n",
      "Downloaded 1 files.\n",
      "Loaded 42 variables.\n",
      "index Error\n",
      "2013-07-01\n",
      "1. File was downloaded. Location: /Volumes/data/pyspedas/omni/hro_1min/2013/omni_hro_1min_20130701_v01.cdf\n",
      "Downloaded 1 files.\n"
     ]
    },
    {
     "name": "stderr",
     "output_type": "stream",
     "text": [
      "17- 7月-19 00:07:06: /home/hirotoshi/PycharmProjects/swfpy/venv/lib/python3.7/site-packages/cdflib/epochs.py:1465: ResourceWarning: unclosed <ssl.SSLSocket [closed] fd=87, family=AddressFamily.AF_INET, type=SocketKind.SOCK_STREAM, proto=6>\n",
      "  component = []\n",
      "\n",
      "17- 7月-19 00:07:06: /home/hirotoshi/PycharmProjects/swfpy/venv/lib/python3.7/site-packages/cdflib/epochs.py:1465: ResourceWarning: unclosed <ssl.SSLSocket [closed] fd=88, family=AddressFamily.AF_INET, type=SocketKind.SOCK_STREAM, proto=6>\n",
      "  component = []\n",
      "\n",
      "17- 7月-19 00:07:06: /home/hirotoshi/PycharmProjects/swfpy/venv/lib/python3.7/site-packages/cdflib/epochs.py:1465: ResourceWarning: unclosed <ssl.SSLSocket [closed] fd=89, family=AddressFamily.AF_INET, type=SocketKind.SOCK_STREAM, proto=6>\n",
      "  component = []\n",
      "\n"
     ]
    },
    {
     "name": "stdout",
     "output_type": "stream",
     "text": [
      "Loaded 42 variables.\n",
      "index Error\n",
      "2013-08-01\n",
      "1. File was downloaded. Location: /Volumes/data/pyspedas/omni/hro_1min/2013/omni_hro_1min_20130801_v01.cdf\n",
      "Downloaded 1 files.\n"
     ]
    },
    {
     "name": "stderr",
     "output_type": "stream",
     "text": [
      "17- 7月-19 00:07:45: /home/hirotoshi/PycharmProjects/swfpy/venv/lib/python3.7/site-packages/cdflib/epochs.py:1465: ResourceWarning: unclosed <ssl.SSLSocket [closed] fd=87, family=AddressFamily.AF_INET, type=SocketKind.SOCK_STREAM, proto=6>\n",
      "  component = []\n",
      "\n",
      "17- 7月-19 00:07:45: /home/hirotoshi/PycharmProjects/swfpy/venv/lib/python3.7/site-packages/cdflib/epochs.py:1465: ResourceWarning: unclosed <ssl.SSLSocket [closed] fd=88, family=AddressFamily.AF_INET, type=SocketKind.SOCK_STREAM, proto=6>\n",
      "  component = []\n",
      "\n",
      "17- 7月-19 00:07:45: /home/hirotoshi/PycharmProjects/swfpy/venv/lib/python3.7/site-packages/cdflib/epochs.py:1465: ResourceWarning: unclosed <ssl.SSLSocket [closed] fd=89, family=AddressFamily.AF_INET, type=SocketKind.SOCK_STREAM, proto=6>\n",
      "  component = []\n",
      "\n"
     ]
    },
    {
     "name": "stdout",
     "output_type": "stream",
     "text": [
      "Loaded 42 variables.\n",
      "index Error\n",
      "2013-09-01\n",
      "1. File was downloaded. Location: /Volumes/data/pyspedas/omni/hro_1min/2013/omni_hro_1min_20130901_v01.cdf\n",
      "Downloaded 1 files.\n"
     ]
    },
    {
     "name": "stderr",
     "output_type": "stream",
     "text": [
      "17- 7月-19 00:08:28: /home/hirotoshi/PycharmProjects/swfpy/venv/lib/python3.7/site-packages/cdflib/epochs.py:1465: ResourceWarning: unclosed <ssl.SSLSocket [closed] fd=87, family=AddressFamily.AF_INET, type=SocketKind.SOCK_STREAM, proto=6>\n",
      "  component = []\n",
      "\n",
      "17- 7月-19 00:08:28: /home/hirotoshi/PycharmProjects/swfpy/venv/lib/python3.7/site-packages/cdflib/epochs.py:1465: ResourceWarning: unclosed <ssl.SSLSocket [closed] fd=88, family=AddressFamily.AF_INET, type=SocketKind.SOCK_STREAM, proto=6>\n",
      "  component = []\n",
      "\n",
      "17- 7月-19 00:08:28: /home/hirotoshi/PycharmProjects/swfpy/venv/lib/python3.7/site-packages/cdflib/epochs.py:1465: ResourceWarning: unclosed <ssl.SSLSocket [closed] fd=89, family=AddressFamily.AF_INET, type=SocketKind.SOCK_STREAM, proto=6>\n",
      "  component = []\n",
      "\n"
     ]
    },
    {
     "name": "stdout",
     "output_type": "stream",
     "text": [
      "Loaded 42 variables.\n",
      "index Error\n",
      "2013-10-01\n",
      "1. File was downloaded. Location: /Volumes/data/pyspedas/omni/hro_1min/2013/omni_hro_1min_20131001_v01.cdf\n",
      "Downloaded 1 files.\n"
     ]
    },
    {
     "name": "stderr",
     "output_type": "stream",
     "text": [
      "17- 7月-19 00:09:05: /home/hirotoshi/PycharmProjects/swfpy/venv/lib/python3.7/site-packages/cdflib/epochs.py:1465: ResourceWarning: unclosed <ssl.SSLSocket [closed] fd=87, family=AddressFamily.AF_INET, type=SocketKind.SOCK_STREAM, proto=6>\n",
      "  component = []\n",
      "\n",
      "17- 7月-19 00:09:05: /home/hirotoshi/PycharmProjects/swfpy/venv/lib/python3.7/site-packages/cdflib/epochs.py:1465: ResourceWarning: unclosed <ssl.SSLSocket [closed] fd=88, family=AddressFamily.AF_INET, type=SocketKind.SOCK_STREAM, proto=6>\n",
      "  component = []\n",
      "\n",
      "17- 7月-19 00:09:05: /home/hirotoshi/PycharmProjects/swfpy/venv/lib/python3.7/site-packages/cdflib/epochs.py:1465: ResourceWarning: unclosed <ssl.SSLSocket [closed] fd=89, family=AddressFamily.AF_INET, type=SocketKind.SOCK_STREAM, proto=6>\n",
      "  component = []\n",
      "\n"
     ]
    },
    {
     "name": "stdout",
     "output_type": "stream",
     "text": [
      "Loaded 42 variables.\n",
      "index Error\n",
      "2013-11-01\n",
      "1. File was downloaded. Location: /Volumes/data/pyspedas/omni/hro_1min/2013/omni_hro_1min_20131101_v01.cdf\n",
      "Downloaded 1 files.\n"
     ]
    },
    {
     "name": "stderr",
     "output_type": "stream",
     "text": [
      "17- 7月-19 00:09:40: /home/hirotoshi/PycharmProjects/swfpy/venv/lib/python3.7/site-packages/cdflib/epochs.py:1465: ResourceWarning: unclosed <ssl.SSLSocket [closed] fd=87, family=AddressFamily.AF_INET, type=SocketKind.SOCK_STREAM, proto=6>\n",
      "  component = []\n",
      "\n",
      "17- 7月-19 00:09:40: /home/hirotoshi/PycharmProjects/swfpy/venv/lib/python3.7/site-packages/cdflib/epochs.py:1465: ResourceWarning: unclosed <ssl.SSLSocket [closed] fd=88, family=AddressFamily.AF_INET, type=SocketKind.SOCK_STREAM, proto=6>\n",
      "  component = []\n",
      "\n",
      "17- 7月-19 00:09:40: /home/hirotoshi/PycharmProjects/swfpy/venv/lib/python3.7/site-packages/cdflib/epochs.py:1465: ResourceWarning: unclosed <ssl.SSLSocket [closed] fd=89, family=AddressFamily.AF_INET, type=SocketKind.SOCK_STREAM, proto=6>\n",
      "  component = []\n",
      "\n"
     ]
    }
   ],
   "source": [
    "from datetime import datetime, date, timedelta\n",
    "from dateutil.relativedelta import relativedelta\n",
    "\n",
    "month = datetime(2000, 1, 1)\n",
    "print(month.strftime('%Y-%m-%d'))\n",
    "for i in range(300):\n",
    "    \n",
    "    try:\n",
    "#         pyspedas.load_data('omni', [month.strftime('%Y-%m-%d')], '', '', '5min')\n",
    "        pyspedas.load_data('omni', [month.strftime('%Y-%m-%d')], '', '', '1min')\n",
    "    except IndexError:\n",
    "        print('index Error')\n",
    "    \n",
    "    month += relativedelta(months=1)\n",
    "    print(month.strftime('%Y-%m-%d'))\n"
   ]
  },
  {
   "cell_type": "code",
   "execution_count": null,
   "metadata": {},
   "outputs": [],
   "source": []
  },
  {
   "cell_type": "code",
   "execution_count": 8,
   "metadata": {},
   "outputs": [],
   "source": [
    "pytplot.tplot(['flow_speed', 'Vx', 'BZ_GSM', 'proton_density'])"
   ]
  },
  {
   "cell_type": "code",
   "execution_count": 40,
   "metadata": {},
   "outputs": [
    {
     "name": "stderr",
     "output_type": "stream",
     "text": [
      "14- 7月-19 15:47:43: /home/hirotoshi/PycharmProjects/swfpy/venv/lib/python3.7/site-packages/cdflib/epochs.py:1465: ResourceWarning: unclosed <ssl.SSLSocket [closed] fd=84, family=AddressFamily.AF_INET, type=SocketKind.SOCK_STREAM, proto=6>\n",
      "  component = []\n",
      "\n",
      "14- 7月-19 15:47:43: /home/hirotoshi/PycharmProjects/swfpy/venv/lib/python3.7/site-packages/cdflib/epochs.py:1465: ResourceWarning: unclosed <ssl.SSLSocket [closed] fd=85, family=AddressFamily.AF_INET, type=SocketKind.SOCK_STREAM, proto=6>\n",
      "  component = []\n",
      "\n",
      "14- 7月-19 15:47:43: /home/hirotoshi/PycharmProjects/swfpy/venv/lib/python3.7/site-packages/cdflib/epochs.py:1465: ResourceWarning: unclosed <ssl.SSLSocket [closed] fd=86, family=AddressFamily.AF_INET, type=SocketKind.SOCK_STREAM, proto=6>\n",
      "  component = []\n",
      "\n"
     ]
    },
    {
     "name": "stdout",
     "output_type": "stream",
     "text": [
      "1. File was downloaded. Location: /Volumes/data/pyspedas/omni/hro_5min/2001/omni_hro_5min_20010301_v01.cdf\n",
      "Downloaded 1 files.\n",
      "Loaded 44 variables.\n",
      "Time clip was applied to: IMF\n",
      "Time clip was applied to: PLS\n",
      "Time clip was applied to: IMF_PTS\n",
      "Time clip was applied to: PLS_PTS\n",
      "Time clip was applied to: percent_interp\n",
      "Time clip was applied to: Timeshift\n",
      "Time clip was applied to: RMS_Timeshift\n",
      "Time clip was applied to: Time_btwn_obs\n",
      "Time clip was applied to: F\n",
      "Time clip was applied to: BX_GSE\n",
      "Time clip was applied to: BY_GSE\n",
      "Time clip was applied to: BZ_GSE\n",
      "Time clip was applied to: BY_GSM\n",
      "Time clip was applied to: BZ_GSM\n",
      "Time clip was applied to: RMS_SD_B\n",
      "Time clip was applied to: RMS_SD_fld_vec\n",
      "Time clip was applied to: flow_speed\n",
      "Time clip was applied to: Vx\n",
      "Time clip was applied to: Vy\n",
      "Time clip was applied to: Vz\n",
      "Time clip was applied to: proton_density\n",
      "Time clip was applied to: T\n",
      "Time clip was applied to: Pressure\n",
      "Time clip was applied to: E\n",
      "Time clip was applied to: Beta\n",
      "Time clip was applied to: Mach_num\n",
      "Time clip was applied to: Mgs_mach_num\n",
      "Time clip was applied to: x\n",
      "Time clip was applied to: y\n",
      "Time clip was applied to: z\n",
      "Time clip was applied to: BSN_x\n",
      "Time clip was applied to: BSN_y\n",
      "Time clip was applied to: BSN_z\n",
      "Time clip was applied to: AE_INDEX\n",
      "Time clip was applied to: AL_INDEX\n",
      "Time clip was applied to: AU_INDEX\n",
      "Time clip was applied to: SYM_D\n",
      "Time clip was applied to: SYM_H\n",
      "Time clip was applied to: ASY_D\n",
      "Time clip was applied to: ASY_H\n",
      "Time clip was applied to: PC_N_INDEX\n",
      "Time clip was applied to: PR-FLX_10\n",
      "Time clip was applied to: PR-FLX_30\n",
      "Time clip was applied to: PR-FLX_60\n",
      "Data loading finished.\n"
     ]
    }
   ],
   "source": [
    "pytplot.del_data()\n",
    "pyspedas.load_data('omni', ['2001-03-19 04:00', '2001-03-22 21:00'], '', '', '5min')"
   ]
  },
  {
   "cell_type": "code",
   "execution_count": 43,
   "metadata": {},
   "outputs": [],
   "source": [
    "pytplot.tplot(['flow_speed', 'Vx', 'Vy', 'T'])"
   ]
  },
  {
   "cell_type": "code",
   "execution_count": 54,
   "metadata": {},
   "outputs": [
    {
     "name": "stdout",
     "output_type": "stream",
     "text": [
      "2001-03-19 04:10:00.000000\n"
     ]
    },
    {
     "data": {
      "text/plain": [
       "array([-306.2, -306.3, -306.1, -305.6, -304.2, -302.7, -308.4, -306.1,\n",
       "       -306.9, -305.9, -306. , -306.1, -308.5, -306.1, -306.1, -307.3,\n",
       "       -304.8, -304.8, -304.4, -303.4, -304.5, -304.2, -303.1, -302.4,\n",
       "       -302.6, -303.1, -302.8, -304.3, -304.1, -301.4, -301.3, -303.8,\n",
       "          nan,    nan,    nan,    nan,    nan,    nan,    nan,    nan,\n",
       "       -322.3,    nan,    nan,    nan,    nan,    nan,    nan, -323.2,\n",
       "       -323.2, -321.3,    nan,    nan,    nan,    nan,    nan,    nan,\n",
       "          nan,    nan,    nan,    nan,    nan,    nan,    nan,    nan,\n",
       "          nan,    nan,    nan,    nan,    nan,    nan,    nan,    nan,\n",
       "          nan,    nan,    nan,    nan,    nan, -375.9, -380.5, -386.3,\n",
       "       -395. , -379.3, -390.5, -385. , -388.4, -393.4, -390.3, -391.8,\n",
       "       -394.1, -395.7], dtype=float32)"
      ]
     },
     "execution_count": 54,
     "metadata": {},
     "output_type": "execute_result"
    }
   ],
   "source": [
    "from pyspedas import time_string\n",
    "print(time_string(pytplot.get_data('Vx')[0][2]))\n",
    "pytplot.get_data('Vx')[1][10:100]"
   ]
  },
  {
   "cell_type": "code",
   "execution_count": null,
   "metadata": {},
   "outputs": [],
   "source": []
  }
 ],
 "metadata": {
  "kernelspec": {
   "display_name": "Python 3",
   "language": "python",
   "name": "python3"
  },
  "language_info": {
   "codemirror_mode": {
    "name": "ipython",
    "version": 3
   },
   "file_extension": ".py",
   "mimetype": "text/x-python",
   "name": "python",
   "nbconvert_exporter": "python",
   "pygments_lexer": "ipython3",
   "version": "3.7.3"
  }
 },
 "nbformat": 4,
 "nbformat_minor": 2
}
